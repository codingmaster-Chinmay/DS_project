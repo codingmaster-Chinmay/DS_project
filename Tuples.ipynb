{
 "cells": [
  {
   "cell_type": "code",
   "execution_count": 12,
   "id": "426a55b0-fffb-4ed6-86e3-3e82cd34485b",
   "metadata": {},
   "outputs": [
    {
     "data": {
      "text/plain": [
       "'LOOP'"
      ]
     },
     "execution_count": 12,
     "metadata": {},
     "output_type": "execute_result"
    }
   ],
   "source": [
    "#Function for string operations :- part 2\n",
    "\n",
    "s = 'jacobian'\n",
    "s\n",
    "s1 = 'LOOP'\n",
    "s1\n",
    "#strings are mutable and they can be changed or mutated\n",
    "#slicing creates a new copy of string"
   ]
  },
  {
   "cell_type": "code",
   "execution_count": 9,
   "id": "02efbe31-812d-43a5-901d-ea301962b80e",
   "metadata": {},
   "outputs": [
    {
     "data": {
      "text/plain": [
       "'Jacobian'"
      ]
     },
     "execution_count": 9,
     "metadata": {},
     "output_type": "execute_result"
    }
   ],
   "source": [
    "#for capitalize the first letter of the string use \n",
    "#capitalize method\n",
    "r = s.capitalize()\n",
    "r\n",
    "\n",
    "#it doesnt not stores the change we need to store the change in  different variable\n",
    "#the position of th original string cannot be changed ,either we have to change the main position of the string\n"
   ]
  },
  {
   "cell_type": "code",
   "execution_count": 10,
   "id": "5a6a0598-9372-41ec-b8e7-44b5fda6797a",
   "metadata": {},
   "outputs": [
    {
     "data": {
      "text/plain": [
       "'JACOBIAN'"
      ]
     },
     "execution_count": 10,
     "metadata": {},
     "output_type": "execute_result"
    }
   ],
   "source": [
    "#to Capitalize everything that is each and every letter in string\n",
    "s.upper()\n"
   ]
  },
  {
   "cell_type": "code",
   "execution_count": 14,
   "id": "8f355a2f-4080-467a-888a-4ac76825f20f",
   "metadata": {},
   "outputs": [
    {
     "data": {
      "text/plain": [
       "'loop'"
      ]
     },
     "execution_count": 14,
     "metadata": {},
     "output_type": "execute_result"
    }
   ],
   "source": [
    "#To convert whole string into smaller letters or small case we need \n",
    "#to use .lower()\n",
    "s1.lower()\n",
    "#casefold() - used to convert to smallercase\n",
    "s1.casefold()\n"
   ]
  },
  {
   "cell_type": "code",
   "execution_count": 15,
   "id": "2c069daa-68c2-4f60-b4c8-02798f17499d",
   "metadata": {},
   "outputs": [
    {
     "data": {
      "text/plain": [
       "False"
      ]
     },
     "execution_count": 15,
     "metadata": {},
     "output_type": "execute_result"
    }
   ],
   "source": [
    "#If we have to check whether the string has upper case or lower case \n",
    "#to know the compositon of the string if we dont know the data\n",
    "#It uses the true or false answers to get to know about uppercase and lower case\n",
    "\n",
    "s.isupper()"
   ]
  },
  {
   "cell_type": "code",
   "execution_count": 16,
   "id": "c4ecba92-7f58-47a0-bc51-c033cc139e31",
   "metadata": {},
   "outputs": [
    {
     "data": {
      "text/plain": [
       "False"
      ]
     },
     "execution_count": 16,
     "metadata": {},
     "output_type": "execute_result"
    }
   ],
   "source": [
    "s1.islower()\n",
    "#It is just used to know about the alphabetical format of string\n",
    "#every function starting with 'is' is a question to string "
   ]
  },
  {
   "cell_type": "code",
   "execution_count": 19,
   "id": "4164654b-682c-42c8-b0a9-33b64f1a58f0",
   "metadata": {},
   "outputs": [
    {
     "ename": "AttributeError",
     "evalue": "'str' object has no attribute 'alpha'",
     "output_type": "error",
     "traceback": [
      "\u001b[1;31m---------------------------------------------------------------------------\u001b[0m",
      "\u001b[1;31mAttributeError\u001b[0m                            Traceback (most recent call last)",
      "Cell \u001b[1;32mIn[19], line 6\u001b[0m\n\u001b[0;32m      3\u001b[0m \u001b[38;5;66;03m#to check whether it is alphanumeric or not use \u001b[39;00m\n\u001b[0;32m      4\u001b[0m s\u001b[38;5;241m.\u001b[39misalnum() \u001b[38;5;66;03m#returns true as it has both aplha and numeric value\u001b[39;00m\n\u001b[1;32m----> 6\u001b[0m \u001b[43ms2\u001b[49m\u001b[38;5;241;43m.\u001b[39;49m\u001b[43malpha\u001b[49m()\n",
      "\u001b[1;31mAttributeError\u001b[0m: 'str' object has no attribute 'alpha'"
     ]
    }
   ],
   "source": [
    "#There is concept of alpha - numeric strings that is both alphabets and strings are present in string\n",
    "s2 = 'loop78'\n",
    "#to check whether it is alphanumeric or not use \n",
    "s.isalnum() #returns true as it has both aplha and numeric value\n",
    "\n"
   ]
  },
  {
   "cell_type": "code",
   "execution_count": 25,
   "id": "19572aee-885e-4838-92bd-2f03256a3bb6",
   "metadata": {},
   "outputs": [
    {
     "data": {
      "text/plain": [
       "True"
      ]
     },
     "execution_count": 25,
     "metadata": {},
     "output_type": "execute_result"
    }
   ],
   "source": [
    "s2.isalpha() # returns false\n",
    "#isalpha() is used to know whether  the the sting has only alphabets or not.\n",
    "\n",
    "s2.isdigit() # returns false\n",
    "# isdigit() is used to check whether the following the variable has only characters \n",
    "s3 = '234'\n",
    "s3\n",
    "s3.isdigit()"
   ]
  },
  {
   "cell_type": "code",
   "execution_count": 26,
   "id": "8d0a5a8a-70e5-4ab4-8da3-defd8437c86f",
   "metadata": {},
   "outputs": [
    {
     "data": {
      "text/plain": [
       "1"
      ]
     },
     "execution_count": 26,
     "metadata": {},
     "output_type": "execute_result"
    }
   ],
   "source": [
    "#index() function is used to return at what position the value of that data or element is present\n",
    "#we have to pass the argument to the function \n",
    "\n",
    "s3.index('3')\n"
   ]
  },
  {
   "cell_type": "code",
   "execution_count": 27,
   "id": "6cf452f8-712e-40fc-9a7c-a8c62eb293ac",
   "metadata": {},
   "outputs": [
    {
     "data": {
      "text/plain": [
       "True"
      ]
     },
     "execution_count": 27,
     "metadata": {},
     "output_type": "execute_result"
    }
   ],
   "source": [
    "s3.isdecimal()  #to check whether the string has decimal numbers or not"
   ]
  },
  {
   "cell_type": "code",
   "execution_count": 3,
   "id": "02521571-3eb6-44a2-8a19-1525a8391145",
   "metadata": {},
   "outputs": [
    {
     "data": {
      "text/plain": [
       "'79'"
      ]
     },
     "execution_count": 3,
     "metadata": {},
     "output_type": "execute_result"
    }
   ],
   "source": [
    "#Strings cannot return the change they are the copy of original string\n",
    "s4 = '78'\n",
    "s4\n",
    "#replace()  function used to replace the value of any digit in the string \n",
    "#just use the function and mention the original number and the number \n",
    "#to be changed\n",
    "\n",
    "s4.replace('8','9')\n",
    "#using the function is creating another copy of the string and it can\n",
    "#or cannot be stored in variable\n"
   ]
  },
  {
   "cell_type": "code",
   "execution_count": 5,
   "id": "6324916e-7d16-4ca9-9a90-4db73911f863",
   "metadata": {},
   "outputs": [
    {
     "data": {
      "text/plain": [
       "'78000900'"
      ]
     },
     "execution_count": 5,
     "metadata": {},
     "output_type": "execute_result"
    }
   ],
   "source": [
    "#concatenation of strings\n",
    "s4 + '000'\n",
    "s4 + '000' + '900'\n",
    "#joining of string\n"
   ]
  },
  {
   "cell_type": "code",
   "execution_count": 15,
   "id": "44ed67b9-43a9-4124-829d-3a023333575d",
   "metadata": {},
   "outputs": [
    {
     "data": {
      "text/plain": [
       "'world'"
      ]
     },
     "execution_count": 15,
     "metadata": {},
     "output_type": "execute_result"
    }
   ],
   "source": [
    "#strip function\n",
    "s5 = '   hello'\n",
    "s5\n",
    "s5.strip()\n",
    "s5.lstrip()\n",
    "#strip() function is used to avoid unusual gaps spaces iin strings\n",
    "#there are two types of strips - lstrip and rstrip \n",
    "\n",
    "s6 = 'world  '\n",
    "s6.rstrip()\n"
   ]
  },
  {
   "cell_type": "code",
   "execution_count": 17,
   "id": "5b54d9dc-1d16-4c3c-96b9-7f8182628895",
   "metadata": {},
   "outputs": [
    {
     "data": {
      "text/plain": [
       "3"
      ]
     },
     "execution_count": 17,
     "metadata": {},
     "output_type": "execute_result"
    }
   ],
   "source": [
    "#find() function used to find the particular character in string\n",
    "# it returns the index value of that element\n",
    "s5.find('q')\n",
    "\n",
    "#if it returns -1 then char is not present in that string\n",
    "s5.find('h')\n"
   ]
  },
  {
   "cell_type": "code",
   "execution_count": 22,
   "id": "f1ed2ec9-74cf-4137-8168-6a7bd3adcc0f",
   "metadata": {},
   "outputs": [
    {
     "data": {
      "text/plain": [
       "'hi@python'"
      ]
     },
     "execution_count": 22,
     "metadata": {},
     "output_type": "execute_result"
    }
   ],
   "source": [
    "#concatenation\n",
    "s7 = 'hi'\n",
    "s8 = '@python'\n",
    "s7 + s8"
   ]
  },
  {
   "cell_type": "code",
   "execution_count": 27,
   "id": "e83f0304-1aa3-42ba-93aa-5b53d9b50db8",
   "metadata": {},
   "outputs": [
    {
     "data": {
      "text/plain": [
       "'python'"
      ]
     },
     "execution_count": 27,
     "metadata": {},
     "output_type": "execute_result"
    }
   ],
   "source": [
    "\n",
    "\n",
    "\n",
    "# TUPLES : - \n",
    "#tuples are like lists they are collection of elements call collective datatypes \n",
    "#lists are represented in square bracket where as tuples are written in \n",
    "#parenthesis that is open brackets.\n",
    "\n",
    "#tuples are immutable\n",
    "#tuples are have indexing which starts from 0 and ends with -1\n",
    "j = (1,'python')\n",
    "j\n",
    "\n",
    "\n",
    "#type() function used to know the type of the datatype\n",
    "type(j)\n",
    "\n",
    "\n",
    "j[0] - #returns 1 as output\n",
    "\n",
    "\n",
    "j[-1] #returns python as output in tuple\n",
    "# tuples are immutabe"
   ]
  },
  {
   "cell_type": "code",
   "execution_count": 28,
   "id": "cac70536-507d-48d7-851d-7dbf70244534",
   "metadata": {},
   "outputs": [
    {
     "ename": "TypeError",
     "evalue": "'tuple' object does not support item assignment",
     "output_type": "error",
     "traceback": [
      "\u001b[1;31m---------------------------------------------------------------------------\u001b[0m",
      "\u001b[1;31mTypeError\u001b[0m                                 Traceback (most recent call last)",
      "Cell \u001b[1;32mIn[28], line 1\u001b[0m\n\u001b[1;32m----> 1\u001b[0m \u001b[43mj\u001b[49m\u001b[43m[\u001b[49m\u001b[38;5;241;43m0\u001b[39;49m\u001b[43m]\u001b[49m \u001b[38;5;241m=\u001b[39m \u001b[38;5;241m4\u001b[39m\n",
      "\u001b[1;31mTypeError\u001b[0m: 'tuple' object does not support item assignment"
     ]
    }
   ],
   "source": [
    "j[0] = 4"
   ]
  },
  {
   "cell_type": "code",
   "execution_count": 29,
   "id": "e739c078-bc4f-4af1-b5a3-746074407824",
   "metadata": {},
   "outputs": [
    {
     "data": {
      "text/plain": [
       "0"
      ]
     },
     "execution_count": 29,
     "metadata": {},
     "output_type": "execute_result"
    }
   ],
   "source": [
    "#Functions and methods for tuples: - \n",
    "\n",
    "\n",
    "#index/sort function:-\n",
    "j.index(1)\n",
    "#returns the index number of data\n"
   ]
  },
  {
   "cell_type": "code",
   "execution_count": 30,
   "id": "dc9778c2-5179-431c-9b50-d3cb5dcb4a1d",
   "metadata": {},
   "outputs": [
    {
     "data": {
      "text/plain": [
       "1"
      ]
     },
     "execution_count": 30,
     "metadata": {},
     "output_type": "execute_result"
    }
   ],
   "source": [
    "j.index('python')"
   ]
  },
  {
   "cell_type": "code",
   "execution_count": 31,
   "id": "04366bfc-1a95-49d1-a181-f9e9f3bb529b",
   "metadata": {},
   "outputs": [
    {
     "ename": "ValueError",
     "evalue": "tuple.index(x): x not in tuple",
     "output_type": "error",
     "traceback": [
      "\u001b[1;31m---------------------------------------------------------------------------\u001b[0m",
      "\u001b[1;31mValueError\u001b[0m                                Traceback (most recent call last)",
      "Cell \u001b[1;32mIn[31], line 1\u001b[0m\n\u001b[1;32m----> 1\u001b[0m \u001b[43mj\u001b[49m\u001b[38;5;241;43m.\u001b[39;49m\u001b[43mindex\u001b[49m\u001b[43m(\u001b[49m\u001b[38;5;241;43m2\u001b[39;49m\u001b[43m)\u001b[49m\n",
      "\u001b[1;31mValueError\u001b[0m: tuple.index(x): x not in tuple"
     ]
    }
   ],
   "source": [
    "j.index(2)\n",
    "#no element 2 in tuple present"
   ]
  },
  {
   "cell_type": "code",
   "execution_count": 34,
   "id": "4d4707c0-c625-42ce-ac7d-4de1d198c012",
   "metadata": {},
   "outputs": [
    {
     "data": {
      "text/plain": [
       "2"
      ]
     },
     "execution_count": 34,
     "metadata": {},
     "output_type": "execute_result"
    }
   ],
   "source": [
    "#count() method : -\n",
    "j1 = (1,1,'python')\n",
    "j1\n",
    "j1.count(1)\n",
    "#returns how many times the data as argument in function has occured "
   ]
  },
  {
   "cell_type": "code",
   "execution_count": 48,
   "id": "ced7b5d5-0756-45bb-b61f-b3b2c0b91b8a",
   "metadata": {},
   "outputs": [
    {
     "data": {
      "text/plain": [
       "{2, 3, 6}"
      ]
     },
     "execution_count": 48,
     "metadata": {},
     "output_type": "execute_result"
    }
   ],
   "source": [
    "#SETS: - \n",
    "#sets are also colletion of items\n",
    "#it does not contains any duplicate value\n",
    "#it contains only unique values and denoted in braces{}\n",
    "\n",
    "set1 = {1,2,3}\n",
    "set1\n",
    "set3 = {2,3,6}\n",
    "set3"
   ]
  },
  {
   "cell_type": "code",
   "execution_count": 37,
   "id": "c195794c-6e23-404d-8274-c9d6e9d0d04e",
   "metadata": {},
   "outputs": [
    {
     "data": {
      "text/plain": [
       "set"
      ]
     },
     "execution_count": 37,
     "metadata": {},
     "output_type": "execute_result"
    }
   ],
   "source": [
    "type(set1)"
   ]
  },
  {
   "cell_type": "code",
   "execution_count": 39,
   "id": "857c72ce-670c-4b8c-a110-28da11efe13a",
   "metadata": {},
   "outputs": [
    {
     "data": {
      "text/plain": [
       "{1, 2, 3}"
      ]
     },
     "execution_count": 39,
     "metadata": {},
     "output_type": "execute_result"
    }
   ],
   "source": [
    "set0 = {1,2,3,3}\n",
    "set0 \n",
    "#there is no any error if there are any duplicate values \n",
    "#set automatically returns the single value and neglects the duplicate values"
   ]
  },
  {
   "cell_type": "code",
   "execution_count": 41,
   "id": "af49ac65-8b09-4bf6-9235-b83f4af4d5ba",
   "metadata": {},
   "outputs": [
    {
     "data": {
      "text/plain": [
       "{1, 2, 4}"
      ]
     },
     "execution_count": 41,
     "metadata": {},
     "output_type": "execute_result"
    }
   ],
   "source": [
    "set2 = {1,1,2,4,4}\n",
    "set2"
   ]
  },
  {
   "cell_type": "code",
   "execution_count": 44,
   "id": "255190af-d746-461a-9adb-66ad56533ae6",
   "metadata": {},
   "outputs": [
    {
     "data": {
      "text/plain": [
       "[1, 2, 3, 4]"
      ]
     },
     "execution_count": 44,
     "metadata": {},
     "output_type": "execute_result"
    }
   ],
   "source": [
    "#we can also use keyword set for converting any datatype to set to avoid \n",
    "#duplicate values\n",
    "l1 = [1,2,3,4,4]\n",
    "list(set(l1))\n",
    "#set used as keyword"
   ]
  },
  {
   "cell_type": "code",
   "execution_count": 46,
   "id": "896a2bef-cae9-4a28-a7f0-52cc9b667c82",
   "metadata": {},
   "outputs": [
    {
     "data": {
      "text/plain": [
       "{1, 'python'}"
      ]
     },
     "execution_count": 46,
     "metadata": {},
     "output_type": "execute_result"
    }
   ],
   "source": [
    "j\n",
    "set(j)#converted to set by using keyword\n",
    "\n"
   ]
  },
  {
   "cell_type": "code",
   "execution_count": 49,
   "id": "fc555d64-bdd1-433f-ba1f-e05727c3eecf",
   "metadata": {},
   "outputs": [
    {
     "data": {
      "text/plain": [
       "{2, 3}"
      ]
     },
     "execution_count": 49,
     "metadata": {},
     "output_type": "execute_result"
    }
   ],
   "source": [
    "#Set operations:- \n",
    "set1.intersection(set3)\n",
    "#intersections take common values "
   ]
  },
  {
   "cell_type": "code",
   "execution_count": 50,
   "id": "7b9fba83-871b-44cc-9974-9d670366a5be",
   "metadata": {},
   "outputs": [
    {
     "data": {
      "text/plain": [
       "{1, 2, 3, 6}"
      ]
     },
     "execution_count": 50,
     "metadata": {},
     "output_type": "execute_result"
    }
   ],
   "source": [
    "set1.union(set3)\n",
    "#all values are included in union without repetation"
   ]
  },
  {
   "cell_type": "code",
   "execution_count": 51,
   "id": "dfef103e-2529-46c1-809f-0dc0b1f82df0",
   "metadata": {},
   "outputs": [
    {
     "data": {
      "text/plain": [
       "{1}"
      ]
     },
     "execution_count": 51,
     "metadata": {},
     "output_type": "execute_result"
    }
   ],
   "source": [
    "set1.difference(set3)"
   ]
  },
  {
   "cell_type": "code",
   "execution_count": 54,
   "id": "5bca95bc-6562-4934-a72b-cc4800669aa0",
   "metadata": {},
   "outputs": [
    {
     "ename": "KeyError",
     "evalue": "'pop from an empty set'",
     "output_type": "error",
     "traceback": [
      "\u001b[1;31m---------------------------------------------------------------------------\u001b[0m",
      "\u001b[1;31mKeyError\u001b[0m                                  Traceback (most recent call last)",
      "Cell \u001b[1;32mIn[54], line 2\u001b[0m\n\u001b[0;32m      1\u001b[0m \u001b[38;5;66;03m#pop() function in sets pops out the first element always\u001b[39;00m\n\u001b[1;32m----> 2\u001b[0m \u001b[43mset1\u001b[49m\u001b[38;5;241;43m.\u001b[39;49m\u001b[43mpop\u001b[49m\u001b[43m(\u001b[49m\u001b[43m)\u001b[49m\n\u001b[0;32m      3\u001b[0m set1\u001b[38;5;241m.\u001b[39mpop()\n\u001b[0;32m      4\u001b[0m set1\u001b[38;5;241m.\u001b[39mpop()\n",
      "\u001b[1;31mKeyError\u001b[0m: 'pop from an empty set'"
     ]
    }
   ],
   "source": [
    "#pop() function in sets pops out the first element always\n",
    "set1.pop()\n",
    "set1.pop()\n",
    "set1.pop()"
   ]
  },
  {
   "cell_type": "code",
   "execution_count": 58,
   "id": "466fad93-127b-4672-bcd1-34194a50b7d6",
   "metadata": {},
   "outputs": [
    {
     "data": {
      "text/plain": [
       "{2, 3}"
      ]
     },
     "execution_count": 58,
     "metadata": {},
     "output_type": "execute_result"
    }
   ],
   "source": [
    "s = {1,2,3}\n",
    "s\n",
    "g = {2,3}\n",
    "g\n",
    "\n",
    "#subsets\n",
    "\n",
    "#to check whether one set is subset of other or not\n",
    "\n"
   ]
  },
  {
   "cell_type": "code",
   "execution_count": 59,
   "id": "40411637-d178-43b0-a0b0-e626f4f9f00d",
   "metadata": {},
   "outputs": [
    {
     "data": {
      "text/plain": [
       "False"
      ]
     },
     "execution_count": 59,
     "metadata": {},
     "output_type": "execute_result"
    }
   ],
   "source": [
    "#issubset() function is used to check subset\n",
    "\n",
    "s.issubset(g)\n",
    "#s is not suubset of g"
   ]
  },
  {
   "cell_type": "code",
   "execution_count": 60,
   "id": "9f4cfdcb-0fc5-47cc-9181-04622501b52a",
   "metadata": {},
   "outputs": [
    {
     "data": {
      "text/plain": [
       "True"
      ]
     },
     "execution_count": 60,
     "metadata": {},
     "output_type": "execute_result"
    }
   ],
   "source": [
    "g.issubset(s)\n",
    "#g is subset of s "
   ]
  },
  {
   "cell_type": "markdown",
   "id": "1cac6e8b-a660-4c02-ab0c-6ba66fba325e",
   "metadata": {},
   "source": [
    "#These are built in datatypes in python\n",
    "\n"
   ]
  },
  {
   "cell_type": "code",
   "execution_count": 61,
   "id": "4c13c36f-7273-4983-9adf-ffd59f6d2bb7",
   "metadata": {},
   "outputs": [
    {
     "data": {
      "text/plain": [
       "9"
      ]
     },
     "execution_count": 61,
     "metadata": {},
     "output_type": "execute_result"
    }
   ],
   "source": [
    "#There are also primitive datatypes in python\n",
    "#int,float,string\n",
    "\n",
    "#keywords - int,float,str\n",
    "\n",
    "int(9.77)\n",
    "#converts decimal to integer"
   ]
  },
  {
   "cell_type": "code",
   "execution_count": 62,
   "id": "6e8ab08e-cbf4-4ed1-a576-2d4bcad51e34",
   "metadata": {},
   "outputs": [
    {
     "data": {
      "text/plain": [
       "'9'"
      ]
     },
     "execution_count": 62,
     "metadata": {},
     "output_type": "execute_result"
    }
   ],
   "source": [
    "str(9)\n",
    "#converted integer to string by quoatation"
   ]
  }
 ],
 "metadata": {
  "kernelspec": {
   "display_name": "Python 3 (ipykernel)",
   "language": "python",
   "name": "python3"
  },
  "language_info": {
   "codemirror_mode": {
    "name": "ipython",
    "version": 3
   },
   "file_extension": ".py",
   "mimetype": "text/x-python",
   "name": "python",
   "nbconvert_exporter": "python",
   "pygments_lexer": "ipython3",
   "version": "3.13.0"
  }
 },
 "nbformat": 4,
 "nbformat_minor": 5
}
