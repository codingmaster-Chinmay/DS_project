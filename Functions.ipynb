{
 "cells": [
  {
   "cell_type": "code",
   "execution_count": null,
   "id": "b85aae85-b2dc-4755-ae2b-dd671c099451",
   "metadata": {},
   "outputs": [],
   "source": [
    "#Functions - print()\n",
    "#len()\n",
    "#range()\n",
    "#functions are the block of code used repetatively to avoid the more number of codes\n",
    "#so Functions are used\n",
    "\n",
    "#Syntax  - def function_name():\n",
    "\n",
    "#def used for defining \n",
    "\n",
    "#there is indentation for functions too\n"
   ]
  },
  {
   "cell_type": "code",
   "execution_count": 2,
   "id": "72cd8b51-17a3-472a-b082-d208bd3f2422",
   "metadata": {},
   "outputs": [
    {
     "name": "stdout",
     "output_type": "stream",
     "text": [
      "Hi There\n",
      "Welcome aboard\n"
     ]
    }
   ],
   "source": [
    "def greeting(): # defining function\n",
    "    print(\"Hi There\")\n",
    "    print(\"Welcome aboard\")\n",
    "\n",
    "greeting()    #function call - you need to call the function to execute it"
   ]
  },
  {
   "cell_type": "code",
   "execution_count": null,
   "id": "ab21f562-1099-4b28-b9cc-eb03045ae72d",
   "metadata": {},
   "outputs": [],
   "source": [
    "#Function Arguments: -\n",
    "#there are two types of functions\n",
    "\n",
    "#1.Inbuild functions\n",
    "#2.user defined functions\n",
    "\n",
    "#print function takes parameters from user\n",
    "#greeting function used arguments\n",
    "\n",
    "\n",
    "#parameter - input for that function\n",
    "#argument - actual data for the function"
   ]
  },
  {
   "cell_type": "code",
   "execution_count": 4,
   "id": "6341482b-b8da-494a-b7f6-90d333f0e31b",
   "metadata": {},
   "outputs": [
    {
     "name": "stdout",
     "output_type": "stream",
     "text": [
      "Hi,Dead End\n",
      "Welcome ! aboard\n"
     ]
    }
   ],
   "source": [
    "def greeting(first_name,last_name):\n",
    "    print(f\"Hi,{first_name} {last_name}\") #formatted string\n",
    "    # arguments used to dispplay\n",
    "    print(\"Welcome ! aboard\")\n",
    "\n",
    "greeting(\"Dead\",\"End\")# arguments\n"
   ]
  },
  {
   "cell_type": "code",
   "execution_count": 5,
   "id": "f8f7682e-8b59-4610-a5f3-2114fc822a83",
   "metadata": {},
   "outputs": [
    {
     "name": "stdout",
     "output_type": "stream",
     "text": [
      "Hi,Sameer Yadav\n",
      "Welcome ! aboard\n"
     ]
    }
   ],
   "source": [
    "greeting(\"Sameer\", \"Yadav\")\n",
    "#arguments sameer and yadav replaced instead of firrst_name and last_name"
   ]
  },
  {
   "cell_type": "code",
   "execution_count": 6,
   "id": "77e46ca3-3000-43a3-ac50-237dd864222e",
   "metadata": {},
   "outputs": [
    {
     "ename": "TypeError",
     "evalue": "greeting() missing 1 required positional argument: 'last_name'",
     "output_type": "error",
     "traceback": [
      "\u001b[1;31m---------------------------------------------------------------------------\u001b[0m",
      "\u001b[1;31mTypeError\u001b[0m                                 Traceback (most recent call last)",
      "Cell \u001b[1;32mIn[6], line 2\u001b[0m\n\u001b[0;32m      1\u001b[0m \u001b[38;5;66;03m#It generates error if one of the arguments is not passed\u001b[39;00m\n\u001b[1;32m----> 2\u001b[0m \u001b[43mgreeting\u001b[49m\u001b[43m(\u001b[49m\u001b[38;5;124;43m\"\u001b[39;49m\u001b[38;5;124;43mSameer\u001b[39;49m\u001b[38;5;124;43m\"\u001b[39;49m\u001b[43m)\u001b[49m\n",
      "\u001b[1;31mTypeError\u001b[0m: greeting() missing 1 required positional argument: 'last_name'"
     ]
    }
   ],
   "source": [
    "#It generates error if one of the arguments is not passed\n",
    "greeting(\"Sameer\")"
   ]
  },
  {
   "cell_type": "code",
   "execution_count": null,
   "id": "435dcde7-bfb3-4684-bec0-bffae36a40d1",
   "metadata": {},
   "outputs": [],
   "source": [
    "#python functions:-\n",
    "#A function is a block of code which only runs when it is called\n",
    "#You can pass data,known as parameters ,into a function.\n",
    "#A function can return data as a result.\n"
   ]
  },
  {
   "cell_type": "code",
   "execution_count": 1,
   "id": "1cd05b1a-6b56-4369-90e2-cd36d5b542b6",
   "metadata": {},
   "outputs": [],
   "source": [
    "def my_function():\n",
    "    print(\"Hello from a function\")"
   ]
  },
  {
   "cell_type": "code",
   "execution_count": 2,
   "id": "4838eb08-ef32-4f16-940c-4b4de701d5ad",
   "metadata": {},
   "outputs": [
    {
     "name": "stdout",
     "output_type": "stream",
     "text": [
      "Hello from a function\n"
     ]
    }
   ],
   "source": [
    "my_function()\n"
   ]
  },
  {
   "cell_type": "code",
   "execution_count": null,
   "id": "ac2f3c04-8abf-491f-9183-4c3871d5b6ea",
   "metadata": {},
   "outputs": [],
   "source": [
    "#Calling a function \n",
    "#To call a function,use the function name followed by parenthesis:\n"
   ]
  },
  {
   "cell_type": "code",
   "execution_count": null,
   "id": "4cac2b60-080c-4838-8f7f-9612f5bbf3ae",
   "metadata": {},
   "outputs": [],
   "source": [
    "def my_function():\n",
    "    print(\"Hello from a function\")\n",
    "\n",
    "    #This is function definition\n",
    " #To call the function  that is t o execute it we need to call it by its name\n",
    "    "
   ]
  },
  {
   "cell_type": "code",
   "execution_count": 3,
   "id": "ab036eb8-d4e9-43ec-8d5c-41983a50731f",
   "metadata": {},
   "outputs": [
    {
     "name": "stdout",
     "output_type": "stream",
     "text": [
      "Hello from a function\n"
     ]
    }
   ],
   "source": [
    "#function call\n",
    "my_function()"
   ]
  },
  {
   "cell_type": "code",
   "execution_count": null,
   "id": "cad84e90-9407-4e28-aecb-1d892264c84b",
   "metadata": {},
   "outputs": [],
   "source": [
    "#Arguments :\n",
    "#Information can be passed into functions as arguments.\n",
    "#Arguments are specified after the function name, inside the parenthesis .\n",
    "#you can add as many arguments as you want,just seperate them with a comma\n"
   ]
  },
  {
   "cell_type": "code",
   "execution_count": 4,
   "id": "e3be8617-9f3e-4d46-b49f-8f64fde50855",
   "metadata": {},
   "outputs": [],
   "source": [
    "def my_function(fname):\n",
    "    #function argument - fname\n",
    "    print(fname + \"Refsnes\")#concatenation of string with fname"
   ]
  },
  {
   "cell_type": "code",
   "execution_count": 7,
   "id": "2f4ed91f-31d4-4df6-8643-ed27cdb36808",
   "metadata": {},
   "outputs": [
    {
     "name": "stdout",
     "output_type": "stream",
     "text": [
      "EmilRefsnes\n",
      "TobiasRefsnes\n",
      "LinusRefsnes\n"
     ]
    }
   ],
   "source": [
    "my_function(\"Emil\")\n",
    "my_function(\"Tobias\")\n",
    "my_function(\"Linus\")"
   ]
  },
  {
   "cell_type": "code",
   "execution_count": null,
   "id": "baceb5a9-e979-4bc1-84f5-047b77fc169c",
   "metadata": {},
   "outputs": [],
   "source": [
    "#parameter:- A parameter is the variable listed inside the parenthesis in the function definition.\n",
    "#Argument:- An argument is the value that is sent to the function when it is called"
   ]
  },
  {
   "cell_type": "code",
   "execution_count": 1,
   "id": "86ece2ac-6a13-479f-9178-f5ddd015db7d",
   "metadata": {},
   "outputs": [
    {
     "name": "stdout",
     "output_type": "stream",
     "text": [
      "Emil Refsnes\n"
     ]
    }
   ],
   "source": [
    "#Number of Arguments:-\n",
    "#By default, a function must be called with the correct number os arguments.\n",
    "#Meaning that if your function expects 2 arguments , you have to call the function with 2 arguments ,not more, and not less.\n",
    "def my_function(fname,lname):\n",
    "    print(fname + \" \" + lname)\n",
    "\n",
    "my_function(\"Emil\", \"Refsnes\")    "
   ]
  },
  {
   "cell_type": "code",
   "execution_count": null,
   "id": "99b83cee-8b75-418e-9683-e06f93e1b774",
   "metadata": {},
   "outputs": [],
   "source": [
    "# Arbitary Arguments:- (*args)\n",
    "#If we are not know how many arguments that will be passed into your \n",
    "#function,add a (*) before the parameter name in the function definition."
   ]
  },
  {
   "cell_type": "code",
   "execution_count": null,
   "id": "065d0d37-3062-4f0f-bb14-2ac5607ef7d7",
   "metadata": {},
   "outputs": [],
   "source": [
    "#This way the function will receive a tuple pf arguments , and can access\n",
    "#items accordingly:\n"
   ]
  },
  {
   "cell_type": "code",
   "execution_count": 2,
   "id": "eb988094-23e4-44d7-97d4-1a4c78ed332d",
   "metadata": {},
   "outputs": [
    {
     "name": "stdout",
     "output_type": "stream",
     "text": [
      "The youngest child is Linus\n"
     ]
    }
   ],
   "source": [
    "def my_function(*kids):\n",
    "    #kids - the array 'kids' argument is accessed by index number\n",
    "    print(\"The youngest child is \" + kids[2])\n",
    "    #kids index number 2 is 'Linus'\n",
    "\n",
    "my_function(\"Emil\", \"Tobias\",\"Linus\")    "
   ]
  },
  {
   "cell_type": "code",
   "execution_count": null,
   "id": "57e330da-e8e6-488f-9fef-67e9a4413b82",
   "metadata": {},
   "outputs": [],
   "source": [
    "#Arbitrary Arguments are often shortened to *args in python documentations."
   ]
  },
  {
   "cell_type": "code",
   "execution_count": null,
   "id": "1d7017f5-5f09-4647-953d-2f6bb8b358e0",
   "metadata": {},
   "outputs": [],
   "source": [
    "#Keyword Arguments\n",
    "#You can also send arguments with the key = value syntax.\n",
    "#This way the order of the arguments does not matter."
   ]
  },
  {
   "cell_type": "code",
   "execution_count": 3,
   "id": "ddbdb285-3903-422a-a38d-f006b19422d9",
   "metadata": {},
   "outputs": [
    {
     "name": "stdout",
     "output_type": "stream",
     "text": [
      "The youngest child is Linus\n"
     ]
    }
   ],
   "source": [
    "def my_function(child3,child2,child1):\n",
    "    print(\"The youngest child is \"+ child3)\n",
    "my_function(child1 = \"Emil\",child2 = \"Tobias\",child3 = \"Linus\")    \n",
    "    \n"
   ]
  },
  {
   "cell_type": "code",
   "execution_count": null,
   "id": "95b889c0-b53f-456b-8a88-30f2e14eb5be",
   "metadata": {},
   "outputs": [],
   "source": [
    "#The phrase keyword Arguments are often shortened to kwargs in python\n",
    "#documentations.\n"
   ]
  },
  {
   "cell_type": "code",
   "execution_count": null,
   "id": "e7cbc6fa-5afa-4d3e-85ff-8ed0744992ca",
   "metadata": {},
   "outputs": [],
   "source": [
    "#Arbitrary keyword Arguments,(**kwargs)"
   ]
  },
  {
   "cell_type": "code",
   "execution_count": null,
   "id": "46a01b54-2e2f-4e10-86f6-dccf207af1dc",
   "metadata": {},
   "outputs": [],
   "source": [
    "#If you do not know how many keyword arguements that will be passed \n",
    "#into your function ,add two asterisk: ** before the parameter name \n",
    "#in the function definition.\n"
   ]
  },
  {
   "cell_type": "code",
   "execution_count": null,
   "id": "7b3488d4-6ebf-4ed5-bd7c-8cff8c3e187c",
   "metadata": {},
   "outputs": [],
   "source": [
    "#This way the function will receive a dictionary of arguments,and can\n",
    "#acess the items accordingly:"
   ]
  },
  {
   "cell_type": "code",
   "execution_count": 4,
   "id": "33147202-a71d-4999-94df-6500893a9572",
   "metadata": {},
   "outputs": [
    {
     "name": "stdout",
     "output_type": "stream",
     "text": [
      "His last name is Refsnes\n"
     ]
    }
   ],
   "source": [
    "def my_function(**kid):\n",
    "    print(\"His last name is \" + kid[\"lname\"])\n",
    "\n",
    "my_function(fname = \"Tobias\" , lname = \"Refsnes\") \n",
    "#here key and value dictionary is used"
   ]
  },
  {
   "cell_type": "code",
   "execution_count": 7,
   "id": "38e07900-be14-4ca6-bb3c-e42bf065c055",
   "metadata": {},
   "outputs": [
    {
     "name": "stdout",
     "output_type": "stream",
     "text": [
      "I am from Sweden\n",
      "I am from India\n",
      "I am from Norway\n",
      "I am from Brazil\n"
     ]
    }
   ],
   "source": [
    "#Default parameter value\n",
    "#If we call the function without argument, it uses the default value:\n",
    "def my_function(country = \"Norway\"):\n",
    "    print(\"I am from \" + country)#argument\n",
    "\n",
    "my_function(\"Sweden\")  \n",
    "#argument is passed \n",
    "my_function(\"India\")\n",
    "my_function()#default parameter value is taken in the function\n",
    "my_function(\"Brazil\")"
   ]
  },
  {
   "cell_type": "code",
   "execution_count": 6,
   "id": "b08ae6c3-feae-430d-bc99-7e12d1d4e91b",
   "metadata": {},
   "outputs": [
    {
     "name": "stdout",
     "output_type": "stream",
     "text": [
      "apple\n",
      "banana\n",
      "cheery\n"
     ]
    }
   ],
   "source": [
    "#passing a List as an Argument\n",
    "#you can send any data types or arguments to a function(string,number,)\n",
    "#list,dictionary,etc.) and it will be treated as the same datatype inside\n",
    "#function.\n",
    "def my_function(food):\n",
    "    for x in food:\n",
    "        print(x)\n",
    "fruits = [\"apple\", \"banana\", \"cheery\"] \n",
    "\n",
    "my_function(fruits)"
   ]
  },
  {
   "cell_type": "code",
   "execution_count": null,
   "id": "a7dd2668-467d-4346-b0d9-4284b818ef54",
   "metadata": {},
   "outputs": [],
   "source": [
    "#Return Values:-\n",
    "#To let a function return value ,use the retun statment:\n"
   ]
  },
  {
   "cell_type": "code",
   "execution_count": 9,
   "id": "ca4c0eef-fe69-4cc2-b18c-32e815c02ac7",
   "metadata": {},
   "outputs": [
    {
     "name": "stdout",
     "output_type": "stream",
     "text": [
      "15\n",
      "25\n",
      "45\n"
     ]
    }
   ],
   "source": [
    "def my_function(x):\n",
    "    return 5 * x\n",
    "print(my_function(3))    \n",
    "print(my_function(5))\n",
    "print(my_function(9))\n",
    "#here my_function takes value from the call function and returns values\n",
    "#that is return 5 * x"
   ]
  },
  {
   "cell_type": "code",
   "execution_count": null,
   "id": "861b703a-622d-4eb5-a3ba-f5e535720fad",
   "metadata": {},
   "outputs": [],
   "source": []
  },
  {
   "cell_type": "code",
   "execution_count": null,
   "id": "72d9c896-7fde-402e-ba8b-4e9faa2d0820",
   "metadata": {},
   "outputs": [],
   "source": [
    "#PASS STATEMENT:-\n",
    "#function definitions cannot be empty ,but if you for some reason have a function\n",
    "#definition with no content,put in the pass statement to avoid getting an error.\n"
   ]
  },
  {
   "cell_type": "code",
   "execution_count": 10,
   "id": "f5e93a55-5a3d-4da9-a233-cfa0564989a5",
   "metadata": {},
   "outputs": [],
   "source": [
    "def my_function():\n",
    "    pass"
   ]
  },
  {
   "cell_type": "code",
   "execution_count": 11,
   "id": "994077b4-cfe6-404d-b611-3df76d69ca9a",
   "metadata": {},
   "outputs": [],
   "source": [
    "my_function()\n"
   ]
  },
  {
   "cell_type": "code",
   "execution_count": null,
   "id": "10a48d55-9fac-47a9-84e4-6b9f000040c4",
   "metadata": {},
   "outputs": [],
   "source": [
    "#recurssion:-\n",
    "#Python also accepts function recursion, which means a defined function can call itself.\n",
    "\n",
    "#Recursion is a common mathematical and programming concept. It means that a function calls itself. This has the benefit of meaning that you can loop through data to reach a result.\n",
    "\n",
    "#The developer should be very careful with recursion as it can be quite easy to slip into writing a function which never terminates, or one that uses excess amounts of memory or processor power."
   ]
  },
  {
   "cell_type": "code",
   "execution_count": null,
   "id": "799502b5-a59a-443f-831f-7cdfefe6a50a",
   "metadata": {},
   "outputs": [],
   "source": [
    "#In this example, tri_recursion() is a function that we have defined to call itself (\"recurse\"). We use the k variable as the data, which decrements (-1) every time we recurse. The recursion ends when the condition is not greater than 0 (i.e. when it is 0)."
   ]
  },
  {
   "cell_type": "code",
   "execution_count": 12,
   "id": "e4280742-6fe2-4075-914f-8aab4602a8e8",
   "metadata": {},
   "outputs": [
    {
     "name": "stdout",
     "output_type": "stream",
     "text": [
      "Recursion Example Results: \n",
      "1\n",
      "3\n",
      "6\n",
      "10\n",
      "15\n",
      "21\n"
     ]
    },
    {
     "data": {
      "text/plain": [
       "21"
      ]
     },
     "execution_count": 12,
     "metadata": {},
     "output_type": "execute_result"
    }
   ],
   "source": [
    "#Recursion Example:-\n",
    "def tri_recursion(k):\n",
    "    if(k>0):\n",
    "        result = k + tri_recursion(k-1)\n",
    "        # 3 + (6-3)\n",
    "        print(result)\n",
    "    else:\n",
    "        result = 0\n",
    "    return result\n",
    "\n",
    "print(\"Recursion Example Results: \")\n",
    "tri_recursion(6)\n",
    "#it means values from 1 to 6 are considered and taken into loop\n",
    "#if the Parameter is > 0 then if condition executes like while loop.\n"
   ]
  },
  {
   "cell_type": "code",
   "execution_count": null,
   "id": "cca33dd0-7c74-49eb-9e7d-db9f6ee16130",
   "metadata": {},
   "outputs": [],
   "source": []
  }
 ],
 "metadata": {
  "kernelspec": {
   "display_name": "Python 3 (ipykernel)",
   "language": "python",
   "name": "python3"
  },
  "language_info": {
   "codemirror_mode": {
    "name": "ipython",
    "version": 3
   },
   "file_extension": ".py",
   "mimetype": "text/x-python",
   "name": "python",
   "nbconvert_exporter": "python",
   "pygments_lexer": "ipython3",
   "version": "3.13.0"
  }
 },
 "nbformat": 4,
 "nbformat_minor": 5
}
