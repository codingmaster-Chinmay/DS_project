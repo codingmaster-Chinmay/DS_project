{
 "cells": [
  {
   "cell_type": "code",
   "execution_count": null,
   "id": "6f1f47d3-3932-440b-82e9-3d59f6fecaaa",
   "metadata": {},
   "outputs": [],
   "source": [
    "#ERROR HANDLING"
   ]
  },
  {
   "cell_type": "code",
   "execution_count": 1,
   "id": "66c82d61-1bbf-481c-b155-b7f62999a29e",
   "metadata": {},
   "outputs": [
    {
     "ename": "_IncompleteInputError",
     "evalue": "incomplete input (56390627.py, line 4)",
     "output_type": "error",
     "traceback": [
      "\u001b[1;36m  Cell \u001b[1;32mIn[1], line 4\u001b[1;36m\u001b[0m\n\u001b[1;33m    \u001b[0m\n\u001b[1;37m    ^\u001b[0m\n\u001b[1;31m_IncompleteInputError\u001b[0m\u001b[1;31m:\u001b[0m incomplete input\n"
     ]
    }
   ],
   "source": [
    "#error handling is different from syntax error due to wrong syntax\n",
    "#e.g\n",
    "print('hello'\n",
    "      "
   ]
  },
  {
   "cell_type": "code",
   "execution_count": null,
   "id": "dd938d8f-6071-4f18-a382-a388fd8ab283",
   "metadata": {},
   "outputs": [],
   "source": [
    "#Syntaxes are right buut the code is incorrect or bug in the code is another type of error"
   ]
  },
  {
   "cell_type": "code",
   "execution_count": null,
   "id": "2915f514-ec51-453f-a756-b20c5788d441",
   "metadata": {},
   "outputs": [],
   "source": [
    "#To handle these kinds of erros in the code python has special type of block \n",
    "#try and accept block \n",
    "#exception block"
   ]
  },
  {
   "cell_type": "code",
   "execution_count": 2,
   "id": "a4641a60-3807-44f8-84e7-525c0bb9ac8b",
   "metadata": {},
   "outputs": [
    {
     "name": "stdout",
     "output_type": "stream",
     "text": [
      "1.2\n",
      "1.3333333333333333\n",
      "1.5\n",
      "1.7142857142857142\n",
      "2.0\n",
      "2.4\n",
      "3.0\n",
      "4.0\n",
      "6.0\n",
      "12.0\n"
     ]
    }
   ],
   "source": [
    "for i in range(10,0,-1):\n",
    "    # decrement by -1 from 10 to 0\n",
    "    print(12/i)\n",
    "\n",
    "    #divide each number from 10 to 0 to 12 and print answer\n",
    "    #no error "
   ]
  },
  {
   "cell_type": "code",
   "execution_count": 3,
   "id": "9f781f05-1609-4547-b485-ddc77fc6f7e6",
   "metadata": {},
   "outputs": [
    {
     "name": "stdout",
     "output_type": "stream",
     "text": [
      "1.2\n",
      "1.3333333333333333\n",
      "1.5\n",
      "1.7142857142857142\n",
      "2.0\n",
      "2.4\n",
      "3.0\n",
      "4.0\n",
      "6.0\n",
      "12.0\n"
     ]
    },
    {
     "ename": "ZeroDivisionError",
     "evalue": "division by zero",
     "output_type": "error",
     "traceback": [
      "\u001b[1;31m---------------------------------------------------------------------------\u001b[0m",
      "\u001b[1;31mZeroDivisionError\u001b[0m                         Traceback (most recent call last)",
      "Cell \u001b[1;32mIn[3], line 4\u001b[0m\n\u001b[0;32m      1\u001b[0m \u001b[38;5;66;03m#if argument in parenthesis of for loop is wrong that is code error\u001b[39;00m\n\u001b[0;32m      2\u001b[0m \u001b[38;5;28;01mfor\u001b[39;00m i \u001b[38;5;129;01min\u001b[39;00m \u001b[38;5;28mrange\u001b[39m(\u001b[38;5;241m10\u001b[39m,\u001b[38;5;241m-\u001b[39m\u001b[38;5;241m1\u001b[39m,\u001b[38;5;241m-\u001b[39m\u001b[38;5;241m1\u001b[39m):\n\u001b[1;32m----> 4\u001b[0m     \u001b[38;5;28mprint\u001b[39m(\u001b[38;5;241;43m12\u001b[39;49m\u001b[38;5;241;43m/\u001b[39;49m\u001b[43mi\u001b[49m)\n",
      "\u001b[1;31mZeroDivisionError\u001b[0m: division by zero"
     ]
    }
   ],
   "source": [
    "#if argument in parenthesis of for loop is wrong that is code error\n",
    "for i in range(10,-1,-1):\n",
    "\n",
    "    print(12/i)\n",
    "\n",
    "    #here loops also goes for zero and zero is not divisible by any number \n",
    "    #It gives an error of division"
   ]
  },
  {
   "cell_type": "code",
   "execution_count": null,
   "id": "5c02e45e-1ec6-4b05-a561-6c96384a2e75",
   "metadata": {},
   "outputs": [],
   "source": [
    "#This kind of errors are called exception\n",
    "#there exist the concept of exception handling\n",
    "#There is 'Try' and 'Except' block"
   ]
  },
  {
   "cell_type": "code",
   "execution_count": 4,
   "id": "5ed343f0-0c5c-4e28-8c8b-13dc84cdb34e",
   "metadata": {},
   "outputs": [
    {
     "name": "stdout",
     "output_type": "stream",
     "text": [
      "1.2\n",
      "1.3333333333333333\n",
      "1.5\n",
      "1.7142857142857142\n",
      "2.0\n",
      "2.4\n",
      "3.0\n",
      "4.0\n",
      "6.0\n",
      "12.0\n",
      "Anything divided by zero is infinite.\n",
      "-12.0\n",
      "-6.0\n"
     ]
    }
   ],
   "source": [
    "for i in range(10,-3,-1):\n",
    "    try:\n",
    "        print(12/i)\n",
    "    except ZeroDivisionError:\n",
    "        print(\"Anything divided by zero is infinite.\")\n",
    "        "
   ]
  },
  {
   "cell_type": "code",
   "execution_count": 5,
   "id": "8bd78070-2e75-4290-9f48-f3429a94df95",
   "metadata": {},
   "outputs": [
    {
     "name": "stdout",
     "output_type": "stream",
     "text": [
      "1\n",
      "2\n",
      "3\n",
      "4\n",
      "5\n",
      "6\n",
      "7\n"
     ]
    },
    {
     "ename": "IndexError",
     "evalue": "list index out of range",
     "output_type": "error",
     "traceback": [
      "\u001b[1;31m---------------------------------------------------------------------------\u001b[0m",
      "\u001b[1;31mIndexError\u001b[0m                                Traceback (most recent call last)",
      "Cell \u001b[1;32mIn[5], line 3\u001b[0m\n\u001b[0;32m      1\u001b[0m l \u001b[38;5;241m=\u001b[39m [\u001b[38;5;241m1\u001b[39m,\u001b[38;5;241m2\u001b[39m,\u001b[38;5;241m3\u001b[39m,\u001b[38;5;241m4\u001b[39m,\u001b[38;5;241m5\u001b[39m,\u001b[38;5;241m6\u001b[39m,\u001b[38;5;241m7\u001b[39m] \u001b[38;5;66;03m#indexing from 0 to 6\u001b[39;00m\n\u001b[0;32m      2\u001b[0m \u001b[38;5;28;01mfor\u001b[39;00m i \u001b[38;5;129;01min\u001b[39;00m \u001b[38;5;28mrange\u001b[39m(\u001b[38;5;28mlen\u001b[39m(l) \u001b[38;5;241m+\u001b[39m \u001b[38;5;241m1\u001b[39m):\n\u001b[1;32m----> 3\u001b[0m     \u001b[38;5;28mprint\u001b[39m(\u001b[43ml\u001b[49m\u001b[43m[\u001b[49m\u001b[43mi\u001b[49m\u001b[43m]\u001b[49m)\n",
      "\u001b[1;31mIndexError\u001b[0m: list index out of range"
     ]
    }
   ],
   "source": [
    "l = [1,2,3,4,5,6,7] #indexing from 0 to 6\n",
    "for i in range(len(l) + 1):\n",
    "    print(l[i])\n",
    "    "
   ]
  },
  {
   "cell_type": "code",
   "execution_count": null,
   "id": "556cc09b-108e-42a7-a21f-84849f72e698",
   "metadata": {},
   "outputs": [],
   "source": [
    "#here there is no index upto 7 that throws an error"
   ]
  },
  {
   "cell_type": "code",
   "execution_count": 7,
   "id": "1a6fe211-c0dd-4348-b416-06ab5ad25df6",
   "metadata": {},
   "outputs": [
    {
     "name": "stdout",
     "output_type": "stream",
     "text": [
      "1\n",
      "2\n",
      "3\n",
      "4\n",
      "5\n",
      "6\n",
      "7\n",
      "list index out of range\n"
     ]
    }
   ],
   "source": [
    "l = [1, 2, 3, 4, 5, 6, 7]\n",
    "for i in range(len(l) + 1):\n",
    "    try:\n",
    "        print(l[i])\n",
    "    except Exception as e:\n",
    "        print(e)\n",
    "        #print('Index Exceeded')\n",
    "        #break\n",
    "    "
   ]
  },
  {
   "cell_type": "code",
   "execution_count": null,
   "id": "1ab0c56a-b0bb-483e-8139-e1b94b2e2d5f",
   "metadata": {},
   "outputs": [],
   "source": [
    "#keyword - finally\n",
    "\n"
   ]
  },
  {
   "cell_type": "code",
   "execution_count": 8,
   "id": "aacb0649-294b-497f-a7c1-61435a428e89",
   "metadata": {},
   "outputs": [
    {
     "name": "stdout",
     "output_type": "stream",
     "text": [
      "1\n",
      "Excecution Successful\n",
      "2\n",
      "Excecution Successful\n",
      "3\n",
      "Excecution Successful\n",
      "4\n",
      "Excecution Successful\n",
      "5\n",
      "Excecution Successful\n",
      "6\n",
      "Excecution Successful\n",
      "7\n",
      "Excecution Successful\n",
      "list index out of range\n",
      "Excecution Successful\n"
     ]
    }
   ],
   "source": [
    "l = [1, 2, 3, 4, 5, 6, 7]\n",
    "for i in range(len(l) + 1):\n",
    "    try:\n",
    "        print(l[i])\n",
    "    except Exception as e:\n",
    "        print(e)\n",
    "    finally:\n",
    "        print(\"Excecution Successful\")"
   ]
  },
  {
   "cell_type": "code",
   "execution_count": 9,
   "id": "f14a8b48-24af-4d17-b793-b37bc2a6c8d0",
   "metadata": {},
   "outputs": [],
   "source": [
    "#Another way to use try and except block\n",
    "def abc(a, b):\n",
    "    try:\n",
    "        c = a/b\n",
    "    except:\n",
    "        print(\"Wrong\")\n",
    "    else:\n",
    "        print(c)\n",
    "\n",
    "        "
   ]
  },
  {
   "cell_type": "code",
   "execution_count": 10,
   "id": "03bed714-abb4-401b-b6ab-a3edfeaf53b3",
   "metadata": {},
   "outputs": [
    {
     "name": "stdout",
     "output_type": "stream",
     "text": [
      "Wrong\n"
     ]
    }
   ],
   "source": [
    "abc(2, 0)"
   ]
  },
  {
   "cell_type": "code",
   "execution_count": 11,
   "id": "060b44f9-67d3-48e4-ab8a-c6d9507c69c5",
   "metadata": {},
   "outputs": [
    {
     "name": "stdout",
     "output_type": "stream",
     "text": [
      "6.0\n"
     ]
    }
   ],
   "source": [
    "abc(12, 2)"
   ]
  },
  {
   "cell_type": "code",
   "execution_count": 16,
   "id": "acaa51c3-a5c7-448a-a472-e2b9c84d2feb",
   "metadata": {},
   "outputs": [],
   "source": [
    "def zeronotallowed(a, b):\n",
    "    if a==0 or b==0:\n",
    "        raise ValueError(\"Zeros Not allowed\")\n",
    "        # raise used to raise any statment\n",
    "    else:\n",
    "        print(\"All OK.\")\n",
    "        "
   ]
  },
  {
   "cell_type": "code",
   "execution_count": 13,
   "id": "0c5a4033-273d-4379-9b0e-5154594fdafd",
   "metadata": {},
   "outputs": [
    {
     "ename": "TypeError",
     "evalue": "zeronotallowed() missing 2 required positional arguments: 'a' and 'b'",
     "output_type": "error",
     "traceback": [
      "\u001b[1;31m---------------------------------------------------------------------------\u001b[0m",
      "\u001b[1;31mTypeError\u001b[0m                                 Traceback (most recent call last)",
      "Cell \u001b[1;32mIn[13], line 1\u001b[0m\n\u001b[1;32m----> 1\u001b[0m \u001b[43mzeronotallowed\u001b[49m\u001b[43m(\u001b[49m\u001b[43m)\u001b[49m\n",
      "\u001b[1;31mTypeError\u001b[0m: zeronotallowed() missing 2 required positional arguments: 'a' and 'b'"
     ]
    }
   ],
   "source": [
    "zeronotallowed() #no arguments "
   ]
  },
  {
   "cell_type": "code",
   "execution_count": 15,
   "id": "1a67a572-52e7-4873-b780-9a8cbe13e26e",
   "metadata": {},
   "outputs": [
    {
     "name": "stdout",
     "output_type": "stream",
     "text": [
      "Zero Not allowed\n"
     ]
    },
    {
     "ename": "TypeError",
     "evalue": "exceptions must derive from BaseException",
     "output_type": "error",
     "traceback": [
      "\u001b[1;31m---------------------------------------------------------------------------\u001b[0m",
      "\u001b[1;31mTypeError\u001b[0m                                 Traceback (most recent call last)",
      "Cell \u001b[1;32mIn[15], line 1\u001b[0m\n\u001b[1;32m----> 1\u001b[0m \u001b[43mzeronotallowed\u001b[49m\u001b[43m(\u001b[49m\u001b[38;5;241;43m0\u001b[39;49m\u001b[43m,\u001b[49m\u001b[38;5;241;43m7\u001b[39;49m\u001b[43m)\u001b[49m \u001b[38;5;66;03m# we mentioned zero in arguments\u001b[39;00m\n",
      "Cell \u001b[1;32mIn[12], line 3\u001b[0m, in \u001b[0;36mzeronotallowed\u001b[1;34m(a, b)\u001b[0m\n\u001b[0;32m      1\u001b[0m \u001b[38;5;28;01mdef\u001b[39;00m \u001b[38;5;21mzeronotallowed\u001b[39m(a, b):\n\u001b[0;32m      2\u001b[0m     \u001b[38;5;28;01mif\u001b[39;00m a\u001b[38;5;241m==\u001b[39m\u001b[38;5;241m0\u001b[39m \u001b[38;5;129;01mor\u001b[39;00m b\u001b[38;5;241m==\u001b[39m\u001b[38;5;241m0\u001b[39m:\n\u001b[1;32m----> 3\u001b[0m         \u001b[38;5;28;01mraise\u001b[39;00m \u001b[38;5;28mprint\u001b[39m(\u001b[38;5;124m\"\u001b[39m\u001b[38;5;124mZero Not allowed\u001b[39m\u001b[38;5;124m\"\u001b[39m)\n\u001b[0;32m      4\u001b[0m     \u001b[38;5;28;01melse\u001b[39;00m:\n\u001b[0;32m      5\u001b[0m         \u001b[38;5;28mprint\u001b[39m(\u001b[38;5;124m\"\u001b[39m\u001b[38;5;124mAll OK.\u001b[39m\u001b[38;5;124m\"\u001b[39m)\n",
      "\u001b[1;31mTypeError\u001b[0m: exceptions must derive from BaseException"
     ]
    }
   ],
   "source": [
    "zeronotallowed(0,7) # we mentioned zero in arguments value error"
   ]
  },
  {
   "cell_type": "code",
   "execution_count": null,
   "id": "47e99da8-4e0b-464d-a441-0fd4b9501b8a",
   "metadata": {},
   "outputs": [],
   "source": []
  }
 ],
 "metadata": {
  "kernelspec": {
   "display_name": "Python 3 (ipykernel)",
   "language": "python",
   "name": "python3"
  },
  "language_info": {
   "codemirror_mode": {
    "name": "ipython",
    "version": 3
   },
   "file_extension": ".py",
   "mimetype": "text/x-python",
   "name": "python",
   "nbconvert_exporter": "python",
   "pygments_lexer": "ipython3",
   "version": "3.13.0"
  }
 },
 "nbformat": 4,
 "nbformat_minor": 5
}
