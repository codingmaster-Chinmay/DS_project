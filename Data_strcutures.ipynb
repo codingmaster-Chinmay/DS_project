{
 "cells": [
  {
   "cell_type": "code",
   "execution_count": 1,
   "id": "1ae36c8e-b059-4044-a384-433521782092",
   "metadata": {},
   "outputs": [
    {
     "data": {
      "text/plain": [
       "['Hello', 'Python', 9]"
      ]
     },
     "execution_count": 1,
     "metadata": {},
     "output_type": "execute_result"
    }
   ],
   "source": [
    "L = [\"Hello\" ,\"Python\",9] #Lists\n",
    "#L is a list having 2 strings and one number and it will print all the items in it\n",
    "\n",
    "L\n"
   ]
  },
  {
   "cell_type": "code",
   "execution_count": null,
   "id": "af1dcba3-5c75-4994-8e62-781c8c68366c",
   "metadata": {},
   "outputs": [],
   "source": []
  },
  {
   "cell_type": "code",
   "execution_count": 2,
   "id": "198b5d01-6de3-4713-afa0-1cb438ee09b1",
   "metadata": {},
   "outputs": [
    {
     "data": {
      "text/plain": [
       "9"
      ]
     },
     "execution_count": 2,
     "metadata": {},
     "output_type": "execute_result"
    }
   ],
   "source": [
    "L[2]\n"
   ]
  },
  {
   "cell_type": "code",
   "execution_count": 3,
   "id": "176e3775-7948-4751-b89e-aea55a335d85",
   "metadata": {},
   "outputs": [
    {
     "data": {
      "text/plain": [
       "'Hello'"
      ]
     },
     "execution_count": 3,
     "metadata": {},
     "output_type": "execute_result"
    }
   ],
   "source": [
    "L[0]"
   ]
  },
  {
   "cell_type": "code",
   "execution_count": 4,
   "id": "b7390f5f-aba0-4b2e-b23f-30431d53d343",
   "metadata": {},
   "outputs": [
    {
     "data": {
      "text/plain": [
       "9"
      ]
     },
     "execution_count": 4,
     "metadata": {},
     "output_type": "execute_result"
    }
   ],
   "source": [
    "#indexing ... 0 ...  n-1\n",
    "\n",
    "#pop operation :-\n",
    "L.pop()\n"
   ]
  },
  {
   "cell_type": "code",
   "execution_count": 5,
   "id": "36877be2-f60b-4d17-94e0-cab482104f5b",
   "metadata": {},
   "outputs": [
    {
     "data": {
      "text/plain": [
       "['Hello', 'Python']"
      ]
     },
     "execution_count": 5,
     "metadata": {},
     "output_type": "execute_result"
    }
   ],
   "source": [
    "L"
   ]
  },
  {
   "cell_type": "code",
   "execution_count": 1,
   "id": "cea6e56f-a0ba-446d-b975-bce1d3760d8b",
   "metadata": {},
   "outputs": [
    {
     "ename": "NameError",
     "evalue": "name 'p' is not defined",
     "output_type": "error",
     "traceback": [
      "\u001b[1;31m---------------------------------------------------------------------------\u001b[0m",
      "\u001b[1;31mNameError\u001b[0m                                 Traceback (most recent call last)",
      "Cell \u001b[1;32mIn[1], line 2\u001b[0m\n\u001b[0;32m      1\u001b[0m P \u001b[38;5;241m=\u001b[39m [\u001b[38;5;241m1\u001b[39m,\u001b[38;5;241m2\u001b[39m,\u001b[38;5;241m3\u001b[39m,\u001b[38;5;241m5\u001b[39m,\u001b[38;5;241m6\u001b[39m]\n\u001b[1;32m----> 2\u001b[0m \u001b[43mp\u001b[49m\n",
      "\u001b[1;31mNameError\u001b[0m: name 'p' is not defined"
     ]
    }
   ],
   "source": [
    "P = [1,2,3,5,6]\n",
    "p"
   ]
  },
  {
   "cell_type": "code",
   "execution_count": 2,
   "id": "d79a9b90-d393-4a2e-9dba-49c015ef6d95",
   "metadata": {},
   "outputs": [
    {
     "data": {
      "text/plain": [
       "[1, 2, 3, 5, 6]"
      ]
     },
     "execution_count": 2,
     "metadata": {},
     "output_type": "execute_result"
    }
   ],
   "source": [
    "P"
   ]
  },
  {
   "cell_type": "code",
   "execution_count": 3,
   "id": "165a88ea-393d-4fab-84c3-ed69fa140dc0",
   "metadata": {},
   "outputs": [
    {
     "data": {
      "text/plain": [
       "[1, 2, 3, 5, 6]"
      ]
     },
     "execution_count": 3,
     "metadata": {},
     "output_type": "execute_result"
    }
   ],
   "source": [
    "P.sort()\n",
    "P"
   ]
  },
  {
   "cell_type": "code",
   "execution_count": 4,
   "id": "13fafca4-629d-4d02-8c5a-b8e06f21ff2a",
   "metadata": {},
   "outputs": [],
   "source": [
    "p = [2,3,5,1,6]"
   ]
  },
  {
   "cell_type": "code",
   "execution_count": 5,
   "id": "9d99a281-d027-4797-8d5a-7fde3a69804e",
   "metadata": {},
   "outputs": [
    {
     "data": {
      "text/plain": [
       "[2, 3, 5, 1, 6]"
      ]
     },
     "execution_count": 5,
     "metadata": {},
     "output_type": "execute_result"
    }
   ],
   "source": [
    "p"
   ]
  },
  {
   "cell_type": "code",
   "execution_count": 6,
   "id": "9dda85a2-c6f9-4785-8bcd-54f23c169f04",
   "metadata": {},
   "outputs": [],
   "source": [
    "p.sort()"
   ]
  },
  {
   "cell_type": "code",
   "execution_count": 7,
   "id": "12710f7d-9f25-4ccd-b889-c718e7f1674c",
   "metadata": {},
   "outputs": [
    {
     "data": {
      "text/plain": [
       "[1, 2, 3, 5, 6]"
      ]
     },
     "execution_count": 7,
     "metadata": {},
     "output_type": "execute_result"
    }
   ],
   "source": [
    "p"
   ]
  },
  {
   "cell_type": "code",
   "execution_count": 8,
   "id": "af2d246c-5e52-4379-921e-dd7d9f43d612",
   "metadata": {},
   "outputs": [
    {
     "data": {
      "text/plain": [
       "[1, 2, 3, 5, 6, 4]"
      ]
     },
     "execution_count": 8,
     "metadata": {},
     "output_type": "execute_result"
    }
   ],
   "source": [
    "p.append(4)\n",
    "p"
   ]
  },
  {
   "cell_type": "code",
   "execution_count": 9,
   "id": "01ff7e16-02e1-408b-abf0-b1ddb22d21b4",
   "metadata": {},
   "outputs": [
    {
     "data": {
      "text/plain": [
       "[1, 2, 3, 4, 5, 6]"
      ]
     },
     "execution_count": 9,
     "metadata": {},
     "output_type": "execute_result"
    }
   ],
   "source": [
    "p.sort()\n",
    "p"
   ]
  },
  {
   "cell_type": "code",
   "execution_count": 10,
   "id": "68ba5a6c-2d86-4606-8d37-eca002cb16ec",
   "metadata": {},
   "outputs": [
    {
     "ename": "NameError",
     "evalue": "name 'L' is not defined",
     "output_type": "error",
     "traceback": [
      "\u001b[1;31m---------------------------------------------------------------------------\u001b[0m",
      "\u001b[1;31mNameError\u001b[0m                                 Traceback (most recent call last)",
      "Cell \u001b[1;32mIn[10], line 1\u001b[0m\n\u001b[1;32m----> 1\u001b[0m p\u001b[38;5;241m.\u001b[39mextend(\u001b[43mL\u001b[49m)\n\u001b[0;32m      2\u001b[0m p\n",
      "\u001b[1;31mNameError\u001b[0m: name 'L' is not defined"
     ]
    }
   ],
   "source": [
    "p.extend(L)\n",
    "p"
   ]
  },
  {
   "cell_type": "code",
   "execution_count": 11,
   "id": "4490a748-e166-4a48-949e-9c27b3e33bc3",
   "metadata": {},
   "outputs": [
    {
     "ename": "NameError",
     "evalue": "name 'L' is not defined",
     "output_type": "error",
     "traceback": [
      "\u001b[1;31m---------------------------------------------------------------------------\u001b[0m",
      "\u001b[1;31mNameError\u001b[0m                                 Traceback (most recent call last)",
      "Cell \u001b[1;32mIn[11], line 1\u001b[0m\n\u001b[1;32m----> 1\u001b[0m \u001b[43mL\u001b[49m\n",
      "\u001b[1;31mNameError\u001b[0m: name 'L' is not defined"
     ]
    }
   ],
   "source": [
    "L"
   ]
  },
  {
   "cell_type": "code",
   "execution_count": 12,
   "id": "2c292ae6-9fd4-4424-8b61-2687f821876b",
   "metadata": {},
   "outputs": [
    {
     "data": {
      "text/plain": [
       "['Hello']"
      ]
     },
     "execution_count": 12,
     "metadata": {},
     "output_type": "execute_result"
    }
   ],
   "source": [
    "L = [\"Hello\"]\n",
    "L\n"
   ]
  },
  {
   "cell_type": "code",
   "execution_count": 13,
   "id": "6ed45db8-5af0-49e7-8e86-2684408df4fe",
   "metadata": {},
   "outputs": [
    {
     "data": {
      "text/plain": [
       "[1, 2, 3, 4, 5, 6, 'Hello']"
      ]
     },
     "execution_count": 13,
     "metadata": {},
     "output_type": "execute_result"
    }
   ],
   "source": [
    "p.extend(L)\n",
    "p"
   ]
  },
  {
   "cell_type": "code",
   "execution_count": 14,
   "id": "63f467f3-9db4-4e9d-955d-d16e4c63a9c9",
   "metadata": {},
   "outputs": [
    {
     "data": {
      "text/plain": [
       "[1, 2, 3, 4, 6, 'Hello']"
      ]
     },
     "execution_count": 14,
     "metadata": {},
     "output_type": "execute_result"
    }
   ],
   "source": [
    "p.remove(5)\n",
    "p"
   ]
  },
  {
   "cell_type": "code",
   "execution_count": 15,
   "id": "abcd979d-9cbc-44a5-8e56-5404b0475027",
   "metadata": {},
   "outputs": [
    {
     "data": {
      "text/plain": [
       "[1, 3, 4, 6, 'Hello']"
      ]
     },
     "execution_count": 15,
     "metadata": {},
     "output_type": "execute_result"
    }
   ],
   "source": [
    "p.remove(2)\n",
    "p"
   ]
  },
  {
   "cell_type": "code",
   "execution_count": 16,
   "id": "8657f40d-e376-4ea1-8fa7-2210c9bf6d52",
   "metadata": {},
   "outputs": [
    {
     "data": {
      "text/plain": [
       "[1, 'High', 3, 4, 6, 'Hello']"
      ]
     },
     "execution_count": 16,
     "metadata": {},
     "output_type": "execute_result"
    }
   ],
   "source": [
    "p.insert(1,'High')\n",
    "p"
   ]
  },
  {
   "cell_type": "code",
   "execution_count": 1,
   "id": "4bee62a7-f3f6-41e9-b4e7-9de1c84e3ca0",
   "metadata": {},
   "outputs": [
    {
     "ename": "NameError",
     "evalue": "name 'p' is not defined",
     "output_type": "error",
     "traceback": [
      "\u001b[1;31m---------------------------------------------------------------------------\u001b[0m",
      "\u001b[1;31mNameError\u001b[0m                                 Traceback (most recent call last)",
      "Cell \u001b[1;32mIn[1], line 1\u001b[0m\n\u001b[1;32m----> 1\u001b[0m \u001b[43mp\u001b[49m\u001b[38;5;241m.\u001b[39minsert(\u001b[38;5;241m2\u001b[39m,\u001b[38;5;124m\"\u001b[39m\u001b[38;5;124mLow\u001b[39m\u001b[38;5;124m\"\u001b[39m)\n\u001b[0;32m      2\u001b[0m p\n",
      "\u001b[1;31mNameError\u001b[0m: name 'p' is not defined"
     ]
    }
   ],
   "source": [
    "p.insert(2,\"Low\")\n",
    "p"
   ]
  },
  {
   "cell_type": "code",
   "execution_count": 2,
   "id": "fa49309b-518c-4975-a762-3d65e9543e26",
   "metadata": {},
   "outputs": [
    {
     "ename": "NameError",
     "evalue": "name 'p' is not defined",
     "output_type": "error",
     "traceback": [
      "\u001b[1;31m---------------------------------------------------------------------------\u001b[0m",
      "\u001b[1;31mNameError\u001b[0m                                 Traceback (most recent call last)",
      "Cell \u001b[1;32mIn[2], line 1\u001b[0m\n\u001b[1;32m----> 1\u001b[0m \u001b[43mp\u001b[49m\u001b[38;5;241m.\u001b[39mclear()\n\u001b[0;32m      2\u001b[0m p\n",
      "\u001b[1;31mNameError\u001b[0m: name 'p' is not defined"
     ]
    }
   ],
   "source": [
    "p.clear()\n",
    "p\n"
   ]
  },
  {
   "cell_type": "code",
   "execution_count": null,
   "id": "efa923b3-a42c-42dc-bf41-ef5b8534ceb1",
   "metadata": {},
   "outputs": [],
   "source": []
  },
  {
   "cell_type": "code",
   "execution_count": 3,
   "id": "6aa52f1c-ca4c-4136-b299-1ab6a88bd5c6",
   "metadata": {},
   "outputs": [
    {
     "ename": "NameError",
     "evalue": "name 'p' is not defined",
     "output_type": "error",
     "traceback": [
      "\u001b[1;31m---------------------------------------------------------------------------\u001b[0m",
      "\u001b[1;31mNameError\u001b[0m                                 Traceback (most recent call last)",
      "Cell \u001b[1;32mIn[3], line 1\u001b[0m\n\u001b[1;32m----> 1\u001b[0m \u001b[43mp\u001b[49m\u001b[38;5;241m.\u001b[39mclear()\n\u001b[0;32m      2\u001b[0m p\n",
      "\u001b[1;31mNameError\u001b[0m: name 'p' is not defined"
     ]
    }
   ],
   "source": [
    "p.clear()\n",
    "p"
   ]
  },
  {
   "cell_type": "code",
   "execution_count": 4,
   "id": "44013b3d-8800-4499-9c1e-5de3db35e38a",
   "metadata": {},
   "outputs": [
    {
     "data": {
      "text/plain": [
       "[1, 'High', 3, 4, 6, 'Hello']"
      ]
     },
     "execution_count": 4,
     "metadata": {},
     "output_type": "execute_result"
    }
   ],
   "source": [
    "p = [1, 'High', 3, 4, 6, 'Hello']\n",
    "p"
   ]
  },
  {
   "cell_type": "code",
   "execution_count": 5,
   "id": "85f3f4d2-6b9e-4bd3-ad6f-eb4651b81a4f",
   "metadata": {},
   "outputs": [
    {
     "data": {
      "text/plain": [
       "[1, 'High', 'Low', 3, 4, 6, 'Hello']"
      ]
     },
     "execution_count": 5,
     "metadata": {},
     "output_type": "execute_result"
    }
   ],
   "source": [
    "p.insert(2,\"Low\")\n",
    "p"
   ]
  },
  {
   "cell_type": "code",
   "execution_count": 6,
   "id": "98ec5c65-79d7-4f27-a54d-652c7b49ffc8",
   "metadata": {},
   "outputs": [
    {
     "data": {
      "text/plain": [
       "[]"
      ]
     },
     "execution_count": 6,
     "metadata": {},
     "output_type": "execute_result"
    }
   ],
   "source": [
    "p.clear()\n",
    "p"
   ]
  },
  {
   "cell_type": "code",
   "execution_count": 7,
   "id": "ce4976e1-81a3-4d98-92a6-5ee4d319ccd8",
   "metadata": {},
   "outputs": [
    {
     "data": {
      "text/plain": [
       "[1, 2, 3, 3, 4, 4, 4]"
      ]
     },
     "execution_count": 7,
     "metadata": {},
     "output_type": "execute_result"
    }
   ],
   "source": [
    "p = [1,2,3,3,4,4,4]\n",
    "p.count(4)\n",
    "p"
   ]
  },
  {
   "cell_type": "code",
   "execution_count": 8,
   "id": "07093a36-a2d5-443c-a094-9d985d21fcfc",
   "metadata": {},
   "outputs": [
    {
     "data": {
      "text/plain": [
       "3"
      ]
     },
     "execution_count": 8,
     "metadata": {},
     "output_type": "execute_result"
    }
   ],
   "source": [
    "p = [1,2,3,3,4,4,4]\n",
    "p.count(4)"
   ]
  },
  {
   "cell_type": "code",
   "execution_count": 9,
   "id": "5998c709-5c05-4331-b3e8-cafdad8f62bf",
   "metadata": {},
   "outputs": [
    {
     "ename": "AttributeError",
     "evalue": "'list' object has no attribute 'revese'",
     "output_type": "error",
     "traceback": [
      "\u001b[1;31m---------------------------------------------------------------------------\u001b[0m",
      "\u001b[1;31mAttributeError\u001b[0m                            Traceback (most recent call last)",
      "Cell \u001b[1;32mIn[9], line 1\u001b[0m\n\u001b[1;32m----> 1\u001b[0m \u001b[43mp\u001b[49m\u001b[38;5;241;43m.\u001b[39;49m\u001b[43mrevese\u001b[49m()\n\u001b[0;32m      2\u001b[0m p\n",
      "\u001b[1;31mAttributeError\u001b[0m: 'list' object has no attribute 'revese'"
     ]
    }
   ],
   "source": [
    "p.revese()\n",
    "p"
   ]
  },
  {
   "cell_type": "code",
   "execution_count": 10,
   "id": "837ac2e6-df70-47d7-a9ac-8f19780f7958",
   "metadata": {},
   "outputs": [
    {
     "data": {
      "text/plain": [
       "[4, 4, 4, 3, 3, 2, 1]"
      ]
     },
     "execution_count": 10,
     "metadata": {},
     "output_type": "execute_result"
    }
   ],
   "source": [
    "p.reverse()\n",
    "p"
   ]
  },
  {
   "cell_type": "code",
   "execution_count": null,
   "id": "45ada75e-58f8-49f5-af4a-bbd86afe2620",
   "metadata": {},
   "outputs": [],
   "source": [
    "#dictionary is structure used to store the data in key and value\n",
    "#each item in dictionary has key and value\n",
    "#by using key the values are accessed\n",
    "\n"
   ]
  },
  {
   "cell_type": "code",
   "execution_count": 11,
   "id": "6b5c34e0-15fe-47c0-8ee2-ca1f40d71db7",
   "metadata": {},
   "outputs": [
    {
     "data": {
      "text/plain": [
       "{'1': 1, '2': 4, 'name': 'python'}"
      ]
     },
     "execution_count": 11,
     "metadata": {},
     "output_type": "execute_result"
    }
   ],
   "source": [
    "\n",
    "dictionary = {'1':1,'2':4,'name':'python'}\n",
    "dictionary"
   ]
  },
  {
   "cell_type": "code",
   "execution_count": 12,
   "id": "38ebf524-0a71-4102-acda-4c62aa059f6c",
   "metadata": {},
   "outputs": [
    {
     "data": {
      "text/plain": [
       "'python'"
      ]
     },
     "execution_count": 12,
     "metadata": {},
     "output_type": "execute_result"
    }
   ],
   "source": [
    "dictionary['name']"
   ]
  },
  {
   "cell_type": "code",
   "execution_count": 20,
   "id": "550c4af2-658f-4346-ad5f-4e55cd0a7db1",
   "metadata": {},
   "outputs": [
    {
     "ename": "NameError",
     "evalue": "name 'dictonary' is not defined",
     "output_type": "error",
     "traceback": [
      "\u001b[1;31m---------------------------------------------------------------------------\u001b[0m",
      "\u001b[1;31mNameError\u001b[0m                                 Traceback (most recent call last)",
      "Cell \u001b[1;32mIn[20], line 3\u001b[0m\n\u001b[0;32m      1\u001b[0m dictionary\u001b[38;5;241m.\u001b[39mkeys()\n\u001b[0;32m      2\u001b[0m dictionary\u001b[38;5;241m.\u001b[39mget(\u001b[38;5;124m'\u001b[39m\u001b[38;5;124mname\u001b[39m\u001b[38;5;124m'\u001b[39m)\n\u001b[1;32m----> 3\u001b[0m \u001b[43mdictonary\u001b[49m\u001b[38;5;241m.\u001b[39mpop(\u001b[38;5;241m2\u001b[39m)\n",
      "\u001b[1;31mNameError\u001b[0m: name 'dictonary' is not defined"
     ]
    }
   ],
   "source": [
    "dictionary.keys()\n",
    "dictionary.get('name')\n",
    "dictonary.pop(2)\n"
   ]
  },
  {
   "cell_type": "raw",
   "id": "34e010df-3413-40d5-976a-f644d9e489c9",
   "metadata": {},
   "source": [
    "\n"
   ]
  },
  {
   "cell_type": "code",
   "execution_count": 21,
   "id": "86946b0b-8aeb-47aa-ba7f-cf54530503ee",
   "metadata": {},
   "outputs": [
    {
     "data": {
      "text/plain": [
       "4"
      ]
     },
     "execution_count": 21,
     "metadata": {},
     "output_type": "execute_result"
    }
   ],
   "source": [
    "dictionary.pop('2')\n",
    "#gives value of key which is specified to be poped\n"
   ]
  },
  {
   "cell_type": "code",
   "execution_count": 22,
   "id": "f83113a3-ed11-4e4b-bcb3-4e1445676398",
   "metadata": {},
   "outputs": [
    {
     "ename": "SyntaxError",
     "evalue": "invalid syntax (2976382600.py, line 1)",
     "output_type": "error",
     "traceback": [
      "\u001b[1;36m  Cell \u001b[1;32mIn[22], line 1\u001b[1;36m\u001b[0m\n\u001b[1;33m    dictionary.update(('hi':'hello'))\u001b[0m\n\u001b[1;37m                           ^\u001b[0m\n\u001b[1;31mSyntaxError\u001b[0m\u001b[1;31m:\u001b[0m invalid syntax\n"
     ]
    }
   ],
   "source": [
    "dictionary.update(('hi':'hello'))"
   ]
  },
  {
   "cell_type": "code",
   "execution_count": 24,
   "id": "21f05086-0b23-4502-b992-89b8d72240e1",
   "metadata": {},
   "outputs": [],
   "source": [
    "dictionary.update({'hi':'hello'})\n"
   ]
  },
  {
   "cell_type": "code",
   "execution_count": 25,
   "id": "e12c9b7b-627f-43b5-a2c1-2d880faac5a2",
   "metadata": {},
   "outputs": [
    {
     "data": {
      "text/plain": [
       "{'1': 1, 'name': 'python', 'hi': 'hello'}"
      ]
     },
     "execution_count": 25,
     "metadata": {},
     "output_type": "execute_result"
    }
   ],
   "source": [
    "dictionary.update({'hi': 'hello'})\n",
    "dictionary"
   ]
  },
  {
   "cell_type": "code",
   "execution_count": 26,
   "id": "40d0043d-907c-47b3-a71f-f584ef06f3fd",
   "metadata": {},
   "outputs": [
    {
     "data": {
      "text/plain": [
       "dict_values([1, 'python', 'hello'])"
      ]
     },
     "execution_count": 26,
     "metadata": {},
     "output_type": "execute_result"
    }
   ],
   "source": [
    "dictionary.values()\n"
   ]
  },
  {
   "cell_type": "code",
   "execution_count": 27,
   "id": "43635856-68b3-4ae8-94a3-dfb7051c2354",
   "metadata": {},
   "outputs": [
    {
     "data": {
      "text/plain": [
       "dict_items([('1', 1), ('name', 'python'), ('hi', 'hello')])"
      ]
     },
     "execution_count": 27,
     "metadata": {},
     "output_type": "execute_result"
    }
   ],
   "source": [
    "dictionary.items()"
   ]
  },
  {
   "cell_type": "code",
   "execution_count": 28,
   "id": "f8642dde-af31-4f09-b315-1fe29a858c04",
   "metadata": {},
   "outputs": [
    {
     "ename": "SyntaxError",
     "evalue": "invalid syntax (3791632241.py, line 1)",
     "output_type": "error",
     "traceback": [
      "\u001b[1;36m  Cell \u001b[1;32mIn[28], line 1\u001b[1;36m\u001b[0m\n\u001b[1;33m    dictionary.popitem[]\u001b[0m\n\u001b[1;37m                       ^\u001b[0m\n\u001b[1;31mSyntaxError\u001b[0m\u001b[1;31m:\u001b[0m invalid syntax\n"
     ]
    }
   ],
   "source": [
    "dictionary.popitem[]\n"
   ]
  },
  {
   "cell_type": "code",
   "execution_count": 29,
   "id": "8408a079-67ab-4f57-8bc4-0b1ba45f1bb9",
   "metadata": {},
   "outputs": [
    {
     "data": {
      "text/plain": [
       "('hi', 'hello')"
      ]
     },
     "execution_count": 29,
     "metadata": {},
     "output_type": "execute_result"
    }
   ],
   "source": [
    "dictionary.popitem()"
   ]
  },
  {
   "cell_type": "code",
   "execution_count": 30,
   "id": "d49593b1-b349-474b-b51c-878fd2d430aa",
   "metadata": {},
   "outputs": [
    {
     "ename": "AttributeError",
     "evalue": "'dict' object has no attribute 'stedefault'",
     "output_type": "error",
     "traceback": [
      "\u001b[1;31m---------------------------------------------------------------------------\u001b[0m",
      "\u001b[1;31mAttributeError\u001b[0m                            Traceback (most recent call last)",
      "Cell \u001b[1;32mIn[30], line 1\u001b[0m\n\u001b[1;32m----> 1\u001b[0m \u001b[43mdictionary\u001b[49m\u001b[38;5;241;43m.\u001b[39;49m\u001b[43mstedefault\u001b[49m(o)\n",
      "\u001b[1;31mAttributeError\u001b[0m: 'dict' object has no attribute 'stedefault'"
     ]
    }
   ],
   "source": [
    "dictionary.stedefault(o)"
   ]
  },
  {
   "cell_type": "code",
   "execution_count": 33,
   "id": "a1b8f403-5f62-4eba-97ae-ee9cee6cc5a3",
   "metadata": {},
   "outputs": [],
   "source": [
    "dictionary.setdefault('o')"
   ]
  },
  {
   "cell_type": "code",
   "execution_count": 36,
   "id": "6bd65c7c-e001-474b-955c-f7251ed44a99",
   "metadata": {},
   "outputs": [
    {
     "data": {
      "text/plain": [
       "{'1': 1, 'name': 'python', 'o': None}"
      ]
     },
     "execution_count": 36,
     "metadata": {},
     "output_type": "execute_result"
    }
   ],
   "source": [
    "dictionary.setdefault('o')\n",
    "dictionary\n",
    "#it gives none for the value where the key not existing in the dict is mentioned\n"
   ]
  },
  {
   "cell_type": "code",
   "execution_count": 38,
   "id": "fa1bf67f-0303-4f31-b156-cf6409f83ba0",
   "metadata": {},
   "outputs": [
    {
     "data": {
      "text/plain": [
       "{'1': 1, 'name': 'python', 'o': 65}"
      ]
     },
     "execution_count": 38,
     "metadata": {},
     "output_type": "execute_result"
    }
   ],
   "source": [
    "dictionary['o'] = 65\n",
    "dictionary\n"
   ]
  },
  {
   "cell_type": "code",
   "execution_count": 40,
   "id": "89edffcd-9e93-46cf-8d15-d541362c615b",
   "metadata": {},
   "outputs": [
    {
     "data": {
      "text/plain": [
       "{}"
      ]
     },
     "execution_count": 40,
     "metadata": {},
     "output_type": "execute_result"
    }
   ],
   "source": [
    "dictionary.clear()\n",
    "dictionary\n",
    "#it gives the empty dict by clear method that is null dictionary."
   ]
  },
  {
   "cell_type": "code",
   "execution_count": null,
   "id": "0deff3f8-ca1b-4b92-a1f4-7890f7a93936",
   "metadata": {},
   "outputs": [],
   "source": [
    "#Strings - one of the most important datatype or structure in every language\n"
   ]
  },
  {
   "cell_type": "code",
   "execution_count": null,
   "id": "dc43ba3f-9a62-4dd8-8589-b89f0298c2ad",
   "metadata": {},
   "outputs": [],
   "source": [
    "#What is a string?\n",
    "#string is anything that is inside single or double inverted which is not \n",
    "#identified by the python. It  can be a number,decimal,char,etc.\n",
    "Note: - \"Blank spaces are also stings\"\n"
   ]
  },
  {
   "cell_type": "code",
   "execution_count": null,
   "id": "40687db3-b26d-45c0-a727-e366bca199a3",
   "metadata": {},
   "outputs": [],
   "source": [
    "#Strings are immutable that is it cannot be changed by the place,It is fixed all the time\n",
    "#we can access the string by index number but it cannot be mutated or changed\n"
   ]
  },
  {
   "cell_type": "code",
   "execution_count": null,
   "id": "4843f7fe-cf41-44c3-933e-191e79486dc0",
   "metadata": {},
   "outputs": [],
   "source": [
    "#Strings indexing start from 0 from  left whereas -1 from right or last position.\n",
    "#it can be acccessed by both directions\n",
    "#list also can be accessed by negative indexing\n",
    "#blank spaces in the strings are printed in indexing \n"
   ]
  },
  {
   "cell_type": "code",
   "execution_count": 43,
   "id": "bd1b5290-9716-4ba0-a0ba-f1010df2cdcc",
   "metadata": {},
   "outputs": [
    {
     "data": {
      "text/plain": [
       "'m'"
      ]
     },
     "execution_count": 43,
     "metadata": {},
     "output_type": "execute_result"
    }
   ],
   "source": [
    "s = \"I am a python lover\"\n",
    "s\n",
    "s[1]\n",
    "s[3] # accesing the string by index number"
   ]
  },
  {
   "cell_type": "code",
   "execution_count": 45,
   "id": "d47da7a9-5cb1-499b-82bf-3d38e960216f",
   "metadata": {},
   "outputs": [
    {
     "data": {
      "text/plain": [
       "'o'"
      ]
     },
     "execution_count": 45,
     "metadata": {},
     "output_type": "execute_result"
    }
   ],
   "source": [
    "s[-1]\n",
    "s[-4]"
   ]
  },
  {
   "cell_type": "code",
   "execution_count": 46,
   "id": "d65a16e4-33d3-4105-9810-09b6fbe07453",
   "metadata": {},
   "outputs": [
    {
     "data": {
      "text/plain": [
       "'python lover'"
      ]
     },
     "execution_count": 46,
     "metadata": {},
     "output_type": "execute_result"
    }
   ],
   "source": [
    "#String Slicing : Just take a part of string and conduct operations on it for requirement\n",
    "s[7:]\n",
    "#everytime[] are used for string operations\n",
    "#[7:]sepcifies that the string begings index 7 and ends at the end of the string\n"
   ]
  },
  {
   "cell_type": "code",
   "execution_count": 47,
   "id": "c6ab8946-f895-4233-ba58-68b63db79742",
   "metadata": {},
   "outputs": [],
   "source": [
    "L = [\"Hello\",\"Python\",\"9\"]"
   ]
  },
  {
   "cell_type": "code",
   "execution_count": 48,
   "id": "d6e71dfa-d5a0-4654-a9bf-80dcefaa216a",
   "metadata": {},
   "outputs": [
    {
     "ename": "NameError",
     "evalue": "name 'l' is not defined",
     "output_type": "error",
     "traceback": [
      "\u001b[1;31m---------------------------------------------------------------------------\u001b[0m",
      "\u001b[1;31mNameError\u001b[0m                                 Traceback (most recent call last)",
      "Cell \u001b[1;32mIn[48], line 1\u001b[0m\n\u001b[1;32m----> 1\u001b[0m \u001b[43ml\u001b[49m\n",
      "\u001b[1;31mNameError\u001b[0m: name 'l' is not defined"
     ]
    }
   ],
   "source": [
    "l"
   ]
  },
  {
   "cell_type": "code",
   "execution_count": 50,
   "id": "b33e836e-ba5b-4302-9a95-d5ddb47e14f0",
   "metadata": {},
   "outputs": [
    {
     "data": {
      "text/plain": [
       "['Hello', 'Python']"
      ]
     },
     "execution_count": 50,
     "metadata": {},
     "output_type": "execute_result"
    }
   ],
   "source": [
    "L\n",
    "L[:2]\n",
    "#starts from first element till the mentioned index number\n",
    "#Note : if the index number mentioned is 2 it counts upto 1 only that is previous index"
   ]
  },
  {
   "cell_type": "code",
   "execution_count": 51,
   "id": "dc13025c-cae2-459a-bbf6-c5f0d6ee7b2a",
   "metadata": {},
   "outputs": [
    {
     "data": {
      "text/plain": [
       "'python'"
      ]
     },
     "execution_count": 51,
     "metadata": {},
     "output_type": "execute_result"
    }
   ],
   "source": [
    "s[7:13]"
   ]
  },
  {
   "cell_type": "code",
   "execution_count": 52,
   "id": "16d6d245-f8a3-4460-8140-563fd9475ebe",
   "metadata": {},
   "outputs": [
    {
     "data": {
      "text/plain": [
       "' '"
      ]
     },
     "execution_count": 52,
     "metadata": {},
     "output_type": "execute_result"
    }
   ],
   "source": [
    "s[13]"
   ]
  },
  {
   "cell_type": "code",
   "execution_count": 53,
   "id": "830e7e4e-81ed-4cf9-9300-0da1dec69786",
   "metadata": {},
   "outputs": [
    {
     "data": {
      "text/plain": [
       "'n l'"
      ]
     },
     "execution_count": 53,
     "metadata": {},
     "output_type": "execute_result"
    }
   ],
   "source": [
    "s[12:15]\n",
    "#also includes spacing between strings and exlcudes the last index or right hand side index slicing\n"
   ]
  },
  {
   "cell_type": "code",
   "execution_count": 54,
   "id": "690fb2b1-336c-4277-988b-634424e33cb8",
   "metadata": {},
   "outputs": [
    {
     "data": {
      "text/plain": [
       "'Jacobian'"
      ]
     },
     "execution_count": 54,
     "metadata": {},
     "output_type": "execute_result"
    }
   ],
   "source": [
    "s1 = 'Jacobian'\n",
    "s1"
   ]
  },
  {
   "cell_type": "code",
   "execution_count": 55,
   "id": "5467c5a1-3791-4924-b0fc-4fa58904f180",
   "metadata": {},
   "outputs": [
    {
     "data": {
      "text/plain": [
       "' a '"
      ]
     },
     "execution_count": 55,
     "metadata": {},
     "output_type": "execute_result"
    }
   ],
   "source": [
    "s[4:7]"
   ]
  },
  {
   "cell_type": "code",
   "execution_count": 56,
   "id": "5c62f8e9-0bc2-4608-9610-550ef9201239",
   "metadata": {},
   "outputs": [
    {
     "data": {
      "text/plain": [
       "'bia'"
      ]
     },
     "execution_count": 56,
     "metadata": {},
     "output_type": "execute_result"
    }
   ],
   "source": [
    "s1[4:7]\n",
    "#7th index position is excluded and 4 th position is included"
   ]
  },
  {
   "cell_type": "code",
   "execution_count": 60,
   "id": "6456baf8-4ca2-4a19-a13a-0efa2f7ff16e",
   "metadata": {},
   "outputs": [
    {
     "data": {
      "text/plain": [
       "'bia'"
      ]
     },
     "execution_count": 60,
     "metadata": {},
     "output_type": "execute_result"
    }
   ],
   "source": [
    "#slicing can be done using negative number that is backwards or right hand\n",
    "s[-1:-4]\n",
    "s1[-4:-1]# always excludes the right side "
   ]
  }
 ],
 "metadata": {
  "kernelspec": {
   "display_name": "Python 3 (ipykernel)",
   "language": "python",
   "name": "python3"
  },
  "language_info": {
   "codemirror_mode": {
    "name": "ipython",
    "version": 3
   },
   "file_extension": ".py",
   "mimetype": "text/x-python",
   "name": "python",
   "nbconvert_exporter": "python",
   "pygments_lexer": "ipython3",
   "version": "3.13.0"
  }
 },
 "nbformat": 4,
 "nbformat_minor": 5
}
