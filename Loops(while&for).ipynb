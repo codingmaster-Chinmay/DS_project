{
 "cells": [
  {
   "cell_type": "code",
   "execution_count": null,
   "id": "5755dc07-5993-4ffe-865f-5c956a93cc50",
   "metadata": {},
   "outputs": [],
   "source": [
    "#LOOPS:-\n",
    "#2 loops - for and while\n",
    "\n"
   ]
  },
  {
   "cell_type": "code",
   "execution_count": null,
   "id": "ab19ecf5-be8c-4b7d-a8d9-8ddc283ae13f",
   "metadata": {},
   "outputs": [],
   "source": [
    "#WHILE LOOP:-\n",
    "#with while loop we can execute a set of statments as long as condition is true"
   ]
  },
  {
   "cell_type": "code",
   "execution_count": 1,
   "id": "ef317321-043e-4cd7-8986-005b7ea872d4",
   "metadata": {},
   "outputs": [
    {
     "name": "stdout",
     "output_type": "stream",
     "text": [
      "1\n",
      "2\n",
      "3\n",
      "4\n",
      "5\n"
     ]
    }
   ],
   "source": [
    "counter = 1\n",
    "while(counter < 6):\n",
    "    #loop always excludes the ending value\n",
    "    print(counter)\n",
    "    counter = counter + 1"
   ]
  },
  {
   "cell_type": "code",
   "execution_count": 3,
   "id": "23506e67-51cd-4415-8422-716b496be59c",
   "metadata": {},
   "outputs": [
    {
     "name": "stdout",
     "output_type": "stream",
     "text": [
      "1\n",
      "2\n",
      "3\n"
     ]
    }
   ],
   "source": [
    "#break statment :-\n",
    "counter = 1\n",
    "while(counter < 6):\n",
    "    print(counter)\n",
    "    if counter == 3:\n",
    "        break\n",
    "    counter = counter+1    "
   ]
  },
  {
   "cell_type": "code",
   "execution_count": 4,
   "id": "8fb1272d-d986-4606-85ea-495d6573bd9c",
   "metadata": {},
   "outputs": [
    {
     "name": "stdout",
     "output_type": "stream",
     "text": [
      "1\n",
      "2\n",
      "4\n",
      "5\n",
      "6\n"
     ]
    }
   ],
   "source": [
    "#Continue Statement:-\n",
    "counter = 0\n",
    "while counter < 6:\n",
    "    counter = counter + 1\n",
    "    if counter == 3:\n",
    "        continue\n",
    "        # continue statement is used to continue the loop \n",
    "    print(counter)    "
   ]
  },
  {
   "cell_type": "code",
   "execution_count": null,
   "id": "6df30a2e-ae88-4545-885d-a83e7a63f55b",
   "metadata": {},
   "outputs": [],
   "source": [
    "#else statement:-\n",
    "#with else statement we can run a block od code when the condition no longer is true:"
   ]
  },
  {
   "cell_type": "code",
   "execution_count": 5,
   "id": "0856e59e-841d-434a-9031-c3c1d24ba5ed",
   "metadata": {},
   "outputs": [
    {
     "name": "stdout",
     "output_type": "stream",
     "text": [
      "1\n",
      "2\n",
      "3\n",
      "4\n",
      "5\n",
      "counter is no longer less than 6\n"
     ]
    }
   ],
   "source": [
    "counter = 1\n",
    "while(counter < 6):\n",
    "    print(counter)\n",
    "    counter = counter + 1\n",
    "else:\n",
    "    print(\"counter is no longer less than 6\")"
   ]
  },
  {
   "cell_type": "code",
   "execution_count": null,
   "id": "52bd786e-bf3c-46a6-bb1a-c6e7ec8764da",
   "metadata": {},
   "outputs": [],
   "source": [
    "#Python For loops:-\n",
    "#for loop is used for iterating over a sequence(that is either a list, a tuple,a dictionary,a set, or a string)"
   ]
  },
  {
   "cell_type": "code",
   "execution_count": null,
   "id": "1d39e35a-d90d-4180-a04d-1e3305e389fb",
   "metadata": {},
   "outputs": [],
   "source": [
    "#for loop we execute a set of statments , once for each item in list,tuple,set\n",
    "#for loop is executed for finite loop, with initializing ,terminating and incremental process"
   ]
  },
  {
   "cell_type": "code",
   "execution_count": 6,
   "id": "179fce48-67fd-41b5-bc20-65a27c76c4bf",
   "metadata": {},
   "outputs": [
    {
     "name": "stdout",
     "output_type": "stream",
     "text": [
      "apple\n",
      "banana\n",
      "cherry\n"
     ]
    }
   ],
   "source": [
    "fruits = [\"apple\",\"banana\",\"cherry\"]\n",
    "for x in fruits:\n",
    "    print(x)"
   ]
  },
  {
   "cell_type": "code",
   "execution_count": 7,
   "id": "0c9afb23-ecd8-4b59-978f-83d5c172577a",
   "metadata": {},
   "outputs": [
    {
     "name": "stdout",
     "output_type": "stream",
     "text": [
      "apple\n",
      "banana\n"
     ]
    }
   ],
   "source": [
    "#break statement \n",
    "fruit = [\"apple\",\"banana\",\"cherry\"]\n",
    "for x in fruits:\n",
    "    print(x)\n",
    "    #it starts from apple that is index 0 and counts in loop\n",
    "    #if x is equals to banana it breaks and stops the loop\n",
    "    if x == \"banana\":\n",
    "        break"
   ]
  },
  {
   "cell_type": "code",
   "execution_count": null,
   "id": "3942926f-b223-4909-81cb-447958ca2f69",
   "metadata": {},
   "outputs": [],
   "source": [
    "#RANGE FUNCTION:-\n",
    "#To loop through set of code specified number of times,we can use range() function\n",
    "#The range range() function returns a sequence of numbers , starting from 0 by default ,and increments by 1 (by default),and ends at a specified number."
   ]
  },
  {
   "cell_type": "code",
   "execution_count": 8,
   "id": "5638814d-a781-47a2-9180-a1dad97197be",
   "metadata": {},
   "outputs": [
    {
     "name": "stdout",
     "output_type": "stream",
     "text": [
      "0\n",
      "1\n",
      "2\n",
      "3\n",
      "4\n",
      "5\n"
     ]
    }
   ],
   "source": [
    "#using range() function \n",
    "for x in range(6):\n",
    "    print(x)"
   ]
  },
  {
   "cell_type": "code",
   "execution_count": null,
   "id": "0096c1e8-27cc-4f80-adbe-8bceb0dea3db",
   "metadata": {},
   "outputs": [],
   "source": [
    " #range() function is  given by start and end value too"
   ]
  },
  {
   "cell_type": "code",
   "execution_count": 10,
   "id": "417a445a-792e-419e-872d-b2b4810ef2d7",
   "metadata": {},
   "outputs": [
    {
     "name": "stdout",
     "output_type": "stream",
     "text": [
      "2\n",
      "3\n",
      "4\n",
      "5\n"
     ]
    }
   ],
   "source": [
    "for x in range(2,6):\n",
    "    print(x)\n",
    "    #end point is excluded"
   ]
  },
  {
   "cell_type": "code",
   "execution_count": 11,
   "id": "7c37fa97-788e-43c6-88b5-8a6e2750d24d",
   "metadata": {},
   "outputs": [
    {
     "name": "stdout",
     "output_type": "stream",
     "text": [
      "2\n",
      "5\n",
      "8\n",
      "11\n",
      "14\n",
      "17\n",
      "20\n",
      "23\n",
      "26\n",
      "29\n"
     ]
    }
   ],
   "source": [
    "for x in range(2,30,3):\n",
    "    print(x)"
   ]
  },
  {
   "cell_type": "code",
   "execution_count": null,
   "id": "fcef7556-5ce8-4ef9-9ee8-d15a2f7f55eb",
   "metadata": {},
   "outputs": [],
   "source": [
    "#Else in for loop :-\n",
    "#else keyword in for loop speifies a block of code to be executed when the loop if finished\n"
   ]
  },
  {
   "cell_type": "code",
   "execution_count": 12,
   "id": "28236a2b-ff97-45eb-969c-c4d1f40ccb7a",
   "metadata": {},
   "outputs": [
    {
     "name": "stdout",
     "output_type": "stream",
     "text": [
      "0\n",
      "1\n",
      "2\n",
      "3\n",
      "4\n",
      "5\n",
      "Finally finished\n"
     ]
    }
   ],
   "source": [
    "for x in range(6):\n",
    "    print(x)\n",
    "\n",
    "else:\n",
    "    print(\"Finally finished\")\n",
    "    "
   ]
  },
  {
   "cell_type": "code",
   "execution_count": 13,
   "id": "64739a31-5d52-4f48-a2c2-26ca271d78b0",
   "metadata": {},
   "outputs": [
    {
     "name": "stdout",
     "output_type": "stream",
     "text": [
      "red apple\n",
      "red banana\n",
      "red cherry\n",
      "big apple\n",
      "big banana\n",
      "big cherry\n",
      "tasty apple\n",
      "tasty banana\n",
      "tasty cherry\n"
     ]
    }
   ],
   "source": [
    "#Nested for loop:-\n",
    "adj = [\"red\",\"big\",\"tasty\"]\n",
    "fruits = [\"apple\",\"banana\",\"cherry\"]\n",
    "for x in adj:\n",
    "    for y in fruits:\n",
    "        print(x,y)"
   ]
  },
  {
   "cell_type": "code",
   "execution_count": null,
   "id": "39820993-566a-486e-ba9c-acc95349ffb4",
   "metadata": {},
   "outputs": [],
   "source": []
  }
 ],
 "metadata": {
  "kernelspec": {
   "display_name": "Python 3 (ipykernel)",
   "language": "python",
   "name": "python3"
  },
  "language_info": {
   "codemirror_mode": {
    "name": "ipython",
    "version": 3
   },
   "file_extension": ".py",
   "mimetype": "text/x-python",
   "name": "python",
   "nbconvert_exporter": "python",
   "pygments_lexer": "ipython3",
   "version": "3.13.0"
  }
 },
 "nbformat": 4,
 "nbformat_minor": 5
}
