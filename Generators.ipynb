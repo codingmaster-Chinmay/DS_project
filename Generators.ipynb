{
 "cells": [
  {
   "cell_type": "code",
   "execution_count": null,
   "id": "f224e369-bc36-4ffc-b960-9654939fcdaf",
   "metadata": {},
   "outputs": [],
   "source": [
    "#GENERATORS:-\n",
    "#iterators help us to print or fetch one value at a time .\n",
    "#next and iter is two functions to print \n"
   ]
  },
  {
   "cell_type": "code",
   "execution_count": 12,
   "id": "528364ae-0c92-4c75-b6c3-076c7c7498c8",
   "metadata": {},
   "outputs": [
    {
     "name": "stdout",
     "output_type": "stream",
     "text": [
      "1\n",
      "2\n",
      "3\n",
      "4\n",
      "5\n"
     ]
    }
   ],
   "source": [
    "#generators:-\n",
    "def topten():\n",
    "    yield 1\n",
    "    yield 2\n",
    "    yield 3\n",
    "    yield 4\n",
    "    yield 5\n",
    "    # it gives generator\n",
    "#'yeildd is used instead of return which makes and iterator/function as generator'.\n",
    "   # return 5\n",
    "    #normal return function will return the value\n",
    "     \n",
    "\n",
    "\n",
    "\n",
    "\n",
    "values  = topten()\n",
    "#print(values.__next__())\n",
    "#it gives value 1 for next \n",
    "\n",
    "#generator 'yield ' provides iterator and and gives the iterator values.\n",
    "\n",
    "for i in values:\n",
    "    print(i)\n",
    "#function used  to print top ten values"
   ]
  },
  {
   "cell_type": "code",
   "execution_count": 13,
   "id": "69051411-2274-4e64-82f3-dc6d97bdf528",
   "metadata": {},
   "outputs": [
    {
     "name": "stdout",
     "output_type": "stream",
     "text": [
      "1\n",
      "4\n",
      "9\n",
      "16\n",
      "25\n",
      "36\n",
      "49\n",
      "64\n",
      "81\n",
      "100\n"
     ]
    }
   ],
   "source": [
    "#return will exit the function but yield does not\n",
    "def topten():\n",
    "    n = 1\n",
    "    while n <= 10:\n",
    "        sq = n*n\n",
    "        yield sq\n",
    "        n += 1\n",
    "\n",
    "\n",
    "values = topten()\n",
    "\n",
    "for i in values:\n",
    "    print(i)\n",
    "#return will terminate the function , yield will not\n",
    "\n",
    "\n",
    "    \n",
    "\n",
    "#when loop asks for value it will give 1, then 4 and so on \n",
    "#iterator using a generator\n",
    "#but why Generator??\n",
    "#generator iterates the value itself and prints the value \n",
    "#if you want to access/fetch (may be print all or work) 1000 records one by one and then rather by accessing it at a time by return \n",
    "#yeild can be used instead\n",
    "#one value at a time."
   ]
  },
  {
   "cell_type": "code",
   "execution_count": 2,
   "id": "63ba7267",
   "metadata": {},
   "outputs": [
    {
     "name": "stdout",
     "output_type": "stream",
     "text": [
      "0\n",
      "1\n",
      "2\n",
      "3\n",
      "4\n"
     ]
    }
   ],
   "source": [
    "#Generator function example:\n",
    "def number_generator(n):\n",
    "    for i in range(n):\n",
    "        yield i\n",
    "for num in number_generator(5):\n",
    "    print(num)\n",
    "            \n",
    "            \n",
    "\"\"\"\n",
    "Generators are type of iterable in python that allows us to produce a sequence of va;ues one at  time as we iterate through them .\n",
    "Generators generate the values on fly making it memory efficient and suitable for handling large datasets.\n",
    "two types - \n",
    "1. generator function \n",
    "2. generator expression  \n",
    " \n",
    " \n",
    " \"\"\"           "
   ]
  },
  {
   "cell_type": "code",
   "execution_count": 3,
   "id": "742fd5ee",
   "metadata": {},
   "outputs": [
    {
     "name": "stdout",
     "output_type": "stream",
     "text": [
      "0\n",
      "1\n",
      "4\n",
      "9\n",
      "16\n"
     ]
    }
   ],
   "source": [
    "#Generator expresssion:\n",
    "squares = (x ** 2 for  x in range(5))\n",
    "for square in squares:\n",
    "    print(square)"
   ]
  }
 ],
 "metadata": {
  "kernelspec": {
   "display_name": "Python 3",
   "language": "python",
   "name": "python3"
  },
  "language_info": {
   "codemirror_mode": {
    "name": "ipython",
    "version": 3
   },
   "file_extension": ".py",
   "mimetype": "text/x-python",
   "name": "python",
   "nbconvert_exporter": "python",
   "pygments_lexer": "ipython3",
   "version": "3.13.0"
  }
 },
 "nbformat": 4,
 "nbformat_minor": 5
}
