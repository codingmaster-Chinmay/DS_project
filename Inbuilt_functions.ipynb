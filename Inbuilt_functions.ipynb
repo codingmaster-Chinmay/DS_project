{
 "cells": [
  {
   "cell_type": "code",
   "execution_count": null,
   "id": "ac6c66f2-f329-4c58-9475-e009cba314b7",
   "metadata": {},
   "outputs": [],
   "source": [
    "#Inbuilt Functions:\n"
   ]
  },
  {
   "cell_type": "code",
   "execution_count": 1,
   "id": "415514d4-22d2-45ae-9b71-4b3416a89c89",
   "metadata": {},
   "outputs": [
    {
     "data": {
      "text/plain": [
       "100"
      ]
     },
     "execution_count": 1,
     "metadata": {},
     "output_type": "execute_result"
    }
   ],
   "source": [
    "lists = [23,56,100,78,45]\n",
    "max(lists)#gives maximum value from the list"
   ]
  },
  {
   "cell_type": "code",
   "execution_count": 2,
   "id": "5bbd6ddb-ede1-4577-ab3d-f0fe7a7cf08f",
   "metadata": {},
   "outputs": [
    {
     "data": {
      "text/plain": [
       "23"
      ]
     },
     "execution_count": 2,
     "metadata": {},
     "output_type": "execute_result"
    }
   ],
   "source": [
    "min(lists)#returns minimum value from the list"
   ]
  },
  {
   "cell_type": "code",
   "execution_count": 3,
   "id": "cbfee1d0-39ba-4782-83f6-8c864762da52",
   "metadata": {},
   "outputs": [
    {
     "name": "stdin",
     "output_type": "stream",
     "text": [
      " Data science\n"
     ]
    },
    {
     "name": "stdout",
     "output_type": "stream",
     "text": [
      "Data science\n"
     ]
    }
   ],
   "source": [
    "x = input()#inbuilt fucnctions to take input from user\n",
    "print(x)\n",
    "data science\n"
   ]
  },
  {
   "cell_type": "code",
   "execution_count": null,
   "id": "75181846-433a-4379-92ee-347a73c1eb6d",
   "metadata": {},
   "outputs": [],
   "source": []
  },
  {
   "cell_type": "code",
   "execution_count": 4,
   "id": "df3ef90e-c9cd-48b1-bc39-7250415d2b1c",
   "metadata": {},
   "outputs": [
    {
     "data": {
      "text/plain": [
       "12"
      ]
     },
     "execution_count": 4,
     "metadata": {},
     "output_type": "execute_result"
    }
   ],
   "source": [
    "eval('2+ 3+ 7') #eval function used to calculate the mathematical operation "
   ]
  },
  {
   "cell_type": "code",
   "execution_count": 5,
   "id": "19aa4d46-520a-479f-8363-334c985ddd05",
   "metadata": {},
   "outputs": [
    {
     "data": {
      "text/plain": [
       "'2 +3 +7'"
      ]
     },
     "execution_count": 5,
     "metadata": {},
     "output_type": "execute_result"
    }
   ],
   "source": [
    "\"2 +3 +7\"#string"
   ]
  },
  {
   "cell_type": "code",
   "execution_count": 6,
   "id": "d535fe3e-0550-4319-ab83-ed3d90f7e25e",
   "metadata": {},
   "outputs": [
    {
     "data": {
      "text/plain": [
       "7"
      ]
     },
     "execution_count": 6,
     "metadata": {},
     "output_type": "execute_result"
    }
   ],
   "source": [
    "int(7.3)\n",
    "#int() function converts the value into integer "
   ]
  },
  {
   "cell_type": "code",
   "execution_count": 7,
   "id": "f563d6c9-1a3f-435c-be5e-e849b096d8c1",
   "metadata": {},
   "outputs": [
    {
     "data": {
      "text/plain": [
       "7.0"
      ]
     },
     "execution_count": 7,
     "metadata": {},
     "output_type": "execute_result"
    }
   ],
   "source": [
    "float(7)\n",
    "#converts integer whole value into decimal"
   ]
  },
  {
   "cell_type": "code",
   "execution_count": 8,
   "id": "1972f535-092b-463f-8bd0-80184694b453",
   "metadata": {},
   "outputs": [
    {
     "data": {
      "text/plain": [
       "(7+0j)"
      ]
     },
     "execution_count": 8,
     "metadata": {},
     "output_type": "execute_result"
    }
   ],
   "source": [
    "complex(7)\n",
    "#converts the number into a+bi form that is complex number"
   ]
  },
  {
   "cell_type": "code",
   "execution_count": 9,
   "id": "00eca0e3-e863-4efc-8e11-1310dc34f723",
   "metadata": {},
   "outputs": [
    {
     "data": {
      "text/plain": [
       "97"
      ]
     },
     "execution_count": 9,
     "metadata": {},
     "output_type": "execute_result"
    }
   ],
   "source": [
    "ord('a')"
   ]
  },
  {
   "cell_type": "code",
   "execution_count": 10,
   "id": "3eba6cad-cdd9-4ef3-9060-e8848e216be0",
   "metadata": {},
   "outputs": [],
   "source": [
    "#USER DEFINED FUNCTIONS:"
   ]
  },
  {
   "cell_type": "code",
   "execution_count": 11,
   "id": "0ddf943f-6ece-4f65-8db5-9496585abfbb",
   "metadata": {},
   "outputs": [
    {
     "data": {
      "text/plain": [
       "34"
      ]
     },
     "execution_count": 11,
     "metadata": {},
     "output_type": "execute_result"
    }
   ],
   "source": [
    "#the functions defines by the user itself are called user defines functions\n",
    "a = 12\n",
    "b = 22\n",
    "a + b"
   ]
  },
  {
   "cell_type": "code",
   "execution_count": 19,
   "id": "0b0620c1-b33e-45a5-b3ef-a4f2c734fb74",
   "metadata": {},
   "outputs": [],
   "source": [
    "#To use the functions repetatively they are defined in code \n",
    "def addition(a, b):\n",
    "    s = a + b\n",
    "    return s \n",
    "    "
   ]
  },
  {
   "cell_type": "code",
   "execution_count": 18,
   "id": "b6ba24b7-f0df-40bb-9247-de5bc923f27a",
   "metadata": {},
   "outputs": [
    {
     "data": {
      "text/plain": [
       "5"
      ]
     },
     "execution_count": 18,
     "metadata": {},
     "output_type": "execute_result"
    }
   ],
   "source": [
    "addition(2, 3)"
   ]
  },
  {
   "cell_type": "code",
   "execution_count": 17,
   "id": "9f79a6e9-3f65-4dfa-bab9-423dc32d9d16",
   "metadata": {},
   "outputs": [
    {
     "data": {
      "text/plain": [
       "5"
      ]
     },
     "execution_count": 17,
     "metadata": {},
     "output_type": "execute_result"
    }
   ],
   "source": [
    "addition(2, 3)#arguments 2 and 3 are passed into the parenthesis"
   ]
  },
  {
   "cell_type": "code",
   "execution_count": 20,
   "id": "682fdb8f-e079-434c-bc6b-3fb9f952a2e2",
   "metadata": {},
   "outputs": [],
   "source": [
    "def adds(a, b, c):#def is keyword used to define the functions \n",
    "    return a+b+c #a,b,c are parameters "
   ]
  },
  {
   "cell_type": "code",
   "execution_count": 21,
   "id": "c7a88df4-c99a-42ef-a792-c87464d70a2b",
   "metadata": {},
   "outputs": [
    {
     "data": {
      "text/plain": [
       "13"
      ]
     },
     "execution_count": 21,
     "metadata": {},
     "output_type": "execute_result"
    }
   ],
   "source": [
    "adds(1, 2, 10)"
   ]
  },
  {
   "cell_type": "code",
   "execution_count": 24,
   "id": "f120b7db-bab0-4f0f-8f0f-9b571cc12d20",
   "metadata": {},
   "outputs": [],
   "source": [
    "def add_many(*w):\n",
    "    s = 0 #sum is zero intially\n",
    "    print(type(w))\n",
    "    for i in w: #for loop in w\n",
    "        s = s + i  #i = w and gets added\n",
    "    return s #total value of sum"
   ]
  },
  {
   "cell_type": "code",
   "execution_count": 25,
   "id": "8dc7124c-3fea-4462-b905-0f08b298f9a5",
   "metadata": {},
   "outputs": [
    {
     "name": "stdout",
     "output_type": "stream",
     "text": [
      "<class 'tuple'>\n"
     ]
    },
    {
     "data": {
      "text/plain": [
       "228"
      ]
     },
     "execution_count": 25,
     "metadata": {},
     "output_type": "execute_result"
    }
   ],
   "source": [
    "add_many(1,2,3,89,99,34)\n"
   ]
  },
  {
   "cell_type": "code",
   "execution_count": 26,
   "id": "bc5666bb-ee96-49d8-b00a-c413ef7a1784",
   "metadata": {},
   "outputs": [],
   "source": [
    "def hello(**kwargs):\n",
    "    #keywords arguments\n",
    "    for key,value in kwargs.items():\n",
    "        print(key,value)"
   ]
  },
  {
   "cell_type": "code",
   "execution_count": 27,
   "id": "f817eb05-c742-40b0-af10-63fd5e183968",
   "metadata": {},
   "outputs": [
    {
     "name": "stdout",
     "output_type": "stream",
     "text": [
      "first Virat\n",
      "sur kohli\n"
     ]
    }
   ],
   "source": [
    "hello(first = 'Virat' ,sur = 'kohli')\n",
    "#key is first and value is virat"
   ]
  }
 ],
 "metadata": {
  "kernelspec": {
   "display_name": "Python 3 (ipykernel)",
   "language": "python",
   "name": "python3"
  },
  "language_info": {
   "codemirror_mode": {
    "name": "ipython",
    "version": 3
   },
   "file_extension": ".py",
   "mimetype": "text/x-python",
   "name": "python",
   "nbconvert_exporter": "python",
   "pygments_lexer": "ipython3",
   "version": "3.13.0"
  }
 },
 "nbformat": 4,
 "nbformat_minor": 5
}
