{
 "cells": [
  {
   "cell_type": "code",
   "execution_count": null,
   "id": "ff751c5b-1638-4a74-bc16-62446e2f9653",
   "metadata": {},
   "outputs": [],
   "source": [
    "#Python casting"
   ]
  },
  {
   "cell_type": "code",
   "execution_count": null,
   "id": "4c67584c-a232-4eb9-b997-8611c445249d",
   "metadata": {},
   "outputs": [],
   "source": [
    "#There may be sometimes when you want convert any datatype \n",
    "#into any other datatypes.\n",
    "#Casting in python is done by contructors.\n"
   ]
  },
  {
   "cell_type": "code",
   "execution_count": null,
   "id": "aed5d88b-a2b3-4b31-9fce-ba17a4426586",
   "metadata": {},
   "outputs": [],
   "source": [
    "int() :- #into integer literal\n",
    "#it converts any integer literal,any float\n",
    "#literal or string by removing any decimal , or any quotes"
   ]
  },
  {
   "cell_type": "code",
   "execution_count": null,
   "id": "c09bf7cf-0038-478d-9a5c-5ecc185d20e2",
   "metadata": {},
   "outputs": [],
   "source": [
    "float():- # into decimal or floating literal from\n",
    "#integer literal or string literal "
   ]
  },
  {
   "cell_type": "code",
   "execution_count": null,
   "id": "44b4be05-88a4-4723-86ca-9c15312897cb",
   "metadata": {},
   "outputs": [],
   "source": [
    "str() :- #into string from other datatypes\n",
    "#constructs string from wide variety o datatypes,including strings,integer literals.\n"
   ]
  },
  {
   "cell_type": "code",
   "execution_count": 5,
   "id": "d8dba2cd-bf29-49db-b0be-588803990d7b",
   "metadata": {},
   "outputs": [
    {
     "name": "stdout",
     "output_type": "stream",
     "text": [
      "1 2 3\n"
     ]
    }
   ],
   "source": [
    "#INTEGER CASTING\n",
    "\n",
    "\n",
    "x = int(1)\n",
    "y = int(2.8) #here 2.8 is converted into whole integer numer\n",
    "z = int(\"3\") #string is covnverted into whole number\n",
    "print(x,y,z)"
   ]
  },
  {
   "cell_type": "code",
   "execution_count": 6,
   "id": "dbebce55-c8ec-42b7-a0be-ab2987108708",
   "metadata": {},
   "outputs": [
    {
     "name": "stdout",
     "output_type": "stream",
     "text": [
      "1.0 2.8 3.0 4.2\n"
     ]
    }
   ],
   "source": [
    "# FLOAT CASTING\n",
    "\n",
    "x = float(1)\n",
    "y = float(2.8) #printed as it is as float\n",
    "z = float(\"3\") #sting is converted into float type\n",
    "w = float(\"4.2\") #string is converted into float\n",
    "\n",
    "print(x,y,z,w)"
   ]
  },
  {
   "cell_type": "code",
   "execution_count": 9,
   "id": "f915f70c-d836-464f-8e41-4084dc742724",
   "metadata": {},
   "outputs": [
    {
     "name": "stdout",
     "output_type": "stream",
     "text": [
      "s1 2 3.0\n"
     ]
    }
   ],
   "source": [
    "x = str(\"s1\") # s1 is printed as string itself\n",
    "y = str(2) #integer is converted into strings\n",
    "z = str(3.0) #float type is converted into string\n",
    "print(x,y,z) "
   ]
  }
 ],
 "metadata": {
  "kernelspec": {
   "display_name": "Python 3 (ipykernel)",
   "language": "python",
   "name": "python3"
  },
  "language_info": {
   "codemirror_mode": {
    "name": "ipython",
    "version": 3
   },
   "file_extension": ".py",
   "mimetype": "text/x-python",
   "name": "python",
   "nbconvert_exporter": "python",
   "pygments_lexer": "ipython3",
   "version": "3.13.0"
  }
 },
 "nbformat": 4,
 "nbformat_minor": 5
}
