{
 "cells": [
  {
   "cell_type": "markdown",
   "id": "ba618b70-1731-4618-bfe7-6c6963bafbb8",
   "metadata": {},
   "source": []
  },
  {
   "cell_type": "code",
   "execution_count": null,
   "id": "05591333-4f37-4811-9733-0f56cf124c88",
   "metadata": {},
   "outputs": [],
   "source": [
    "#CLASSES IN PYTHON(how to create and use it) \n",
    "#OOP IN PYTHON - object oriented programming /structure in python"
   ]
  },
  {
   "cell_type": "code",
   "execution_count": null,
   "id": "9e383af0-6c86-4fb2-9b73-b399b4ccdb09",
   "metadata": {},
   "outputs": [],
   "source": [
    "#how to write object oriented programming in python \n",
    "#ML - most of the models written in object - oriented "
   ]
  },
  {
   "cell_type": "code",
   "execution_count": null,
   "id": "a7282cc4-e398-4416-8ae7-919218cde46c",
   "metadata": {},
   "outputs": [],
   "source": [
    "#CLASS - is like a umbrella in which everyone comes under\n",
    "#It encapsulates everything inside it "
   ]
  },
  {
   "cell_type": "code",
   "execution_count": null,
   "id": "2f85ccda-b171-4198-9b03-8ca656feee1b",
   "metadata": {},
   "outputs": [],
   "source": [
    "#Class is an entity "
   ]
  },
  {
   "cell_type": "code",
   "execution_count": null,
   "id": "6e32a78b-e8fb-4607-8c28-808df7ca0233",
   "metadata": {},
   "outputs": [],
   "source": [
    "#python class\n",
    "\n",
    "#Syntax -  class class_name:\n",
    "#class is defined by using keyword class \n"
   ]
  },
  {
   "cell_type": "code",
   "execution_count": 3,
   "id": "adbc2b4c-bff4-4a29-8e52-7bcd285697c3",
   "metadata": {},
   "outputs": [],
   "source": [
    "class Car:\n",
    "\n",
    "    #'self' is keyword used to define the methos inside any class\n",
    "    def __init__(self, car_name, car_color):\n",
    "        #init is special keyword or function works as constructor\n",
    "        self.namecar = car_name #self is used to initialize the variables\n",
    "        self.colorcar = car_color\n",
    "\n",
    "    def engine(self, eng = \"980 horsepower\"):\n",
    "        #use formatted string\n",
    "        print(f\"The car {self.namecar} who's color is {self.colorcar} has an engine of {eng} \")\n",
    "        "
   ]
  },
  {
   "cell_type": "code",
   "execution_count": null,
   "id": "90e6cfc8-032d-4d0d-8e58-2925c2238b6b",
   "metadata": {},
   "outputs": [],
   "source": [
    "#Class needs to be initialized by something called methods\n",
    "#These methods are similar to functions but are called methods"
   ]
  },
  {
   "cell_type": "code",
   "execution_count": null,
   "id": "3166476d-e98b-433c-bb8d-c7231a0908a3",
   "metadata": {},
   "outputs": [],
   "source": [
    "#eng variable is locally defined  and self.namecar and colorcar becomes golbal variable"
   ]
  },
  {
   "cell_type": "code",
   "execution_count": null,
   "id": "8d4b1daa-f916-4073-8fc9-cd3e6f179711",
   "metadata": {},
   "outputs": [],
   "source": [
    "#In order to use class object needs to be created where the function of self comes into reference\n",
    "#objects are used to access the class"
   ]
  },
  {
   "cell_type": "code",
   "execution_count": 4,
   "id": "e0ac721c-0c9b-4bbd-9284-a15ec4dc1e8d",
   "metadata": {},
   "outputs": [],
   "source": [
    "A = Car(\"TATA\",\"Green\")\n",
    "#object A is created "
   ]
  },
  {
   "cell_type": "code",
   "execution_count": 5,
   "id": "cdb7a306-6623-4313-87b7-b6966d827470",
   "metadata": {},
   "outputs": [
    {
     "name": "stdout",
     "output_type": "stream",
     "text": [
      "The car TATA who's color is Green has an engine of 980 horsepower \n"
     ]
    }
   ],
   "source": [
    "A.engine()"
   ]
  },
  {
   "cell_type": "code",
   "execution_count": 6,
   "id": "0336214c-8d9d-4821-8c6d-240f52ad8c20",
   "metadata": {},
   "outputs": [
    {
     "name": "stdout",
     "output_type": "stream",
     "text": [
      "The car Hyundai who's color is Black has an engine of 670 HP \n"
     ]
    }
   ],
   "source": [
    "#Object - it is an instance of a class.There can be more than one objects in class\n",
    "#another object B\n",
    "B = Car(\"Hyundai\",\"Black\")#function call for init using object B\n",
    "B.engine(\"670 HP\")#function call for def engine using B\n",
    "\n",
    "\n",
    "\n",
    "# Syntax - object.function_name()"
   ]
  },
  {
   "cell_type": "code",
   "execution_count": null,
   "id": "4b9bf2b0-0359-4566-86ec-93f50493c1df",
   "metadata": {},
   "outputs": [],
   "source": [
    "#A and B are two objects of class Car which are intances (copies of that class).\n"
   ]
  },
  {
   "cell_type": "code",
   "execution_count": null,
   "id": "e8d17a74-b842-45fb-b56f-d1f371cc359c",
   "metadata": {},
   "outputs": [],
   "source": [
    "#Inheritance - there is class inherited from another class\n",
    "#properties of a class are used by another class  is called inheritance\n"
   ]
  },
  {
   "cell_type": "code",
   "execution_count": null,
   "id": "7d374a81-b968-480b-a27b-5461f60607d7",
   "metadata": {},
   "outputs": [],
   "source": [
    "#class must start with capital/upper case\n"
   ]
  },
  {
   "cell_type": "code",
   "execution_count": 21,
   "id": "369be92b-a2ed-4a74-a195-edf1abf61e6b",
   "metadata": {},
   "outputs": [],
   "source": [
    "class Innova(Car):\n",
    "    #Innova is also a class which has properties of Car so innova inherits the Car and Car has been inherited.\n",
    "    #We have inherit its constructor as well that is its functions.\n",
    "    \n",
    "    #keyword - 'super' is used to inherit the function from previous class\n",
    "#here constructor class needs to be defined (alag se)\n",
    "    def __init__(self, music_name, car_name, car_color):\n",
    "       super().__init__(car_name, car_color)\n",
    "       #it takes 2  parameters from previous and a new one\n",
    "       self.musicsystem = music_name\n",
    "       \n",
    "    def musicsystem(self):\n",
    "       print(f\"Innova has an awesome music system named {self.musicsystem} with car color {self.colorcar}\")\n",
    "#super class - the class which is main class or which is to be inherited\n",
    "#child class - the class which inherits the main class or super class\n"
   ]
  },
  {
   "cell_type": "code",
   "execution_count": 22,
   "id": "91062787-da7f-4d64-8cb7-99bb3ac76fef",
   "metadata": {},
   "outputs": [],
   "source": [
    "obj = Innova(\"Dolby\",\"Innova luxury\",\"black\")\n"
   ]
  },
  {
   "cell_type": "code",
   "execution_count": null,
   "id": "520e84a4-6c56-42e5-8b42-429e22854f60",
   "metadata": {},
   "outputs": [],
   "source": [
    "#note - \n",
    "#Any child class can inherit the methods of super class but any super class\n",
    "#cannot inherit the methods of child class\n"
   ]
  },
  {
   "cell_type": "code",
   "execution_count": null,
   "id": "e44bd809-844b-4256-8d97-046feb18e600",
   "metadata": {},
   "outputs": [],
   "source": []
  }
 ],
 "metadata": {
  "kernelspec": {
   "display_name": "Python 3 (ipykernel)",
   "language": "python",
   "name": "python3"
  },
  "language_info": {
   "codemirror_mode": {
    "name": "ipython",
    "version": 3
   },
   "file_extension": ".py",
   "mimetype": "text/x-python",
   "name": "python",
   "nbconvert_exporter": "python",
   "pygments_lexer": "ipython3",
   "version": "3.13.0"
  }
 },
 "nbformat": 4,
 "nbformat_minor": 5
}
