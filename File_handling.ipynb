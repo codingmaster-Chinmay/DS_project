{
 "cells": [
  {
   "cell_type": "code",
   "execution_count": null,
   "id": "01b37688-996c-4c7b-b540-f2d9d19d067d",
   "metadata": {},
   "outputs": [],
   "source": [
    "#File handling is an important part of web application."
   ]
  },
  {
   "cell_type": "code",
   "execution_count": null,
   "id": "4fd6c965-0379-446b-bfdf-75b10415b6b5",
   "metadata": {},
   "outputs": [],
   "source": [
    "#key function for working with files in python is the open() function.\n",
    "#open() function takes two parameters;filename, and mode.\n",
    "#There are four different methods(modes) for opening a file:\n"
   ]
  },
  {
   "cell_type": "code",
   "execution_count": null,
   "id": "d669c20b-5198-482f-a20c-f723a97d6d45",
   "metadata": {},
   "outputs": [],
   "source": [
    "#\"r\" - Read - Default value.Opens a file for reading ,error if the files\n",
    "#does not exist.\n",
    "#\"a\"- Append - opens a file for appending , creates the file it is does \n",
    "#not exist.\n",
    "#\"w\" - Write - opens a file for writing ,created the file if it does not exist.\n",
    "#\"x\" - create - creates the specified file, returns an error if the file exists\n",
    "#\"t\" - text - Default value .text mode\n",
    "#\"b\" - Binary - binary mode(e.g images)"
   ]
  },
  {
   "cell_type": "code",
   "execution_count": 2,
   "id": "c23d43c9-ba2c-4c62-a2a9-0efc49ec05c0",
   "metadata": {},
   "outputs": [
    {
     "ename": "FileNotFoundError",
     "evalue": "[Errno 2] No such file or directory: 'demofile.txt'",
     "output_type": "error",
     "traceback": [
      "\u001b[1;31m---------------------------------------------------------------------------\u001b[0m",
      "\u001b[1;31mFileNotFoundError\u001b[0m                         Traceback (most recent call last)",
      "Cell \u001b[1;32mIn[2], line 1\u001b[0m\n\u001b[1;32m----> 1\u001b[0m f \u001b[38;5;241m=\u001b[39m \u001b[38;5;28;43mopen\u001b[39;49m\u001b[43m(\u001b[49m\u001b[38;5;124;43m\"\u001b[39;49m\u001b[38;5;124;43mdemofile.txt\u001b[39;49m\u001b[38;5;124;43m\"\u001b[39;49m\u001b[43m)\u001b[49m\n\u001b[0;32m      2\u001b[0m f \u001b[38;5;241m=\u001b[39m \u001b[38;5;28mopen\u001b[39m(\u001b[38;5;124m\"\u001b[39m\u001b[38;5;124mdemofile.txt\u001b[39m\u001b[38;5;124m\"\u001b[39m,\u001b[38;5;124m\"\u001b[39m\u001b[38;5;124mrt\u001b[39m\u001b[38;5;124m\"\u001b[39m)\n",
      "File \u001b[1;32m~\\AppData\\Local\\Programs\\Python\\Python313\\Lib\\site-packages\\IPython\\core\\interactiveshell.py:324\u001b[0m, in \u001b[0;36m_modified_open\u001b[1;34m(file, *args, **kwargs)\u001b[0m\n\u001b[0;32m    317\u001b[0m \u001b[38;5;28;01mif\u001b[39;00m file \u001b[38;5;129;01min\u001b[39;00m {\u001b[38;5;241m0\u001b[39m, \u001b[38;5;241m1\u001b[39m, \u001b[38;5;241m2\u001b[39m}:\n\u001b[0;32m    318\u001b[0m     \u001b[38;5;28;01mraise\u001b[39;00m \u001b[38;5;167;01mValueError\u001b[39;00m(\n\u001b[0;32m    319\u001b[0m         \u001b[38;5;124mf\u001b[39m\u001b[38;5;124m\"\u001b[39m\u001b[38;5;124mIPython won\u001b[39m\u001b[38;5;124m'\u001b[39m\u001b[38;5;124mt let you open fd=\u001b[39m\u001b[38;5;132;01m{\u001b[39;00mfile\u001b[38;5;132;01m}\u001b[39;00m\u001b[38;5;124m by default \u001b[39m\u001b[38;5;124m\"\u001b[39m\n\u001b[0;32m    320\u001b[0m         \u001b[38;5;124m\"\u001b[39m\u001b[38;5;124mas it is likely to crash IPython. If you know what you are doing, \u001b[39m\u001b[38;5;124m\"\u001b[39m\n\u001b[0;32m    321\u001b[0m         \u001b[38;5;124m\"\u001b[39m\u001b[38;5;124myou can use builtins\u001b[39m\u001b[38;5;124m'\u001b[39m\u001b[38;5;124m open.\u001b[39m\u001b[38;5;124m\"\u001b[39m\n\u001b[0;32m    322\u001b[0m     )\n\u001b[1;32m--> 324\u001b[0m \u001b[38;5;28;01mreturn\u001b[39;00m \u001b[43mio_open\u001b[49m\u001b[43m(\u001b[49m\u001b[43mfile\u001b[49m\u001b[43m,\u001b[49m\u001b[43m \u001b[49m\u001b[38;5;241;43m*\u001b[39;49m\u001b[43margs\u001b[49m\u001b[43m,\u001b[49m\u001b[43m \u001b[49m\u001b[38;5;241;43m*\u001b[39;49m\u001b[38;5;241;43m*\u001b[39;49m\u001b[43mkwargs\u001b[49m\u001b[43m)\u001b[49m\n",
      "\u001b[1;31mFileNotFoundError\u001b[0m: [Errno 2] No such file or directory: 'demofile.txt'"
     ]
    }
   ],
   "source": []
  },
  {
   "cell_type": "code",
   "execution_count": 1,
   "id": "96d7f30b-8733-47c6-9e94-149a585d3652",
   "metadata": {},
   "outputs": [
    {
     "ename": "FileNotFoundError",
     "evalue": "[Errno 2] No such file or directory: 'demofile.txt'",
     "output_type": "error",
     "traceback": [
      "\u001b[1;31m---------------------------------------------------------------------------\u001b[0m",
      "\u001b[1;31mFileNotFoundError\u001b[0m                         Traceback (most recent call last)",
      "Cell \u001b[1;32mIn[1], line 1\u001b[0m\n\u001b[1;32m----> 1\u001b[0m f  \u001b[38;5;241m=\u001b[39m \u001b[38;5;28;43mopen\u001b[39;49m\u001b[43m(\u001b[49m\u001b[38;5;124;43m\"\u001b[39;49m\u001b[38;5;124;43mdemofile.txt\u001b[39;49m\u001b[38;5;124;43m\"\u001b[39;49m\u001b[43m,\u001b[49m\u001b[38;5;124;43m\"\u001b[39;49m\u001b[38;5;124;43mr\u001b[39;49m\u001b[38;5;124;43m\"\u001b[39;49m\u001b[43m)\u001b[49m\n\u001b[0;32m      2\u001b[0m \u001b[38;5;28mprint\u001b[39m(f\u001b[38;5;241m.\u001b[39mread())\n\u001b[0;32m      5\u001b[0m \u001b[38;5;66;03m# to open the file , use the built in open() function.\u001b[39;00m\n\u001b[0;32m      6\u001b[0m \u001b[38;5;66;03m#\"r\" is used to read the file or content of the file.\u001b[39;00m\n",
      "File \u001b[1;32mc:\\Users\\Chinmay\\AppData\\Local\\Programs\\Python\\Python313\\Lib\\site-packages\\IPython\\core\\interactiveshell.py:324\u001b[0m, in \u001b[0;36m_modified_open\u001b[1;34m(file, *args, **kwargs)\u001b[0m\n\u001b[0;32m    317\u001b[0m \u001b[38;5;28;01mif\u001b[39;00m file \u001b[38;5;129;01min\u001b[39;00m {\u001b[38;5;241m0\u001b[39m, \u001b[38;5;241m1\u001b[39m, \u001b[38;5;241m2\u001b[39m}:\n\u001b[0;32m    318\u001b[0m     \u001b[38;5;28;01mraise\u001b[39;00m \u001b[38;5;167;01mValueError\u001b[39;00m(\n\u001b[0;32m    319\u001b[0m         \u001b[38;5;124mf\u001b[39m\u001b[38;5;124m\"\u001b[39m\u001b[38;5;124mIPython won\u001b[39m\u001b[38;5;124m'\u001b[39m\u001b[38;5;124mt let you open fd=\u001b[39m\u001b[38;5;132;01m{\u001b[39;00mfile\u001b[38;5;132;01m}\u001b[39;00m\u001b[38;5;124m by default \u001b[39m\u001b[38;5;124m\"\u001b[39m\n\u001b[0;32m    320\u001b[0m         \u001b[38;5;124m\"\u001b[39m\u001b[38;5;124mas it is likely to crash IPython. If you know what you are doing, \u001b[39m\u001b[38;5;124m\"\u001b[39m\n\u001b[0;32m    321\u001b[0m         \u001b[38;5;124m\"\u001b[39m\u001b[38;5;124myou can use builtins\u001b[39m\u001b[38;5;124m'\u001b[39m\u001b[38;5;124m open.\u001b[39m\u001b[38;5;124m\"\u001b[39m\n\u001b[0;32m    322\u001b[0m     )\n\u001b[1;32m--> 324\u001b[0m \u001b[38;5;28;01mreturn\u001b[39;00m \u001b[43mio_open\u001b[49m\u001b[43m(\u001b[49m\u001b[43mfile\u001b[49m\u001b[43m,\u001b[49m\u001b[43m \u001b[49m\u001b[38;5;241;43m*\u001b[39;49m\u001b[43margs\u001b[49m\u001b[43m,\u001b[49m\u001b[43m \u001b[49m\u001b[38;5;241;43m*\u001b[39;49m\u001b[38;5;241;43m*\u001b[39;49m\u001b[43mkwargs\u001b[49m\u001b[43m)\u001b[49m\n",
      "\u001b[1;31mFileNotFoundError\u001b[0m: [Errno 2] No such file or directory: 'demofile.txt'"
     ]
    }
   ],
   "source": [
    "f  = open(\"demofile.txt\",\"r\")\n",
    "print(f.read())\n",
    "\n",
    "\n",
    "# to open the file , use the built in open() function.\n",
    "#\"r\" is used to read the file or content of the file.\n"
   ]
  },
  {
   "cell_type": "code",
   "execution_count": 7,
   "id": "e09df7a5-5ac1-411f-9749-fb383bfaced3",
   "metadata": {},
   "outputs": [
    {
     "name": "stdout",
     "output_type": "stream",
     "text": [
      "#demo\n"
     ]
    }
   ],
   "source": [
    "#If file is located win different location, you will have to specify the file path.\n",
    "f = open(\"demofile.txt\",\"r\")\n",
    "print(f.read(5))\n",
    "#here the first five index of content of file that is data is printed \n",
    "# read in the output.\n"
   ]
  },
  {
   "cell_type": "code",
   "execution_count": 8,
   "id": "25cf2b74-ff7f-4c11-9e3d-0ba30e7364aa",
   "metadata": {},
   "outputs": [
    {
     "name": "stdout",
     "output_type": "stream",
     "text": [
      "#demofile text for file handling\n",
      "\n"
     ]
    }
   ],
   "source": [
    "#readlines:-\n",
    "#we can return one line by using readline() method:\n",
    "f = open(\"demofile.txt\",\"r\")\n",
    "#file is opened here\n",
    "#f.readline() is used to read line \n",
    "print(f.readline())"
   ]
  },
  {
   "cell_type": "code",
   "execution_count": 10,
   "id": "f323dfd8-495f-443c-8348-d68f5e9f2383",
   "metadata": {},
   "outputs": [
    {
     "name": "stdout",
     "output_type": "stream",
     "text": [
      "#demofile text for file handling\n",
      "\n",
      "Hello! Welcome to demofile.txt\n",
      "\n"
     ]
    }
   ],
   "source": [
    "#to read two lines of data\n",
    "f = open(\"demofile.txt\",\"r\")\n",
    "print(f.readline())\n",
    "print(f.readline())"
   ]
  },
  {
   "cell_type": "code",
   "execution_count": 14,
   "id": "d6933897-a629-4de9-990a-151d6a6bf25f",
   "metadata": {},
   "outputs": [
    {
     "name": "stdout",
     "output_type": "stream",
     "text": [
      "#demofile text for file handling\n",
      "\n"
     ]
    }
   ],
   "source": [
    "#ClOSE FILES:-\n",
    "#we can close the file by using f.close()\n",
    "f = open(\"demofile.txt\",\"r\")\n",
    "print(f.readline())\n",
    "f.close()"
   ]
  },
  {
   "cell_type": "code",
   "execution_count": null,
   "id": "13493277-aac7-4172-bbf5-51bc22f20002",
   "metadata": {},
   "outputs": [],
   "source": [
    "#Write the file:-\n",
    "#to write the file 2 parameters are used with open() \n",
    "#\"a\" - Append - will append to the end of the file.\n",
    "#\"w\" - Write - will overwrite any existing content"
   ]
  },
  {
   "cell_type": "code",
   "execution_count": 17,
   "id": "658497b6-a7d2-4fe8-b857-f38baf42d95c",
   "metadata": {},
   "outputs": [
    {
     "name": "stdout",
     "output_type": "stream",
     "text": [
      "#demofile2.txt\n",
      "Hi there \n",
      "This is demofile2 for the data\n",
      "Now the file has mpre content!Now the file has mpre content!Now the file has more content!\n"
     ]
    }
   ],
   "source": [
    "f = open(\"demofile2.txt\",\"a\")\n",
    "#a used for append in file\n",
    "f.write(\"Now the file has more content!\")\n",
    "#to write the file\n",
    "f.close()\n",
    "\n",
    "#open and read the file after the appending:\n",
    "f = open(\"demofile2.txt\",\"r\")\n",
    "print(f.read())\n"
   ]
  },
  {
   "cell_type": "code",
   "execution_count": 4,
   "id": "3b9c6c8d-c1a1-4091-8628-736469de27dd",
   "metadata": {},
   "outputs": [
    {
     "name": "stdout",
     "output_type": "stream",
     "text": [
      "Woops! I have deleted the content!\n"
     ]
    }
   ],
   "source": [
    "f = open(\"demofile3.txt\",\"w\")\n",
    "f.write(\"Woops! I have deleted the content!\")\n",
    "f.close()\n",
    "\n",
    "#open and read the file after the overwriting:\n",
    "f = open(\"demofile3.txt\",\"r\")\n",
    "print(f.read())"
   ]
  },
  {
   "cell_type": "code",
   "execution_count": null,
   "id": "19da035c-b878-4acb-9ecf-102eca5866a8",
   "metadata": {},
   "outputs": [],
   "source": [
    "#to create a new file in python,use the open() method, with one of the \n",
    "#following parameters:\n",
    "\n",
    "# \"x\" - create - will create a file,returns an error if the file exits\n",
    "# \"a\" - append - will create a file if the specified file does not exists\n",
    "# \"w\" - Write - will create a file if the specified file does not exists\n"
   ]
  },
  {
   "cell_type": "code",
   "execution_count": null,
   "id": "57eb9f29-7c91-419e-91d2-d6d127956715",
   "metadata": {},
   "outputs": [],
   "source": [
    "#To delete a file,you must import the OS module, and run its os.remove() function:"
   ]
  },
  {
   "cell_type": "code",
   "execution_count": 6,
   "id": "ae6f261a-58bc-44bb-bd1b-e9a666ce8352",
   "metadata": {},
   "outputs": [
    {
     "ename": "FileNotFoundError",
     "evalue": "[WinError 2] The system cannot find the file specified: 'demofile.txt'",
     "output_type": "error",
     "traceback": [
      "\u001b[1;31m---------------------------------------------------------------------------\u001b[0m",
      "\u001b[1;31mFileNotFoundError\u001b[0m                         Traceback (most recent call last)",
      "Cell \u001b[1;32mIn[6], line 2\u001b[0m\n\u001b[0;32m      1\u001b[0m \u001b[38;5;28;01mimport\u001b[39;00m \u001b[38;5;21;01mos\u001b[39;00m\n\u001b[1;32m----> 2\u001b[0m \u001b[43mos\u001b[49m\u001b[38;5;241;43m.\u001b[39;49m\u001b[43mremove\u001b[49m\u001b[43m(\u001b[49m\u001b[38;5;124;43m\"\u001b[39;49m\u001b[38;5;124;43mdemofile.txt\u001b[39;49m\u001b[38;5;124;43m\"\u001b[39;49m\u001b[43m)\u001b[49m\n",
      "\u001b[1;31mFileNotFoundError\u001b[0m: [WinError 2] The system cannot find the file specified: 'demofile.txt'"
     ]
    }
   ],
   "source": [
    "import os\n",
    "os.remove(\"demofile.txt\")"
   ]
  },
  {
   "cell_type": "code",
   "execution_count": null,
   "id": "04467a69-3919-478d-9b5f-068bf5f80d04",
   "metadata": {},
   "outputs": [],
   "source": [
    "#Python packages are way to organize and structure code by grouping related modules\n",
    "#into modules intp directories.\n",
    "#A package is essentially a folder that contains an __init__.py file and one or more Python files (modules). This organization helps manage and reuse code effectively, especially in larger projects. It also allows functionality to be easily shared and distributed across different applications. Packages act like toolboxes, storing and organizing tools (functions and classes) for efficient access and reuse.\n"
   ]
  },
  {
   "cell_type": "code",
   "execution_count": null,
   "id": "da1fc45a-cc45-4b74-9300-cf6dad7363e8",
   "metadata": {},
   "outputs": [],
   "source": [
    "#key componentsof package:-\n",
    "#1. Module - A single python file containing reusable code (math.py)\n",
    "#2.package - A directory containing modules and special __init__.py files.\n",
    "#3.sub-packages:Packages nested within other packages for deeper organization."
   ]
  },
  {
   "cell_type": "code",
   "execution_count": null,
   "id": "e4de6c6f-6aee-4025-a99d-9f824c157020",
   "metadata": {},
   "outputs": [],
   "source": [
    "#How to create and access packages in directory:\n",
    "#1. Create a directory: Make a directory for your package.\n",
    "#2. Add  Modules: Add python files(Modules) to the directory,each representing specific functionality.\n",
    "#3. Include __init__.py: Add an __init__.py file to the directory to mark it as a package.\n",
    "#4. Add sub packages: create sub directories with their own  init py files\n",
    "#5. Import Modules: Use dot notation to import e.g from mypackage.module1 import greet."
   ]
  },
  {
   "cell_type": "code",
   "execution_count": null,
   "id": "44dcfd82-014e-4a29-8df0-9495c94e4935",
   "metadata": {},
   "outputs": [],
   "source": [
    "#E.g - Math operation Package - \n",
    "# two sub- packages : 1. basic -  for addition and subtraction \n",
    "                    #2. advanced - for multiplication and division\n",
    "\n",
    "\n",
    "# each operation - implemented in seperate modules, allowing for modular,reusable and maintainable code"
   ]
  },
  {
   "cell_type": "code",
   "execution_count": null,
   "id": "a8e22b86-efcb-4504-9b2d-28d32b4f6fe2",
   "metadata": {},
   "outputs": [],
   "source": [
    "# __init__.py initializes the main package by importing and exposing calculate function and\n",
    "#operations(add,subtract,multiply,divide) from the respective sub - packages"
   ]
  },
  {
   "cell_type": "code",
   "execution_count": 15,
   "id": "d7616797-9aef-4499-82ec-93e36d63ffe1",
   "metadata": {},
   "outputs": [
    {
     "ename": "ImportError",
     "evalue": "attempted relative import with no known parent package",
     "output_type": "error",
     "traceback": [
      "\u001b[1;31m---------------------------------------------------------------------------\u001b[0m",
      "\u001b[1;31mImportError\u001b[0m                               Traceback (most recent call last)",
      "Cell \u001b[1;32mIn[15], line 2\u001b[0m\n\u001b[0;32m      1\u001b[0m \u001b[38;5;28;01mimport\u001b[39;00m \u001b[38;5;21;01mmath\u001b[39;00m\n\u001b[1;32m----> 2\u001b[0m from\u001b[38;5;241m.\u001b[39mcalculate \u001b[38;5;28;01mimport\u001b[39;00m \u001b[38;5;21;01mcalculate\u001b[39;00m\n",
      "\u001b[1;31mImportError\u001b[0m: attempted relative import with no known parent package"
     ]
    }
   ],
   "source": [
    "import math\n",
    "\n",
    "\n",
    "\n"
   ]
  }
 ],
 "metadata": {
  "kernelspec": {
   "display_name": "Python 3",
   "language": "python",
   "name": "python3"
  },
  "language_info": {
   "codemirror_mode": {
    "name": "ipython",
    "version": 3
   },
   "file_extension": ".py",
   "mimetype": "text/x-python",
   "name": "python",
   "nbconvert_exporter": "python",
   "pygments_lexer": "ipython3",
   "version": "3.13.0"
  }
 },
 "nbformat": 4,
 "nbformat_minor": 5
}
