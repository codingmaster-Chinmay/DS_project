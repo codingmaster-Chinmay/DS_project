{
 "cells": [
  {
   "cell_type": "code",
   "execution_count": null,
   "id": "e2e2804f-c564-4d07-a264-144360b60453",
   "metadata": {},
   "outputs": [],
   "source": [
    "#OPERATPORS:-\n",
    "#operators are used to perform operations on variables and values.\n"
   ]
  },
  {
   "cell_type": "code",
   "execution_count": 1,
   "id": "df6522f8-894f-4e77-a865-f5744700072f",
   "metadata": {},
   "outputs": [
    {
     "name": "stdout",
     "output_type": "stream",
     "text": [
      "15\n"
     ]
    }
   ],
   "source": [
    "print(10+5)"
   ]
  },
  {
   "cell_type": "code",
   "execution_count": null,
   "id": "fe973c95-ab75-4f81-a8b9-dc675c130a82",
   "metadata": {},
   "outputs": [],
   "source": [
    "#TYPES-\n",
    "#Arithmetic operators\n",
    "#assignment operators\n",
    "#comparison operators\n",
    "#logical operators\n",
    "#identify operators\n",
    "#Membership Operators\n",
    "#Bitwise operators\n"
   ]
  },
  {
   "cell_type": "code",
   "execution_count": 2,
   "id": "40e54677-6be4-4877-944c-dc35849ed746",
   "metadata": {},
   "outputs": [
    {
     "name": "stdout",
     "output_type": "stream",
     "text": [
      "17\n"
     ]
    }
   ],
   "source": [
    "#Arithmetic operators:-\n",
    "#Addition\n",
    "x = 8\n",
    "y = 9\n",
    "print(x+y)\n"
   ]
  },
  {
   "cell_type": "code",
   "execution_count": 3,
   "id": "ea9fe64b-2d93-419f-8b9b-145e83e8efdf",
   "metadata": {},
   "outputs": [
    {
     "name": "stdout",
     "output_type": "stream",
     "text": [
      "11\n"
     ]
    }
   ],
   "source": [
    "#Subtraction:-\n",
    "num1 = 56\n",
    "num2 = 45\n",
    "print(num1- num2)"
   ]
  },
  {
   "cell_type": "code",
   "execution_count": 4,
   "id": "271523e7-8789-4cda-82ab-c6431bbbc453",
   "metadata": {},
   "outputs": [
    {
     "name": "stdout",
     "output_type": "stream",
     "text": [
      "782\n"
     ]
    }
   ],
   "source": [
    "#Multiplication:-\n",
    "num1 = 34\n",
    "num2 = 23\n",
    "print(num1 * num2)"
   ]
  },
  {
   "cell_type": "code",
   "execution_count": 5,
   "id": "6380c86b-5e56-481c-9b6e-aa1e9165332b",
   "metadata": {},
   "outputs": [
    {
     "name": "stdout",
     "output_type": "stream",
     "text": [
      "2.0\n"
     ]
    }
   ],
   "source": [
    "#Division:-\n",
    "num1 = 22\n",
    "num2 = 11\n",
    "print(num1 / num2)"
   ]
  },
  {
   "cell_type": "code",
   "execution_count": 6,
   "id": "bbf5d641-3ae3-4219-aa84-c4817909e8ca",
   "metadata": {},
   "outputs": [
    {
     "name": "stdout",
     "output_type": "stream",
     "text": [
      "0\n"
     ]
    }
   ],
   "source": [
    "#Modulus:-\n",
    "num1 = 200\n",
    "num2 = 10\n",
    "print(num1 % num2)\n"
   ]
  },
  {
   "cell_type": "code",
   "execution_count": 7,
   "id": "a5a113fc-0c81-48a4-b9c3-b09876177aa6",
   "metadata": {},
   "outputs": [
    {
     "name": "stdout",
     "output_type": "stream",
     "text": [
      "8\n"
     ]
    }
   ],
   "source": [
    "#exponential:-\n",
    "num1 = 2\n",
    "num2 = 3\n",
    "print(num1 ** num2)"
   ]
  },
  {
   "cell_type": "code",
   "execution_count": 8,
   "id": "c63ed531-f424-4d0b-af1f-66717d13d6e4",
   "metadata": {},
   "outputs": [
    {
     "name": "stdout",
     "output_type": "stream",
     "text": [
      "9\n"
     ]
    }
   ],
   "source": [
    "#Floor division\n",
    "num1 = 18\n",
    "num2 = 2\n",
    "print(num1 // num2)"
   ]
  },
  {
   "cell_type": "code",
   "execution_count": 9,
   "id": "a23e4a83-184c-4e97-b957-b7f7e875abf1",
   "metadata": {},
   "outputs": [
    {
     "name": "stdout",
     "output_type": "stream",
     "text": [
      "5\n"
     ]
    }
   ],
   "source": [
    "#Assignnment Operators:-\n",
    "#Assignment :-\n",
    "x = 5\n",
    "print(x)"
   ]
  },
  {
   "cell_type": "code",
   "execution_count": 10,
   "id": "04c1bbd1-eb2c-4953-99aa-e54700bf8cb0",
   "metadata": {},
   "outputs": [
    {
     "name": "stdout",
     "output_type": "stream",
     "text": [
      "8\n"
     ]
    }
   ],
   "source": [
    "#increment and equals (+=)\n",
    "\n",
    "x = 5\n",
    "x = x + 3\n",
    "print(x)"
   ]
  },
  {
   "cell_type": "code",
   "execution_count": 11,
   "id": "8d7357b8-458a-4b8f-a8b2-dd9c19f9db13",
   "metadata": {},
   "outputs": [
    {
     "name": "stdout",
     "output_type": "stream",
     "text": [
      "2\n"
     ]
    }
   ],
   "source": [
    "#decrement and equals(-=)\n",
    "x = 5\n",
    "x = x - 3\n",
    "print(x)"
   ]
  },
  {
   "cell_type": "code",
   "execution_count": 12,
   "id": "02a81cc8-7892-4487-8606-4e555740aae4",
   "metadata": {},
   "outputs": [
    {
     "name": "stdout",
     "output_type": "stream",
     "text": [
      "12\n"
     ]
    }
   ],
   "source": [
    "#Multiplication and equals\n",
    "x = 3\n",
    "x = x*4\n",
    "print(x)"
   ]
  },
  {
   "cell_type": "code",
   "execution_count": 13,
   "id": "635c0170-a63e-447b-b863-fac137a08b95",
   "metadata": {},
   "outputs": [
    {
     "name": "stdout",
     "output_type": "stream",
     "text": [
      "1.0\n"
     ]
    }
   ],
   "source": [
    "#Division \n",
    "x = 3\n",
    "x = x/3\n",
    "print(x)"
   ]
  },
  {
   "cell_type": "code",
   "execution_count": 25,
   "id": "9ddb2b35-fafe-4659-a476-d6e9fd5eebfb",
   "metadata": {},
   "outputs": [],
   "source": [
    "#Modulus:-\n",
    "x = 4\n",
    "x%=2\n"
   ]
  },
  {
   "cell_type": "code",
   "execution_count": 22,
   "id": "a00d07a9-21bb-49f0-afc5-23c2fa172aeb",
   "metadata": {},
   "outputs": [
    {
     "name": "stdout",
     "output_type": "stream",
     "text": [
      "27\n"
     ]
    }
   ],
   "source": [
    "#**=\n",
    "\n",
    "x = 3\n",
    "x**=3\n",
    "print(x)"
   ]
  },
  {
   "cell_type": "code",
   "execution_count": 27,
   "id": "ba2eb1f5-ac80-40b6-b785-6a1605568349",
   "metadata": {},
   "outputs": [
    {
     "name": "stdout",
     "output_type": "stream",
     "text": [
      "4\n"
     ]
    }
   ],
   "source": [
    "#x //=  3\n",
    "x = 20\n",
    "x//=5\n",
    "print(x)"
   ]
  },
  {
   "cell_type": "code",
   "execution_count": 29,
   "id": "db2780b2-875a-46db-94c6-531f0f81b691",
   "metadata": {},
   "outputs": [
    {
     "name": "stdout",
     "output_type": "stream",
     "text": [
      "1\n"
     ]
    }
   ],
   "source": [
    "#&=\n",
    "#x &= 3\n",
    "x = 5\n",
    "x&=3\n",
    "print(x)"
   ]
  },
  {
   "cell_type": "code",
   "execution_count": 30,
   "id": "ae16b898-7ecf-4117-b12c-5d2770a46a98",
   "metadata": {},
   "outputs": [
    {
     "name": "stdout",
     "output_type": "stream",
     "text": [
      "6\n"
     ]
    }
   ],
   "source": [
    "#|=\n",
    "#x|=3\n",
    "x = 4\n",
    "x|=2 #addition\n",
    "print(x)"
   ]
  },
  {
   "cell_type": "code",
   "execution_count": 35,
   "id": "211000b8-5810-4188-a8b5-b95e93794024",
   "metadata": {},
   "outputs": [
    {
     "name": "stdout",
     "output_type": "stream",
     "text": [
      "7\n"
     ]
    }
   ],
   "source": [
    "#raised to power\n",
    "#^=\n",
    "x = 4\n",
    "x = x ^ 3\n",
    "print(x)"
   ]
  },
  {
   "cell_type": "code",
   "execution_count": 36,
   "id": "b9556b3c-64e8-43fe-8c86-9b4f60380c62",
   "metadata": {},
   "outputs": [
    {
     "name": "stdout",
     "output_type": "stream",
     "text": [
      "0\n"
     ]
    }
   ],
   "source": [
    "#greater than equals:-\n",
    "#>>=\n",
    "x>>3\n",
    "x = x>>3\n",
    "print(x)"
   ]
  },
  {
   "cell_type": "code",
   "execution_count": 37,
   "id": "11bf87d1-3b9d-4d23-b821-4622ccb740dc",
   "metadata": {},
   "outputs": [],
   "source": [
    "#less that equals to :-\n",
    "#x << = 3\n",
    "# x = x<<3\n",
    "\n"
   ]
  },
  {
   "cell_type": "code",
   "execution_count": null,
   "id": "6f26b373-6312-456c-8eef-a1d3b301f981",
   "metadata": {},
   "outputs": [],
   "source": [
    "#COMPARISON OPERATORS:-\n",
    "#COMPARISON operators are used to compare two values:\n",
    "#It returns either true or false."
   ]
  },
  {
   "cell_type": "code",
   "execution_count": 39,
   "id": "bea303b1-62d1-4a66-9724-093db93567d1",
   "metadata": {},
   "outputs": [
    {
     "data": {
      "text/plain": [
       "False"
      ]
     },
     "execution_count": 39,
     "metadata": {},
     "output_type": "execute_result"
    }
   ],
   "source": [
    "#equals to \n",
    "# == \n",
    "x = 4\n",
    "y = 5\n",
    "x == y\n",
    "#It returns  false value as x and y are not  equal\n"
   ]
  },
  {
   "cell_type": "code",
   "execution_count": 40,
   "id": "0527d95e-b614-44c8-b97f-289790ae2a25",
   "metadata": {},
   "outputs": [
    {
     "data": {
      "text/plain": [
       "True"
      ]
     },
     "execution_count": 40,
     "metadata": {},
     "output_type": "execute_result"
    }
   ],
   "source": [
    "#! = Not equal\n",
    "#x != y\n",
    "x = 3\n",
    "y = 5\n",
    "x != y"
   ]
  },
  {
   "cell_type": "code",
   "execution_count": 41,
   "id": "1634f931-8aff-4add-a61b-e99d27d774d4",
   "metadata": {},
   "outputs": [
    {
     "data": {
      "text/plain": [
       "False"
      ]
     },
     "execution_count": 41,
     "metadata": {},
     "output_type": "execute_result"
    }
   ],
   "source": [
    "#greater than \n",
    "x = 4\n",
    "y = 5\n",
    "x > y\n"
   ]
  },
  {
   "cell_type": "code",
   "execution_count": 42,
   "id": "7b3d8dfd-25c8-43b8-a161-c2c3dc2f8daf",
   "metadata": {},
   "outputs": [
    {
     "data": {
      "text/plain": [
       "True"
      ]
     },
     "execution_count": 42,
     "metadata": {},
     "output_type": "execute_result"
    }
   ],
   "source": [
    "#less than\n",
    "x = 4\n",
    "y = 5\n",
    "x < y\n"
   ]
  },
  {
   "cell_type": "code",
   "execution_count": 43,
   "id": "eef5af26-a2c7-4c9d-9ef1-d92d54c1c134",
   "metadata": {},
   "outputs": [
    {
     "data": {
      "text/plain": [
       "True"
      ]
     },
     "execution_count": 43,
     "metadata": {},
     "output_type": "execute_result"
    }
   ],
   "source": [
    "#greater than or equal to\n",
    "x = 5\n",
    "y = 5\n",
    "x >= y\n"
   ]
  },
  {
   "cell_type": "code",
   "execution_count": 44,
   "id": "2689623c-4284-4f3a-bf49-5d32454aeef2",
   "metadata": {},
   "outputs": [
    {
     "data": {
      "text/plain": [
       "True"
      ]
     },
     "execution_count": 44,
     "metadata": {},
     "output_type": "execute_result"
    }
   ],
   "source": [
    "#less than equal to\n",
    "x = 4\n",
    "y = 5\n",
    "x <= y"
   ]
  },
  {
   "cell_type": "code",
   "execution_count": null,
   "id": "2f79c52b-2c8c-4ba2-8ef0-ecb364c04f1c",
   "metadata": {},
   "outputs": [],
   "source": [
    "#LOGICAL OPERATORS:-\n"
   ]
  },
  {
   "cell_type": "code",
   "execution_count": 45,
   "id": "da23c0d5-611a-4553-9bf3-f46ab7c9513c",
   "metadata": {},
   "outputs": [
    {
     "data": {
      "text/plain": [
       "True"
      ]
     },
     "execution_count": 45,
     "metadata": {},
     "output_type": "execute_result"
    }
   ],
   "source": [
    "#'and' operator\n",
    "#returns True if both statments  are true\n",
    "\n",
    "x = 5\n",
    "y = 4\n",
    "x < 7 and x < 6"
   ]
  },
  {
   "cell_type": "code",
   "execution_count": 47,
   "id": "e5771943-ffe3-400d-89f0-1b32ca0fe9ea",
   "metadata": {},
   "outputs": [
    {
     "data": {
      "text/plain": [
       "True"
      ]
     },
     "execution_count": 47,
     "metadata": {},
     "output_type": "execute_result"
    }
   ],
   "source": [
    "#'or' operator:-\n",
    "#returns true if one of the statements is true:-\n",
    "x = 5\n",
    "y = 4\n",
    "x < 10 or y > 5"
   ]
  },
  {
   "cell_type": "code",
   "execution_count": null,
   "id": "a5c68cf7-2c29-48d0-990d-a44db4b17f27",
   "metadata": {},
   "outputs": [],
   "source": [
    "#not operator :-\n",
    "#reverse the result, returns false if the result is true"
   ]
  },
  {
   "cell_type": "code",
   "execution_count": null,
   "id": "e1b3b4e3-b9fa-47f7-9635-27a22be31c0c",
   "metadata": {},
   "outputs": [],
   "source": [
    "#IDENTITY OPERATORS:-\n",
    "#is - returns true if both variables are the  same object\n",
    "#syntax = x is y"
   ]
  },
  {
   "cell_type": "code",
   "execution_count": 50,
   "id": "49bc0fac-f8da-4073-b0b6-faf4b9246adf",
   "metadata": {},
   "outputs": [
    {
     "name": "stdout",
     "output_type": "stream",
     "text": [
      "True\n",
      "False\n"
     ]
    }
   ],
   "source": [
    "x  = [\"apple\",\"banana\"]\n",
    "y = [\"apple\",\"banana\"]\n",
    "z = x\n",
    "\n",
    "print(x is z )\n",
    "# x is same object as z returns true\n",
    "\n",
    "print(x is y)\n",
    "#although content of x and y is same they are different objects."
   ]
  },
  {
   "cell_type": "code",
   "execution_count": null,
   "id": "4c476b4f-b978-4165-88dc-aad631464593",
   "metadata": {},
   "outputs": [],
   "source": [
    "#'is not' - returns true if both variabkes are not the same object"
   ]
  },
  {
   "cell_type": "code",
   "execution_count": null,
   "id": "b7a61447-bf2a-4473-929d-43b344eae0ae",
   "metadata": {},
   "outputs": [],
   "source": [
    "#Memebership Operatord:-\n",
    "#'in ' - returns true if seq with the specified value is present in the object\n",
    "#'not in' - returns true if seq with the specified value is not present in the object"
   ]
  },
  {
   "cell_type": "code",
   "execution_count": 51,
   "id": "17a4c6db-3e6f-475d-96f3-e096bb1d55b1",
   "metadata": {},
   "outputs": [
    {
     "name": "stdout",
     "output_type": "stream",
     "text": [
      "True\n"
     ]
    }
   ],
   "source": [
    "x = [\"apple\",\"banana\"]\n",
    "print(\"banana\" in x)"
   ]
  },
  {
   "cell_type": "code",
   "execution_count": 52,
   "id": "85e29376-1f4c-4db5-b26f-b1abd7990a86",
   "metadata": {},
   "outputs": [
    {
     "name": "stdout",
     "output_type": "stream",
     "text": [
      "True\n"
     ]
    }
   ],
   "source": [
    "print(\"mango\" not in x)"
   ]
  },
  {
   "cell_type": "code",
   "execution_count": null,
   "id": "a4ce8988-760d-4455-85a4-8f0b70798647",
   "metadata": {},
   "outputs": [],
   "source": [
    "#Bitwise Operators:-\n"
   ]
  },
  {
   "cell_type": "code",
   "execution_count": null,
   "id": "c906a023-5017-4152-b422-38b5837ed038",
   "metadata": {},
   "outputs": [],
   "source": [
    "#'And' - & sets each bit to 1 if both bits are 1\n"
   ]
  },
  {
   "cell_type": "code",
   "execution_count": null,
   "id": "4a42f7de-21c4-4566-90af-92e9de509e79",
   "metadata": {},
   "outputs": [],
   "source": [
    "#'or' - sets each bit to 1 if one of two bits is 1"
   ]
  },
  {
   "cell_type": "code",
   "execution_count": null,
   "id": "7053968b-89d3-48b4-b33d-25789e372f1b",
   "metadata": {},
   "outputs": [],
   "source": []
  }
 ],
 "metadata": {
  "kernelspec": {
   "display_name": "Python 3 (ipykernel)",
   "language": "python",
   "name": "python3"
  },
  "language_info": {
   "codemirror_mode": {
    "name": "ipython",
    "version": 3
   },
   "file_extension": ".py",
   "mimetype": "text/x-python",
   "name": "python",
   "nbconvert_exporter": "python",
   "pygments_lexer": "ipython3",
   "version": "3.13.0"
  }
 },
 "nbformat": 4,
 "nbformat_minor": 5
}
