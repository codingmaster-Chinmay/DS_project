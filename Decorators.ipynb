{
 "cells": [
  {
   "cell_type": "code",
   "execution_count": null,
   "id": "f2afcd8f-ac2a-4d88-8c8a-5763f84ff66a",
   "metadata": {},
   "outputs": [],
   "source": [
    "#DECORATPRS:-\n",
    "# A decorator in python is a function that takes another function as\n",
    "#its argument and returns yet another function.Decorators can be extremely\n",
    "#useful as they allow the extension of an existing function ,without\n",
    "#any modification to the original function source code."
   ]
  },
  {
   "cell_type": "code",
   "execution_count": null,
   "id": "e4875c58-7fb8-43e5-9969-03edd21816a5",
   "metadata": {},
   "outputs": [],
   "source": [
    "#Decorators allow programmers to modify the behavior of function or class withput\n",
    "#any modification of original function.\n"
   ]
  },
  {
   "cell_type": "code",
   "execution_count": 1,
   "id": "76247265-1995-4fe2-9656-ee41b68498f8",
   "metadata": {},
   "outputs": [
    {
     "name": "stdout",
     "output_type": "stream",
     "text": [
      "2.0\n",
      "0.5\n"
     ]
    }
   ],
   "source": [
    "#basic function:-\n",
    "def div(a,b):\n",
    "    print(a/b)\n",
    "\n",
    "div(4,2)\n",
    "#output is 2 as we know 4/2 = 2\n",
    "div(2,4)\n",
    "#output is 0.5 \n",
    "\n"
   ]
  },
  {
   "cell_type": "code",
   "execution_count": null,
   "id": "7f4d3364-fe66-49a9-a95e-d40c60d19381",
   "metadata": {},
   "outputs": [],
   "source": [
    "#condition if we want any number in parameters , we want numerator > denominator \n",
    "#and if numerator < denominator then swap the values and perform div"
   ]
  },
  {
   "cell_type": "code",
   "execution_count": null,
   "id": "06a7852c-c11a-420d-b87b-8ebd76d8253d",
   "metadata": {},
   "outputs": [],
   "source": [
    "#There must be logic if user enters the numerator less than denominator"
   ]
  },
  {
   "cell_type": "code",
   "execution_count": null,
   "id": "46f99c45-3e8f-4026-aa02-575ff70dfb35",
   "metadata": {},
   "outputs": [],
   "source": [
    "#But there is prob - the file is not with us, or to be imported \n",
    "#or dont want to make the changes in code \n",
    "#It is possible to add extra features in existing function without changing it\n"
   ]
  },
  {
   "cell_type": "code",
   "execution_count": 2,
   "id": "792c9bcf-6886-4989-a767-7e61a29e50e3",
   "metadata": {},
   "outputs": [
    {
     "name": "stdout",
     "output_type": "stream",
     "text": [
      "2.0\n"
     ]
    }
   ],
   "source": [
    "#decorators:-\n",
    "def div(a,b):\n",
    "    print(a/b)\n",
    "\n",
    "\n",
    "def smart_div(func):\n",
    "    #this smart_dic function accepts a func\n",
    "\n",
    "    def inner(a,b):\n",
    "         # number of paramters must be same as main function\n",
    "    #the inner function takes same parameters as div  \n",
    "\n",
    "        if a<b:\n",
    "            a,b = b,a\n",
    "          #this function swaps the parameters if a>b and we want this code\n",
    "        #inside div \n",
    "        return func(a,b) #actually calling div\n",
    "        #originally taking 2,4 and swapping it by 4,2\n",
    "            \n",
    "    return inner\n",
    "\n",
    "#still there is no connection between div and smart_div\n",
    "div1 = smart_div(div)\n",
    "#assigning a variable div1 = smart_div and passing div function in it.\n",
    "\n",
    "div1(2,4) \n",
    "#we are calling div function indirectly\n",
    "#which uses smart_div swaps the value and call the div main function\n"
   ]
  },
  {
   "cell_type": "code",
   "execution_count": 2,
   "id": "1467fee4-5dc2-43b6-8faa-94d7c3db9cad",
   "metadata": {},
   "outputs": [],
   "source": [
    "#decorator - we can change the behaviour of code in compile time"
   ]
  },
  {
   "cell_type": "code",
   "execution_count": 3,
   "id": "949ef96b-422d-48bc-baf8-d4ec88d748c6",
   "metadata": {},
   "outputs": [],
   "source": [
    "#decorators:\n",
    "#' @ ' is used to define the decoartor function"
   ]
  },
  {
   "cell_type": "code",
   "execution_count": 4,
   "id": "852ff516-f7a9-4b40-b693-81142555eaf2",
   "metadata": {},
   "outputs": [
    {
     "name": "stdout",
     "output_type": "stream",
     "text": [
      "Hello world\n"
     ]
    }
   ],
   "source": [
    "#normal function - \n",
    "def hello():\n",
    "    print(\"Hello world\")\n",
    "\n",
    "def add(a,b):\n",
    "    print(a+b)\n",
    "\n",
    "hello()    "
   ]
  },
  {
   "cell_type": "code",
   "execution_count": 5,
   "id": "d6c56c60-934a-4b50-962b-da56f0e7ae03",
   "metadata": {},
   "outputs": [],
   "source": [
    "#but is user wants it may perform any operation but it should print good morning\n",
    "#and thankyou for using this function.\n"
   ]
  },
  {
   "cell_type": "code",
   "execution_count": 6,
   "id": "0d31d4e3-5c2e-4e1d-b682-1f789e7f9ac8",
   "metadata": {},
   "outputs": [
    {
     "name": "stdout",
     "output_type": "stream",
     "text": [
      "Good Morning\n",
      "Hello world!\n",
      "Thanks for using this function\n"
     ]
    }
   ],
   "source": [
    "#main function:\n",
    "#syntactic sugar - decorator\n",
    "def greet(fx):\n",
    "    def mfx():\n",
    "         print(\"Good Morning\")\n",
    "         fx()\n",
    "         print(\"Thanks for using this function\")\n",
    "    return mfx\n",
    "@greet\n",
    "def hello():\n",
    "    #hello function is equal to fx used as argument in greet\n",
    "    print(\"Hello world!\")\n",
    "\n",
    "def add(a,b):\n",
    "    print(a+b)\n",
    "    # greet is now a decorator which is telling something more about hello \n",
    "    \n",
    "    \n",
    "hello()\n",
    "#@greet\n",
    "# using @ sign we can define decorator \n"
   ]
  },
  {
   "cell_type": "code",
   "execution_count": 7,
   "id": "6059ed50-9112-446b-8492-3ceb39180ad0",
   "metadata": {},
   "outputs": [],
   "source": [
    "#if @decorator_function is not used  then we have to use greet(hello)"
   ]
  },
  {
   "cell_type": "code",
   "execution_count": 8,
   "id": "a64f1d4c-5efc-4d29-aa37-e9d5916d180a",
   "metadata": {},
   "outputs": [
    {
     "name": "stdout",
     "output_type": "stream",
     "text": [
      "Good Morning\n",
      "Hello world!\n",
      "Thanks for using this function\n",
      "3\n"
     ]
    }
   ],
   "source": [
    "#for add function argumrnts are needed \n",
    "def greet(fx):\n",
    "    def mfx(*args,**kwargs):\n",
    "         print(\"Good Morning\")\n",
    "         fx(*args,**kwargs)\n",
    "         print(\"Thanks for using this function\")\n",
    "    return mfx\n",
    "@greet\n",
    "#normally calling once a greet\n",
    "def hello():\n",
    "    #hello function is equal to fx used as argument in greet\n",
    "    print(\"Hello world!\")\n",
    "\n",
    "def add(a,b):\n",
    "    print(a+b)\n",
    "    # greet is now a decorator which is telling something more about hello \n",
    "    \n",
    "    \n",
    "hello()\n",
    "#greet(add)(1,2)\n",
    "add(1,2)"
   ]
  },
  {
   "cell_type": "code",
   "execution_count": 8,
   "id": "441d2a9d-21be-42c8-8e34-407cfba41576",
   "metadata": {},
   "outputs": [
    {
     "name": "stdout",
     "output_type": "stream",
     "text": [
      "Before the function call\n",
      "Hello world!\n",
      "After the function call\n"
     ]
    }
   ],
   "source": [
    "\n",
    "    #example of Decorator :\n",
    "def decorator_function(original_function):\n",
    "        def wrapper_function(): #second function inside the decorator \n",
    "            print(\"Before the function call\")\n",
    "            original_function()#function call argument  were hello word replaces the original function\n",
    "            print(\"After the function call\")    \n",
    "        return wrapper_function\n",
    "@decorator_function\n",
    "def say_hello(): #original function in decorator\n",
    "        print(\"Hello world!\")\n",
    "    \n",
    "say_hello() #function call    \n",
    "    "
   ]
  }
 ],
 "metadata": {
  "kernelspec": {
   "display_name": "Python 3",
   "language": "python",
   "name": "python3"
  },
  "language_info": {
   "codemirror_mode": {
    "name": "ipython",
    "version": 3
   },
   "file_extension": ".py",
   "mimetype": "text/x-python",
   "name": "python",
   "nbconvert_exporter": "python",
   "pygments_lexer": "ipython3",
   "version": "3.13.0"
  }
 },
 "nbformat": 4,
 "nbformat_minor": 5
}
