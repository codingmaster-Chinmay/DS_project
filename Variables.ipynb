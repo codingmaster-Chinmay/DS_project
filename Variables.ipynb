{
 "cells": [
  {
   "cell_type": "code",
   "execution_count": null,
   "id": "4419d64a-fa36-4226-a090-59a5581f7aeb",
   "metadata": {},
   "outputs": [],
   "source": [
    "#Variables:\n",
    "#Python has no command for declaring a variable\n"
   ]
  },
  {
   "cell_type": "code",
   "execution_count": 1,
   "id": "5cd48791-d584-4453-ab5b-e7fe5f8dd6a1",
   "metadata": {},
   "outputs": [
    {
     "name": "stdout",
     "output_type": "stream",
     "text": [
      "5\n",
      "John\n"
     ]
    }
   ],
   "source": [
    "x = 5\n",
    "y = \"John\"\n",
    "print(x)\n",
    "print(y)"
   ]
  },
  {
   "cell_type": "code",
   "execution_count": null,
   "id": "c558e9e7-b0be-465e-8fe9-bfa52f75b905",
   "metadata": {},
   "outputs": [],
   "source": [
    "#Variables do not need to be declared wit any particular type,\n",
    "#and can type after they have been set.\n"
   ]
  },
  {
   "cell_type": "code",
   "execution_count": 2,
   "id": "24e7368f-d061-4bdf-9112-d5958d11a197",
   "metadata": {},
   "outputs": [
    {
     "name": "stdout",
     "output_type": "stream",
     "text": [
      "sally\n"
     ]
    }
   ],
   "source": [
    "x = 4 #x is of type int\n",
    "x = 'sally' # x is now of type str\n",
    "print(x)\n"
   ]
  },
  {
   "cell_type": "code",
   "execution_count": 4,
   "id": "19a0b83d-6cb4-42d8-bb2b-a5796e1567fd",
   "metadata": {},
   "outputs": [
    {
     "name": "stdout",
     "output_type": "stream",
     "text": [
      "3\n",
      "3\n",
      "3.0\n"
     ]
    }
   ],
   "source": [
    "#Casting\n",
    "#If you want to specify datatype of variable ,this can be done with\n",
    "#casting\n",
    "\n",
    "x = str(3)\n",
    "y = int(3)\n",
    "z = float (3)\n",
    "print(x)\n",
    "print(y)\n",
    "print(z)"
   ]
  },
  {
   "cell_type": "code",
   "execution_count": 6,
   "id": "7a1b9b69-d543-4d05-bf57-5864764a518d",
   "metadata": {},
   "outputs": [
    {
     "name": "stdout",
     "output_type": "stream",
     "text": [
      "<class 'int'>\n",
      "<class 'str'>\n"
     ]
    }
   ],
   "source": [
    "#getting the datatype\n",
    "#You can get the data type of a variable with the type() function\n",
    "\n",
    "x = 5\n",
    "y = \"John\"\n",
    "print(type(x))\n",
    "print(type(y))"
   ]
  },
  {
   "cell_type": "code",
   "execution_count": null,
   "id": "10f08643-7b42-4dab-86e8-47178adf77ba",
   "metadata": {},
   "outputs": [],
   "source": [
    "#Variable names:-\n",
    "#A variable can have a short name(like x and y) or more descriptive\n",
    "#name (age,carname,total_volume)"
   ]
  },
  {
   "cell_type": "code",
   "execution_count": null,
   "id": "54af217c-bea3-4173-ba06-10be439555b1",
   "metadata": {},
   "outputs": [],
   "source": [
    "#1.A variable name must start with a letter or the underscore character\n",
    "#2.A variable name cannot start with a number\n",
    "#3.A variable name can only contain alpha- numeric characters and underscores\n",
    "#4.variables names are case sensitive\n",
    "#5.A variabl name cannot be of the python keywords.\n"
   ]
  },
  {
   "cell_type": "code",
   "execution_count": 7,
   "id": "17a705a4-b4ac-482f-b7ae-d9306c11c453",
   "metadata": {},
   "outputs": [],
   "source": [
    "myvar = \"John\"\n",
    "my_var = \"John\"\n",
    "_my_var = \"John\"\n",
    "myVar = \"John\"\n",
    "MYVAR = \"John\"\n",
    "myvar2 = \"John\""
   ]
  },
  {
   "cell_type": "code",
   "execution_count": 8,
   "id": "1d370a2e-e2fb-445e-ac32-7bcf75e5e4f0",
   "metadata": {},
   "outputs": [
    {
     "name": "stdout",
     "output_type": "stream",
     "text": [
      "John\n",
      "John\n",
      "John\n",
      "John\n",
      "John\n",
      "John\n"
     ]
    }
   ],
   "source": [
    "print(myvar)\n",
    "print(my_var)\n",
    "print(_my_var)\n",
    "print(myVar)\n",
    "print(MYVAR)\n",
    "print(myvar2)"
   ]
  },
  {
   "cell_type": "code",
   "execution_count": 9,
   "id": "c26c3b5e-dff3-4d03-8ff5-9b022262d8b5",
   "metadata": {},
   "outputs": [
    {
     "name": "stdout",
     "output_type": "stream",
     "text": [
      "Orange\n",
      "banana\n",
      "Cherry\n"
     ]
    }
   ],
   "source": [
    "#Many values to Multiple VAriables\n",
    "#Python allows you to assign values to multiple variables in one line:\n",
    "x,y,z = \"Orange\",\"banana\",\"Cherry\"\n",
    "print(x)\n",
    "print(y)\n",
    "print(z)"
   ]
  },
  {
   "cell_type": "code",
   "execution_count": null,
   "id": "eaf7be86-e6bd-4d04-8ff0-de70d460dcf5",
   "metadata": {},
   "outputs": [],
   "source": [
    "#Unpack a collection\n",
    "#If you have a collection values in a list,tuples,etc .Python allows you to \n",
    "#extract values into variables.This is called unpacking.\n"
   ]
  },
  {
   "cell_type": "code",
   "execution_count": 10,
   "id": "ab9f62e7-0b86-4f1f-adca-443c26e6f038",
   "metadata": {},
   "outputs": [
    {
     "name": "stdout",
     "output_type": "stream",
     "text": [
      "apple\n",
      "banana\n",
      "cherry\n"
     ]
    }
   ],
   "source": [
    "fruits = [\"apple\",\"banana\",\"cherry\"]\n",
    "x,y,z = fruits\n",
    "print(x)\n",
    "print(y)\n",
    "print(z)"
   ]
  },
  {
   "cell_type": "code",
   "execution_count": null,
   "id": "dd6d3fad-32f4-420a-8af2-4abf5028ea7b",
   "metadata": {},
   "outputs": [],
   "source": [
    "#Python - Output variables\n",
    "#Output variables \n",
    "#Python print() function is often used to output variables.\n"
   ]
  },
  {
   "cell_type": "code",
   "execution_count": 11,
   "id": "ff2f42d7-1e60-4bcc-8cfb-339d9bae2a43",
   "metadata": {},
   "outputs": [
    {
     "name": "stdout",
     "output_type": "stream",
     "text": [
      "python is awesome\n"
     ]
    }
   ],
   "source": [
    "x = \"python\"\n",
    "y  =\"is\"\n",
    "z = \"awesome\"\n",
    "\n",
    "print(x,y,z)\n",
    "#print function can print the simultaneous variables"
   ]
  },
  {
   "cell_type": "code",
   "execution_count": 14,
   "id": "274a775c-71f7-4a87-a6cd-d8cfeb1203a6",
   "metadata": {},
   "outputs": [
    {
     "name": "stdout",
     "output_type": "stream",
     "text": [
      "Pythonisawesome\n"
     ]
    }
   ],
   "source": [
    "x = \"Python\"\n",
    "y = \"is\"\n",
    "z = \"awesome\"\n",
    "print(x + y + z)"
   ]
  },
  {
   "cell_type": "code",
   "execution_count": null,
   "id": "4eff1595-aa72-4649-abb4-3267e2276763",
   "metadata": {},
   "outputs": [],
   "source": [
    "#Print function , uses '+' operator  to combine string "
   ]
  },
  {
   "cell_type": "code",
   "execution_count": null,
   "id": "fda88438-c3fd-4c98-aad7-453fabd46df3",
   "metadata": {},
   "outputs": [],
   "source": [
    "#In print() function,when you try to combine a string and a \n",
    "#number with the  + operator ,python wil give you an error."
   ]
  },
  {
   "cell_type": "code",
   "execution_count": null,
   "id": "1cb8f5e0-fa8d-45bc-8a16-f019ae87aaf8",
   "metadata": {},
   "outputs": [],
   "source": [
    "#Python  Global Variables:-\n",
    "#Variables that are created outside of function are known as global variables.\n"
   ]
  },
  {
   "cell_type": "code",
   "execution_count": 15,
   "id": "a8643d73-05a2-4908-8724-57ec97afe0af",
   "metadata": {},
   "outputs": [
    {
     "name": "stdout",
     "output_type": "stream",
     "text": [
      "Python is awesome\n"
     ]
    }
   ],
   "source": [
    "x = \"awesome\"\n",
    "\n",
    "def myfunc():\n",
    "    print(\"Python is \" + x)\n",
    "myfunc()    "
   ]
  },
  {
   "cell_type": "code",
   "execution_count": null,
   "id": "ab75e28b-3c85-46f7-aa07-9c03c54282d2",
   "metadata": {},
   "outputs": [],
   "source": [
    "#If you create a variable with the same name inside a function,\n",
    "#this variable will be local,and can only be used inside the function..the global variable withh the sam name \n",
    "#will remain as it was,global and with the original value."
   ]
  },
  {
   "cell_type": "code",
   "execution_count": 16,
   "id": "d961152a-aa1d-4ed3-89ba-dcae66f7b897",
   "metadata": {},
   "outputs": [
    {
     "name": "stdout",
     "output_type": "stream",
     "text": [
      "Python is fantastic\n",
      "pythom isawesome\n"
     ]
    }
   ],
   "source": [
    " x  = \"awesome\"\n",
    "\n",
    "def myfunc():\n",
    "    x = \"fantastic\"\n",
    "    print(\"Python is \" + x)\n",
    "myfunc() \n",
    "\n",
    "print(\"pythom is\" + x)"
   ]
  },
  {
   "cell_type": "code",
   "execution_count": null,
   "id": "af72b42e-97a3-4446-b7c5-f1f0a7c4cc89",
   "metadata": {},
   "outputs": [],
   "source": [
    "#if you use the globa keyword ,the variable belongs to the global scope:"
   ]
  },
  {
   "cell_type": "code",
   "execution_count": 17,
   "id": "79220572-65ba-4c62-b9ce-a16e51c0acaa",
   "metadata": {},
   "outputs": [
    {
     "name": "stdout",
     "output_type": "stream",
     "text": [
      "Python isfantastic\n"
     ]
    }
   ],
   "source": [
    "def myfunc():\n",
    "    global x\n",
    "    x = \"fantastic\"\n",
    "myfunc()\n",
    "\n",
    "print(\"Python is\" + x) "
   ]
  },
  {
   "cell_type": "code",
   "execution_count": 18,
   "id": "4ed8911f-faf5-4775-b60c-b842dd0d763f",
   "metadata": {},
   "outputs": [
    {
     "name": "stdout",
     "output_type": "stream",
     "text": [
      "Python is fantastic\n"
     ]
    }
   ],
   "source": [
    "x = \"awesome\"\n",
    "\n",
    "def my_func():\n",
    "    global x\n",
    "    x = \"fantastic\"\n",
    "\n",
    "my_func()\n",
    "\n",
    "print(\"Python is \" + x) "
   ]
  },
  {
   "cell_type": "code",
   "execution_count": null,
   "id": "321742dc-9e79-40d6-9907-8f78aa7b3911",
   "metadata": {},
   "outputs": [],
   "source": []
  }
 ],
 "metadata": {
  "kernelspec": {
   "display_name": "Python 3 (ipykernel)",
   "language": "python",
   "name": "python3"
  },
  "language_info": {
   "codemirror_mode": {
    "name": "ipython",
    "version": 3
   },
   "file_extension": ".py",
   "mimetype": "text/x-python",
   "name": "python",
   "nbconvert_exporter": "python",
   "pygments_lexer": "ipython3",
   "version": "3.13.0"
  }
 },
 "nbformat": 4,
 "nbformat_minor": 5
}
