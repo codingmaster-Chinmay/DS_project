{
 "cells": [
  {
   "cell_type": "code",
   "execution_count": null,
   "id": "17e306c7-1e7a-4a5b-a3ee-3b863ac46271",
   "metadata": {},
   "outputs": [],
   "source": [
    "#Conditionals: - \n",
    "#We assume everytime that if this happends this will be the result \n",
    "#In python loops and conditions are based on true or false conditions\n",
    "\n",
    "\n",
    "#IF - ELSE LOOP"
   ]
  },
  {
   "cell_type": "code",
   "execution_count": 1,
   "id": "46b634a0-68c3-413b-814c-16085a357e5b",
   "metadata": {},
   "outputs": [
    {
     "ename": "SyntaxError",
     "evalue": "invalid syntax (1719057058.py, line 1)",
     "output_type": "error",
     "traceback": [
      "\u001b[1;36m  Cell \u001b[1;32mIn[1], line 1\u001b[1;36m\u001b[0m\n\u001b[1;33m    Syntax: -\u001b[0m\n\u001b[1;37m              ^\u001b[0m\n\u001b[1;31mSyntaxError\u001b[0m\u001b[1;31m:\u001b[0m invalid syntax\n"
     ]
    }
   ],
   "source": [
    "Syntax: - \n",
    "if True:\n",
    "    pass -# (statement /block of statment executed if condition is true)\n",
    "else:\n",
    "    pass\n",
    "\n",
    "    "
   ]
  },
  {
   "cell_type": "code",
   "execution_count": 5,
   "id": "6b37e7ef-651d-4664-85a8-4ccfcb8e48b2",
   "metadata": {},
   "outputs": [
    {
     "name": "stdout",
     "output_type": "stream",
     "text": [
      "Divisble by 2\n"
     ]
    }
   ],
   "source": [
    "#Number \n",
    "num = 20\n",
    "\n",
    "if num%2 == 0:\n",
    "    #modulus sign - % -> gives remainder after divisiom\\n\n",
    "    print(\"Divisble by 2\") \n",
    "    #here the if condition is true for the number it is executed \n",
    "else:\n",
    "    print(\"Not divisible by 2\")"
   ]
  },
  {
   "cell_type": "code",
   "execution_count": 1,
   "id": "79d96152-fc58-448f-bba3-b4b919ac3a38",
   "metadata": {},
   "outputs": [
    {
     "name": "stdout",
     "output_type": "stream",
     "text": [
      "Not divisible by 2\n"
     ]
    }
   ],
   "source": [
    "num1 = 25\n",
    "if num1%2 == 0:\n",
    "    print(\"Divisible by 2\")\n",
    "else:\n",
    "    print(\"Not divisible by 2\")\n",
    "    "
   ]
  },
  {
   "cell_type": "code",
   "execution_count": null,
   "id": "5516203c-bacf-4b15-bf02-582305b7dba4",
   "metadata": {},
   "outputs": [],
   "source": []
  },
  {
   "cell_type": "code",
   "execution_count": 3,
   "id": "2bf1c6b7-65c6-455d-a529-96284307f4c8",
   "metadata": {},
   "outputs": [
    {
     "name": "stdout",
     "output_type": "stream",
     "text": [
      "Divisible by 5 \n"
     ]
    }
   ],
   "source": [
    "#else - if:-\n",
    "#if there are multiple conditions in a code for e.g - if number is divisible\n",
    "#or not divisible by 2 and number is divisible by 5 or not divisible by 5\n",
    "\n",
    "#else - if = elif ->\n",
    "\n",
    "num = 25\n",
    "\n",
    "if num%2 == 0:\n",
    "    print('Divisible by 2')\n",
    "elif num%5 == 0:\n",
    "    print('Divisible by 5 ')\n",
    "    # as input is 25 the elif part will get executed \n",
    "\n",
    "else:\n",
    "    print(\"Divisible by 5 or 2\")\n",
    "\n",
    "    \n"
   ]
  },
  {
   "cell_type": "code",
   "execution_count": null,
   "id": "fee42518-6df7-4e1f-a93b-a456d0d6ff1d",
   "metadata": {},
   "outputs": [],
   "source": [
    "#operators:-\n",
    "# = -> assignment operator used to assign value to variable\n",
    "# % -> modulus operator used to get remainder of the operation\n",
    "# == -> comparison operator used to check equal or not\n"
   ]
  },
  {
   "cell_type": "code",
   "execution_count": 5,
   "id": "e93dd381-2924-4f61-8ba7-62f94b1cb3d4",
   "metadata": {},
   "outputs": [
    {
     "name": "stdout",
     "output_type": "stream",
     "text": [
      "less than 50\n"
     ]
    }
   ],
   "source": [
    "#program for checking number greater than or less than fifty\n",
    "\n",
    "num = 45\n",
    "if num > 50:\n",
    "    print(\"Yes\")\n",
    "elif  num < 50:\n",
    "    print(\"less than 50\") # will get executed because the number is less than 50\n",
    "else:\n",
    "    print('fifty')"
   ]
  },
  {
   "cell_type": "code",
   "execution_count": 6,
   "id": "00ed7be7-4eb9-4b1e-bca4-467392f7e0b3",
   "metadata": {},
   "outputs": [
    {
     "name": "stdout",
     "output_type": "stream",
     "text": [
      "yes\n"
     ]
    }
   ],
   "source": [
    "num = 51\n",
    "\n",
    "if num >= 50:\n",
    "    print(\"yes\")\n",
    "elif num <= 50:\n",
    "    print('less than 50 or 50')\n",
    "else:\n",
    "    print('I dont know')"
   ]
  },
  {
   "cell_type": "code",
   "execution_count": 17,
   "id": "a0063c1f-c7e1-41e6-97a0-eea0b8296013",
   "metadata": {},
   "outputs": [],
   "source": [
    "#nested if-else:\n",
    "\n",
    "#there is another if in existing if condition\n",
    "\n",
    "num = 202\n",
    "if num % 2 == 0:\n",
    "    if num % 5 == 0:\n",
    "        print(\"Yes it is divisible by both 5 and 2\")\n",
    "    \n",
    "else:\n",
    "    print(\"it is divisible by 2 but not 5.\")"
   ]
  },
  {
   "cell_type": "code",
   "execution_count": 18,
   "id": "ecfdf401-2a51-4b26-8382-3cd6b930f0b3",
   "metadata": {},
   "outputs": [
    {
     "name": "stdout",
     "output_type": "stream",
     "text": [
      "Yes it is divisible by both 5 and 2\n"
     ]
    }
   ],
   "source": [
    "#instead of using different if statments use 'and' operator\n",
    "num = 210\n",
    "if num%2 == 0 and num %5 == 0:\n",
    "    print(\"Yes it is divisible by both 5 and 2\")"
   ]
  },
  {
   "cell_type": "code",
   "execution_count": null,
   "id": "b8fd8b0c-2f36-498f-a6bb-01f096b605ee",
   "metadata": {},
   "outputs": [],
   "source": [
    "#if we want either of the one condition use 'or' statement\n",
    "\n",
    "# boolean operators:-\n",
    "#and - &&\n",
    "\n",
    "#or - ||\n",
    "\n",
    "\n",
    "\n",
    "\n"
   ]
  },
  {
   "cell_type": "code",
   "execution_count": 20,
   "id": "11f2f8dd-8e70-45bb-a33a-8fb17ae7ec8f",
   "metadata": {},
   "outputs": [
    {
     "name": "stdout",
     "output_type": "stream",
     "text": [
      "not zero\n"
     ]
    }
   ],
   "source": [
    "#not equals to operator - '!='\n",
    "\n",
    "if num != 0:\n",
    "    print(\"not zero\")"
   ]
  },
  {
   "cell_type": "code",
   "execution_count": null,
   "id": "7fd95838-c609-4ed5-a1b3-39a92999a743",
   "metadata": {},
   "outputs": [],
   "source": [
    "#LOOPS:-\n",
    "# 2 loops \n",
    "#1.for loop\n",
    "#2. while loop\n",
    "\n"
   ]
  },
  {
   "cell_type": "code",
   "execution_count": 21,
   "id": "4b9de187-19b3-4d61-b0af-02db947fca65",
   "metadata": {},
   "outputs": [],
   "source": [
    "#FOR LOOP : - \n",
    "#for loop is definite loop which iterates the values and continues until and unless \n",
    "#the loop is not terminated explicitly\n",
    "# for loop has initialization ,termination and increment or decrement value\n"
   ]
  },
  {
   "cell_type": "code",
   "execution_count": null,
   "id": "b7e6e0d4-2a7b-4d0f-a3dc-e8fa65f65262",
   "metadata": {},
   "outputs": [],
   "source": [
    "#print the values from 1 to 10 using for loop\n",
    "\n",
    "# syntax->\n",
    "\n",
    "for i in range (range)"
   ]
  },
  {
   "cell_type": "code",
   "execution_count": 23,
   "id": "8a66482a-9b44-4556-b5f3-211fb0e31e28",
   "metadata": {},
   "outputs": [
    {
     "name": "stdout",
     "output_type": "stream",
     "text": [
      "0\n",
      "1\n",
      "2\n",
      "3\n",
      "4\n",
      "5\n",
      "6\n",
      "7\n",
      "8\n",
      "9\n"
     ]
    }
   ],
   "source": [
    "for i in range(10):\n",
    "    print(i)\n",
    "    #here the range is defined as 10 which by defualt starts from 0 \n",
    "   # to exlcude zero or specify the range more"
   ]
  },
  {
   "cell_type": "code",
   "execution_count": 24,
   "id": "7dbaac98-72d0-45e6-b9a9-fb3fea95df3c",
   "metadata": {},
   "outputs": [
    {
     "name": "stdout",
     "output_type": "stream",
     "text": [
      "1\n",
      "3\n",
      "5\n",
      "7\n",
      "9\n"
     ]
    }
   ],
   "source": [
    "for i in range(1,10,2):\n",
    "    print(i)\n",
    "    # as we have specified starting value 1 , ending value 10 and increment by 2 "
   ]
  },
  {
   "cell_type": "code",
   "execution_count": 25,
   "id": "7ed9b5b9-4ccb-451e-b3f2-575ae4bc8d5f",
   "metadata": {},
   "outputs": [
    {
     "name": "stdout",
     "output_type": "stream",
     "text": [
      "1\n",
      "2\n",
      "5\n",
      "7\n",
      "8\n",
      "9\n",
      "10\n"
     ]
    }
   ],
   "source": [
    "#iterations:-\n",
    "l = [1,2,5,7,8,9,10]\n",
    "for i in l:\n",
    "    print(i)\n",
    "    #for loop used to just iterate the elements"
   ]
  },
  {
   "cell_type": "code",
   "execution_count": null,
   "id": "f433998a-2d09-45a5-bbe9-c97e8e7ba8a4",
   "metadata": {},
   "outputs": [],
   "source": [
    "#While loop:-\n",
    "#While loops are infintely running loops\n",
    "#they are continuosly running unless the condition does not gets unvalid\n"
   ]
  },
  {
   "cell_type": "code",
   "execution_count": null,
   "id": "3e2df671-3ee8-417c-8004-e9d7c35420bb",
   "metadata": {},
   "outputs": [],
   "source": [
    "#print values from 0 to upto some number n\n",
    "#i = 0\n",
    "\n",
    "#while True:\n",
    "   # print(i)\n",
    "   # i = i + 1\n",
    "#This code should not be run because it gives infinite values and it might create prob for computer\n",
    "\n",
    "    \n",
    "    "
   ]
  },
  {
   "cell_type": "code",
   "execution_count": null,
   "id": "b8d54e65-c2d2-467e-b767-fcd46bb4fd57",
   "metadata": {},
   "outputs": [],
   "source": [
    "i = 0\n",
    "\n",
    "while i <=  10:\n",
    "    print(i)\n",
    "    i = i + 1"
   ]
  },
  {
   "cell_type": "code",
   "execution_count": null,
   "id": "0adb4bc6-d705-418e-9851-456f7ed7fef3",
   "metadata": {},
   "outputs": [],
   "source": [
    "\n",
    "#these are the main two and only loops used in python"
   ]
  },
  {
   "cell_type": "code",
   "execution_count": null,
   "id": "2f0fe095-2d04-494f-8a94-14e67013ee1f",
   "metadata": {},
   "outputs": [],
   "source": [
    "#program to print even numbers between certain range \n",
    "#small program for loops and conditions\n",
    "\n",
    "#print the even numbers from 0 to 100:-\n"
   ]
  },
  {
   "cell_type": "code",
   "execution_count": null,
   "id": "b5074241-8980-450f-be52-b2a2e432ef4b",
   "metadata": {},
   "outputs": [],
   "source": [
    "for i in range(0,101):#why 101 to include 100 ,everytime last number is excluded\n",
    "    if i%2 == 0:\n",
    "        print(i)\n",
    "        \n",
    "        "
   ]
  },
  {
   "cell_type": "code",
   "execution_count": null,
   "id": "0723567f-d8e3-4867-9965-a40191e87ce8",
   "metadata": {},
   "outputs": [],
   "source": [
    "for i in range(0,101):#why 101 to include 100 ,everytime last number is excluded\n",
    "    if i%2 == 0:\n",
    "        print(i)\n",
    "        "
   ]
  },
  {
   "cell_type": "code",
   "execution_count": null,
   "id": "3906faf7-aee5-42ad-8422-44952555c8aa",
   "metadata": {},
   "outputs": [],
   "source": [
    "#conditions and if -else statments:-\n"
   ]
  },
  {
   "cell_type": "code",
   "execution_count": null,
   "id": "79fc3336-a6af-4f40-ba9d-8102c42fbb80",
   "metadata": {},
   "outputs": [],
   "source": [
    "#equals : a == b\n",
    "#Not equals : a != b\n",
    "#less than : a < b\n",
    "#less than or equal to : a <= b\n",
    "#greater than: a > b\n",
    "#greater than or equal to: a>=b"
   ]
  },
  {
   "cell_type": "code",
   "execution_count": null,
   "id": "640b5e2d-0b80-4239-9053-c72285708fef",
   "metadata": {},
   "outputs": [],
   "source": [
    "#if statment - \" if \" keyword"
   ]
  },
  {
   "cell_type": "code",
   "execution_count": 1,
   "id": "33baac75-b8d4-4a25-ad75-937bb56dd61d",
   "metadata": {},
   "outputs": [
    {
     "name": "stdout",
     "output_type": "stream",
     "text": [
      "b is greater than a\n"
     ]
    }
   ],
   "source": [
    "a = 33\n",
    "b = 200\n",
    "if b > a:\n",
    "    print(\"b is greater than a\")"
   ]
  },
  {
   "cell_type": "code",
   "execution_count": 2,
   "id": "0a5c4125-d4c7-48d4-9b8f-5655f87d3439",
   "metadata": {},
   "outputs": [
    {
     "name": "stdout",
     "output_type": "stream",
     "text": [
      "a and b are equal\n"
     ]
    }
   ],
   "source": [
    "#elif :-\n",
    "#elif keyword is python's way of saying \"if the previous conditions were\n",
    "#not true ,then try this condition.\"\n",
    "\n",
    "a = 33\n",
    "b = 33\n",
    "if b>a:\n",
    "    print(\"b is greater than a\")\n",
    "elif a == b:\n",
    "    print(\"a and b are equal\")\n",
    "\n",
    "# elif is used between if and else    \n",
    "    \n",
    "    "
   ]
  },
  {
   "cell_type": "code",
   "execution_count": null,
   "id": "32ac1685-7485-41b8-959b-ff9e43ac5e09",
   "metadata": {},
   "outputs": [],
   "source": [
    "#Else:-\n",
    "#else keyword catches anything which isn't caught by the preceding \n",
    "#conditions."
   ]
  },
  {
   "cell_type": "code",
   "execution_count": 3,
   "id": "cde17bdc-6dce-4477-8c91-a87b46b493df",
   "metadata": {},
   "outputs": [
    {
     "name": "stdout",
     "output_type": "stream",
     "text": [
      "a is greater than b\n"
     ]
    }
   ],
   "source": [
    "a = 200\n",
    "b = 33\n",
    "if b > a:\n",
    "    print(\"b is greater than a\")\n",
    "\n",
    "elif a == b:\n",
    "    print(\"a and b are equal\")\n",
    "else:\n",
    "    print(\"a is greater than b\")\n",
    "    \n",
    "    "
   ]
  },
  {
   "cell_type": "code",
   "execution_count": 2,
   "id": "aa1b4397-9326-436b-9a7b-4b704938bc1f",
   "metadata": {},
   "outputs": [
    {
     "ename": "NameError",
     "evalue": "name 'a' is not defined",
     "output_type": "error",
     "traceback": [
      "\u001b[1;31m---------------------------------------------------------------------------\u001b[0m",
      "\u001b[1;31mNameError\u001b[0m                                 Traceback (most recent call last)",
      "Cell \u001b[1;32mIn[2], line 3\u001b[0m\n\u001b[0;32m      1\u001b[0m \u001b[38;5;66;03m#Short Hand If\u001b[39;00m\n\u001b[0;32m      2\u001b[0m \u001b[38;5;66;03m#if you have only one statement to execute , you can put it on the same line as if statment.\u001b[39;00m\n\u001b[1;32m----> 3\u001b[0m \u001b[38;5;28;01mif\u001b[39;00m a \u001b[38;5;241m>\u001b[39m b: \u001b[38;5;28mprint\u001b[39m(\u001b[38;5;124m\"\u001b[39m\u001b[38;5;124ma is greater than b\u001b[39m\u001b[38;5;124m\"\u001b[39m)\n",
      "\u001b[1;31mNameError\u001b[0m: name 'a' is not defined"
     ]
    }
   ],
   "source": [
    "#Short Hand If\n",
    "#if you have only one statement to execute , you can put it on the same line as if statment.\n",
    "if a > b: print(\"a is greater than b\")"
   ]
  },
  {
   "cell_type": "code",
   "execution_count": 3,
   "id": "dad5c1cb-788b-4e91-b34c-3bba43ae82ef",
   "metadata": {},
   "outputs": [
    {
     "name": "stdout",
     "output_type": "stream",
     "text": [
      "Both conditions are True\n"
     ]
    }
   ],
   "source": [
    "#'And'\n",
    "a = 200\n",
    "b = 33\n",
    "c = 500\n",
    "if a > b and c > a:\n",
    "    print(\"Both conditions are True\")\n",
    "    "
   ]
  },
  {
   "cell_type": "code",
   "execution_count": 4,
   "id": "ed959b61-769e-4a6d-88c5-0f77d70943cc",
   "metadata": {},
   "outputs": [
    {
     "name": "stdout",
     "output_type": "stream",
     "text": [
      "At least one of the conditions is True\n"
     ]
    }
   ],
   "source": [
    "#Or\n",
    "a = 200\n",
    "b = 33\n",
    "c = 500\n",
    "if a > b or a > c:\n",
    "    print(\"At least one of the conditions is True\")"
   ]
  },
  {
   "cell_type": "code",
   "execution_count": 5,
   "id": "73c754d9-734f-4ab5-8541-7524a7de2670",
   "metadata": {},
   "outputs": [
    {
     "name": "stdout",
     "output_type": "stream",
     "text": [
      "a is NOT greater than b\n"
     ]
    }
   ],
   "source": [
    "#\"Not\"\n",
    "a = 33\n",
    "b = 200\n",
    "if not a > b:\n",
    "    print(\"a is NOT greater than b\")"
   ]
  },
  {
   "cell_type": "code",
   "execution_count": 6,
   "id": "5a26886e-c807-4e8f-9e8e-22322a013357",
   "metadata": {},
   "outputs": [
    {
     "name": "stdout",
     "output_type": "stream",
     "text": [
      "Above ten\n",
      "and also above 20!\n"
     ]
    }
   ],
   "source": [
    "#Nested If:-\n",
    "#you can have if statments inside if statments,called nested if\n",
    "x = 41\n",
    "if x > 10:\n",
    "    print(\"Above ten\")\n",
    "    if x > 20:\n",
    "        print(\"and also above 20!\")\n",
    "    else:\n",
    "        print(\"but not above 20.\")\n"
   ]
  },
  {
   "cell_type": "code",
   "execution_count": 7,
   "id": "bd9d8f2a-bdc0-4142-81bd-66ca24878872",
   "metadata": {},
   "outputs": [],
   "source": [
    "#pass statment:\n",
    "a = 33\n",
    "b = 200\n",
    "if b > a:\n",
    "    pass\n",
    "    "
   ]
  }
 ],
 "metadata": {
  "kernelspec": {
   "display_name": "Python 3 (ipykernel)",
   "language": "python",
   "name": "python3"
  },
  "language_info": {
   "codemirror_mode": {
    "name": "ipython",
    "version": 3
   },
   "file_extension": ".py",
   "mimetype": "text/x-python",
   "name": "python",
   "nbconvert_exporter": "python",
   "pygments_lexer": "ipython3",
   "version": "3.13.0"
  }
 },
 "nbformat": 4,
 "nbformat_minor": 5
}
