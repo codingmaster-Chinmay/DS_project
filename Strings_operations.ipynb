{
 "cells": [
  {
   "cell_type": "code",
   "execution_count": null,
   "id": "ff73d404-2878-476e-9a51-fb184856b31a",
   "metadata": {},
   "outputs": [],
   "source": [
    "#STRING SLICING:-\n",
    "#you can return a range of characters by using slicing concept.\n",
    "#you have to specify start index and end index ,seperated by a colon,to return a part of string.\n"
   ]
  },
  {
   "cell_type": "code",
   "execution_count": 1,
   "id": "0351e55b-ec43-49db-ab2e-f3c41b3730b8",
   "metadata": {},
   "outputs": [
    {
     "name": "stdout",
     "output_type": "stream",
     "text": [
      "llo\n"
     ]
    }
   ],
   "source": [
    "b = \"Hello , World!\"\n",
    "print(b[2:5])\n",
    "#slicing is done by using variable name and indexing in square brackets.\n"
   ]
  },
  {
   "cell_type": "code",
   "execution_count": 2,
   "id": "c9814dd8-3bb2-4985-add6-5a4ae5ce7951",
   "metadata": {},
   "outputs": [
    {
     "name": "stdout",
     "output_type": "stream",
     "text": [
      "hello\n"
     ]
    }
   ],
   "source": [
    "#If we want slice from start:-\n",
    "b = \"hello , World!\"\n",
    "print(b[:5])\n"
   ]
  },
  {
   "cell_type": "code",
   "execution_count": 3,
   "id": "0fc8c8d1-4e60-47a2-b77f-76264ca8892f",
   "metadata": {},
   "outputs": [
    {
     "name": "stdout",
     "output_type": "stream",
     "text": [
      "llo, world!\n"
     ]
    }
   ],
   "source": [
    "#slicing to the end:-\n",
    "b = \"Hello, world!\"\n",
    "print(b[2:])"
   ]
  },
  {
   "cell_type": "code",
   "execution_count": null,
   "id": "3124e22d-4611-4c1d-bd4c-ba1625ceb2f9",
   "metadata": {},
   "outputs": [],
   "source": [
    "#Indexing can be done also in reverse way by using negative indexing.\n"
   ]
  },
  {
   "cell_type": "code",
   "execution_count": 5,
   "id": "c7af16cd-7568-47e4-9f08-6e7bf3a701f7",
   "metadata": {},
   "outputs": [
    {
     "name": "stdout",
     "output_type": "stream",
     "text": [
      "orl\n"
     ]
    }
   ],
   "source": [
    "b = \"Hello, world!\"\n",
    "print(b[-5:-2])\n",
    "#now here -2 is index of 'l' and - 5 is index of \n",
    "#always last index is not considered "
   ]
  },
  {
   "cell_type": "code",
   "execution_count": null,
   "id": "52141599-54f0-41ea-bdd3-faae1b0c2157",
   "metadata": {},
   "outputs": [],
   "source": [
    "#MODIFY STRINGS:-\n",
    "#python has many built in methods that you can use on strings."
   ]
  },
  {
   "cell_type": "code",
   "execution_count": 6,
   "id": "38518393-253a-4b7d-b24e-7e02d099bdbd",
   "metadata": {},
   "outputs": [
    {
     "name": "stdout",
     "output_type": "stream",
     "text": [
      "HELLO,WORLD!\n"
     ]
    }
   ],
   "source": [
    "#Uppercase()\n",
    "a = \"Hello,world!\"\n",
    "print(a.upper())\n",
    "#syntax for converting into upper case a.upper()"
   ]
  },
  {
   "cell_type": "code",
   "execution_count": 7,
   "id": "56c303ff-b869-4e23-b8ef-2e7f9a1fc2ba",
   "metadata": {},
   "outputs": [
    {
     "name": "stdout",
     "output_type": "stream",
     "text": [
      "hello,world!\n"
     ]
    }
   ],
   "source": [
    "#Lowercae()\n",
    "a = \"HELLO,WORLD!\"\n",
    "print(a.lower())\n",
    "#prints the string in lower case \n"
   ]
  },
  {
   "cell_type": "code",
   "execution_count": null,
   "id": "89777b12-2b45-4061-ae65-c12bb6d6df3c",
   "metadata": {},
   "outputs": [],
   "source": [
    "#REMOVE WHITESPACE:\n",
    "#whitespace is before /after any text "
   ]
  },
  {
   "cell_type": "code",
   "execution_count": 8,
   "id": "100ef4fa-3526-4bd8-a94a-d416a6741cd8",
   "metadata": {},
   "outputs": [
    {
     "name": "stdout",
     "output_type": "stream",
     "text": [
      "Hello , World!\n"
     ]
    }
   ],
   "source": [
    "a = \" Hello , World! \"\n",
    "print(a.strip())\n",
    "\n",
    "# a has some whitespace before and after the string\n",
    "#to remove the space from beginning or the end\n"
   ]
  },
  {
   "cell_type": "code",
   "execution_count": 9,
   "id": "67b893b0-f955-495f-bc03-2dc25f7e5a61",
   "metadata": {},
   "outputs": [
    {
     "name": "stdout",
     "output_type": "stream",
     "text": [
      "Jello, World!\n"
     ]
    }
   ],
   "source": [
    "#REPLACE STRING:-\n",
    "a = \"Hello, World!\"\n",
    "print(a.replace(\"H\",\"J\"))\n",
    "#the word to be replaced is written first and replaced with what is written next.\n",
    "#replace is used to replace any letter from the given string.\n"
   ]
  },
  {
   "cell_type": "code",
   "execution_count": 10,
   "id": "4e34749d-fefc-44f6-bec3-b862ebf5011b",
   "metadata": {},
   "outputs": [
    {
     "name": "stdout",
     "output_type": "stream",
     "text": [
      "['Hello', ' World!']\n"
     ]
    }
   ],
   "source": [
    "#Split string:-\n",
    "print(a.split(\",\"))\n",
    "#returns ['hello','World!']\n",
    "#it returns a list of words"
   ]
  },
  {
   "cell_type": "code",
   "execution_count": null,
   "id": "f1773273-7594-463c-9796-b94734f09467",
   "metadata": {},
   "outputs": [],
   "source": [
    "#strings methods:-\n",
    "\n"
   ]
  },
  {
   "cell_type": "code",
   "execution_count": null,
   "id": "5eb37a86-ef85-4d40-bd3e-7198e0ad0020",
   "metadata": {},
   "outputs": [],
   "source": [
    "#STRING CONCATENATION:-\n"
   ]
  },
  {
   "cell_type": "code",
   "execution_count": null,
   "id": "17681535-5178-404e-9796-729a2946e207",
   "metadata": {},
   "outputs": [],
   "source": [
    "#STRING CONCATENATION:-\n",
    "#to concatenate ,or combine,two strings you can use the + operator.\n"
   ]
  },
  {
   "cell_type": "code",
   "execution_count": 11,
   "id": "77922f30-ed59-4937-9b5b-7f56e0c8ca6c",
   "metadata": {},
   "outputs": [
    {
     "name": "stdout",
     "output_type": "stream",
     "text": [
      "HelloWorld\n"
     ]
    }
   ],
   "source": [
    "a = \"Hello\"\n",
    "b = \"World\"\n",
    "c = a + b\n",
    "print(c)"
   ]
  },
  {
   "cell_type": "code",
   "execution_count": 12,
   "id": "90b0f672-7c9f-4ec6-926b-2edfc8f23781",
   "metadata": {},
   "outputs": [
    {
     "name": "stdout",
     "output_type": "stream",
     "text": [
      "Hello World\n"
     ]
    }
   ],
   "source": [
    "#can add spaces betweeen the words\n",
    "a= \"Hello\"\n",
    "b = \"World\"\n",
    "c = a + \" \" + b\n",
    "print(c)"
   ]
  },
  {
   "cell_type": "code",
   "execution_count": null,
   "id": "c70efc54-fe90-47bf-b788-9cc3038f6269",
   "metadata": {},
   "outputs": [],
   "source": [
    "#STRING FORMATTING:-\n",
    "#String format:-\n",
    "\n"
   ]
  },
  {
   "cell_type": "code",
   "execution_count": null,
   "id": "0237075c-0088-4399-8895-22a77f8f3cd0",
   "metadata": {},
   "outputs": [],
   "source": [
    "#We can combine strings and numbers by using f - strings or format methos!"
   ]
  },
  {
   "cell_type": "code",
   "execution_count": null,
   "id": "57bf3a02-cb58-4245-9416-e0636fe8a60b",
   "metadata": {},
   "outputs": [],
   "source": [
    "#F - strings:-\n",
    "#To specify string as an f- string ,simply put an 'f' in front of string\n",
    "#andn add curly braces {} for variables and othee operations.\n"
   ]
  },
  {
   "cell_type": "code",
   "execution_count": 13,
   "id": "ebbf7141-2221-4e8f-a3a5-af1ee2c3fabd",
   "metadata": {},
   "outputs": [
    {
     "name": "stdout",
     "output_type": "stream",
     "text": [
      "My name is John , I am 36\n"
     ]
    }
   ],
   "source": [
    "age = 36\n",
    "txt = f\"My name is John , I am {age}\"\n",
    "#f\"\" is used for f string and{} for variables\n",
    "print(txt)"
   ]
  },
  {
   "cell_type": "code",
   "execution_count": null,
   "id": "abe44383-0aae-490d-939f-112f4e9edcc5",
   "metadata": {},
   "outputs": [],
   "source": [
    "#Place Holder:-\n",
    "#place holder is given in {}\n",
    "#It also includes string modifiers too\n",
    "\n",
    "#MODIFIER CAN BE ADDED BY ':'"
   ]
  },
  {
   "cell_type": "code",
   "execution_count": 15,
   "id": "af722b52-a48a-4963-b516-bf2dbc2d97fa",
   "metadata": {},
   "outputs": [
    {
     "name": "stdout",
     "output_type": "stream",
     "text": [
      "The price os 59.00 dollars\n"
     ]
    }
   ],
   "source": [
    "price = 59\n",
    "txt = f\"The price os {price:.2f} dollars\"\n",
    "print(txt)"
   ]
  },
  {
   "cell_type": "code",
   "execution_count": null,
   "id": "29f1e723-8ed7-44d5-8e35-53cbae584fbd",
   "metadata": {},
   "outputs": [],
   "source": [
    "#placeholder can also hold mathematical operations."
   ]
  },
  {
   "cell_type": "code",
   "execution_count": 17,
   "id": "4c031cb9-7db4-4547-b5d4-8f8065697557",
   "metadata": {},
   "outputs": [
    {
     "name": "stdout",
     "output_type": "stream",
     "text": [
      "The price is 1180 dollars\n"
     ]
    }
   ],
   "source": [
    "txt = f\"The price is {20 * 59} dollars\"\n",
    "print(txt)"
   ]
  },
  {
   "cell_type": "code",
   "execution_count": null,
   "id": "01424a95-2f60-477b-b160-aaf58d6484d2",
   "metadata": {},
   "outputs": [],
   "source": [
    "#PYTHON - ESCAPE CHARACTERS:-\n",
    "#to insert characters that are illegal in string ,use an escape character.\n",
    "\n",
    "#An escape character is a backslash \\ followed by character you want"
   ]
  },
  {
   "cell_type": "code",
   "execution_count": 19,
   "id": "e6700d60-fb33-4595-ad43-a26a192bf1a3",
   "metadata": {},
   "outputs": [
    {
     "name": "stdout",
     "output_type": "stream",
     "text": [
      "We are so-called \"vikings\"from the north.\n"
     ]
    }
   ],
   "source": [
    "txt = \"We are so-called \\\"vikings\\\"from the north.\"\n",
    "print(txt)"
   ]
  },
  {
   "cell_type": "code",
   "execution_count": null,
   "id": "afb39703-a92c-4dea-9fa8-5a25d8cf1cda",
   "metadata": {},
   "outputs": [],
   "source": [
    "#\\n - next line\n",
    "#\\'  - single qoute\n",
    "#\\t - tab\n",
    "#\\b - backspace\n",
    "#\\f - form feed\n",
    "#\\ooo - octal value\n",
    "#\\xhh - Hex value"
   ]
  },
  {
   "cell_type": "code",
   "execution_count": null,
   "id": "60077991-440d-4d95-935c-5c16159f36cf",
   "metadata": {},
   "outputs": [],
   "source": [
    "#String Methods:-\n",
    "#python has a set of build - in methods that you can use a on strings\n"
   ]
  },
  {
   "cell_type": "code",
   "execution_count": 20,
   "id": "90aff2db-1627-46c3-ba7f-f9424db7037e",
   "metadata": {},
   "outputs": [
    {
     "name": "stdout",
     "output_type": "stream",
     "text": [
      "Chinmay\n"
     ]
    }
   ],
   "source": [
    "name = \"Chinmay\"\n",
    "print(name)"
   ]
  },
  {
   "cell_type": "code",
   "execution_count": 21,
   "id": "60152121-e4c4-4bf1-9434-688d7e85d90a",
   "metadata": {},
   "outputs": [
    {
     "data": {
      "text/plain": [
       "'Chinmay'"
      ]
     },
     "execution_count": 21,
     "metadata": {},
     "output_type": "execute_result"
    }
   ],
   "source": [
    "#Capitalize - converts first character to upper case\n",
    "name.capitalize()"
   ]
  },
  {
   "cell_type": "code",
   "execution_count": 22,
   "id": "121b1dae-289b-4a10-9893-e84e7a826bf1",
   "metadata": {},
   "outputs": [
    {
     "data": {
      "text/plain": [
       "'chinmay'"
      ]
     },
     "execution_count": 22,
     "metadata": {},
     "output_type": "execute_result"
    }
   ],
   "source": [
    "#casefold - converts string into lower case\n",
    "name.casefold()"
   ]
  },
  {
   "cell_type": "code",
   "execution_count": 35,
   "id": "8419714e-b020-485a-ac07-5383c5b07132",
   "metadata": {},
   "outputs": [
    {
     "name": "stdout",
     "output_type": "stream",
     "text": [
      "       banana       \n"
     ]
    }
   ],
   "source": [
    "txt = \"banana\"\n",
    "x = txt.center(20)\n",
    "#center creates spaces of index mentioned as parameter.\n",
    "#center () method will center align the string\n",
    "print(x)"
   ]
  },
  {
   "cell_type": "code",
   "execution_count": 37,
   "id": "dfd857ca-0fd3-4ca1-b066-da3318819596",
   "metadata": {},
   "outputs": [
    {
     "name": "stdout",
     "output_type": "stream",
     "text": [
      "2\n"
     ]
    }
   ],
   "source": [
    "#count()\n",
    "txt = \"I love apples, apple are my favourite fruit\"\n",
    "x = txt.count(\"apple\")\n",
    "print(x)\n",
    "#count() - is used to count how many times the value has been repeated."
   ]
  },
  {
   "cell_type": "code",
   "execution_count": 40,
   "id": "088ed30c-7048-4fdf-82d4-575fb24cbff0",
   "metadata": {},
   "outputs": [
    {
     "name": "stdout",
     "output_type": "stream",
     "text": [
      "b'My name is Stale'\n"
     ]
    }
   ],
   "source": [
    "#encode:-\n",
    "text = \"My name is Stale\"\n",
    "x = text.encode()\n",
    "\n",
    "print(x)\n"
   ]
  },
  {
   "cell_type": "code",
   "execution_count": 42,
   "id": "096c66b9-cde2-4b5f-96a1-db20c389fd6b",
   "metadata": {},
   "outputs": [
    {
     "name": "stdout",
     "output_type": "stream",
     "text": [
      "True\n"
     ]
    }
   ],
   "source": [
    "txt = \"Hello, welcome to my world.\"\n",
    "x = txt.endswith(\".\")\n",
    "#if something ends with some value then it returns true \n",
    "print(x)"
   ]
  },
  {
   "cell_type": "code",
   "execution_count": 46,
   "id": "eccb147e-869b-4bdc-ab8f-b3c983fa1f9a",
   "metadata": {},
   "outputs": [
    {
     "name": "stdout",
     "output_type": "stream",
     "text": [
      "6\n"
     ]
    }
   ],
   "source": [
    "#index() - finds specified value and returns the position of where it was found\n",
    "txt = \"Hello,welcome to my world.\"\n",
    "x = txt.index(\"welcome\")\n",
    "print(x)"
   ]
  },
  {
   "cell_type": "code",
   "execution_count": null,
   "id": "73d2348d-d1ca-4eee-9c18-28eddc95a27b",
   "metadata": {},
   "outputs": [],
   "source": [
    "#index() method is almost the same as method().\n"
   ]
  },
  {
   "cell_type": "code",
   "execution_count": 47,
   "id": "ec46801a-82d4-48a3-93c8-75a624d254b0",
   "metadata": {},
   "outputs": [
    {
     "name": "stdout",
     "output_type": "stream",
     "text": [
      "True\n"
     ]
    }
   ],
   "source": [
    "txt = \"Company12\"\n",
    "x = txt.isalnum()\n",
    "# isalnum is used to know whether the following value is alpha numeric or not.\n",
    "\n",
    "print(x)"
   ]
  },
  {
   "cell_type": "code",
   "execution_count": 48,
   "id": "ef983a31-8f4b-410f-a049-824e16678314",
   "metadata": {},
   "outputs": [
    {
     "data": {
      "text/plain": [
       "True"
      ]
     },
     "execution_count": 48,
     "metadata": {},
     "output_type": "execute_result"
    }
   ],
   "source": [
    "#isalpha - returns true if all characters in string are alphabet.\n",
    "y = \"Chinmay\"\n",
    "y.isalpha()"
   ]
  },
  {
   "cell_type": "code",
   "execution_count": 49,
   "id": "fae16f19-8288-48be-86aa-233822c59d75",
   "metadata": {},
   "outputs": [
    {
     "data": {
      "text/plain": [
       "True"
      ]
     },
     "execution_count": 49,
     "metadata": {},
     "output_type": "execute_result"
    }
   ],
   "source": [
    "#isdecimal() - returns True if all characters in the string are digits.\n",
    "num = \"123456\"\n",
    "num.isdecimal()"
   ]
  },
  {
   "cell_type": "code",
   "execution_count": null,
   "id": "eb747ad2-aee3-4ae1-b5c3-fa1946d16e8a",
   "metadata": {},
   "outputs": [],
   "source": [
    "#isdigit()\n",
    "#returns true if all characters in the string are digits.\n"
   ]
  },
  {
   "cell_type": "code",
   "execution_count": 50,
   "id": "7d999129-186d-472d-aa64-d71cf9a3fb4b",
   "metadata": {},
   "outputs": [
    {
     "data": {
      "text/plain": [
       "True"
      ]
     },
     "execution_count": 50,
     "metadata": {},
     "output_type": "execute_result"
    }
   ],
   "source": [
    "txt1 = \"50800\"\n",
    "txt1.isdigit()"
   ]
  },
  {
   "cell_type": "code",
   "execution_count": 52,
   "id": "996ec25c-99bd-4c2f-a246-6f30f9dec3b0",
   "metadata": {},
   "outputs": [
    {
     "name": "stdout",
     "output_type": "stream",
     "text": [
      "True\n"
     ]
    }
   ],
   "source": [
    "#isidentifier :-\n",
    "#identifier is valid when it only contains alphanumeric letters(a-z)\n",
    "#and (0-9), and (0-9) or underscores(_) \n",
    "txt = \"Demo\"\n",
    "x= txt.isidentifier()\n",
    "print(x)"
   ]
  },
  {
   "cell_type": "code",
   "execution_count": null,
   "id": "4ed5fa66-6b04-408c-8301-6c674f66fd55",
   "metadata": {},
   "outputs": [],
   "source": [
    "#isupper() - returns  true if all characters in the string are lower\n",
    "#islower() - returns true if all characters in the string are upper"
   ]
  },
  {
   "cell_type": "code",
   "execution_count": null,
   "id": "25859955-e8f0-4614-9d7a-15644cc9b546",
   "metadata": {},
   "outputs": [],
   "source": [
    "#isnumeric - returns true if all characters in the string are numeric are not."
   ]
  },
  {
   "cell_type": "code",
   "execution_count": 53,
   "id": "ce66e6a8-2f70-4cb2-ae12-41e6d74e5d6f",
   "metadata": {},
   "outputs": [
    {
     "data": {
      "text/plain": [
       "True"
      ]
     },
     "execution_count": 53,
     "metadata": {},
     "output_type": "execute_result"
    }
   ],
   "source": [
    "num1 = \"564736\"\n",
    "num1.isnumeric()"
   ]
  }
 ],
 "metadata": {
  "kernelspec": {
   "display_name": "Python 3 (ipykernel)",
   "language": "python",
   "name": "python3"
  },
  "language_info": {
   "codemirror_mode": {
    "name": "ipython",
    "version": 3
   },
   "file_extension": ".py",
   "mimetype": "text/x-python",
   "name": "python",
   "nbconvert_exporter": "python",
   "pygments_lexer": "ipython3",
   "version": "3.13.0"
  }
 },
 "nbformat": 4,
 "nbformat_minor": 5
}
